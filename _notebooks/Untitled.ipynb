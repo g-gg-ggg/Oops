{
 "cells": [
  {
   "cell_type": "code",
   "execution_count": 1,
   "id": "db171b0d-8db3-497a-b0e3-198c9432d8d2",
   "metadata": {},
   "outputs": [],
   "source": [
    "import pandas as pd\n",
    "import numpy as np\n",
    "import scipy.stats as stats\n",
    "from itertools import product\n",
    "\n",
    "import matplotlib.pyplot as plt\n",
    "%matplotlib inline"
   ]
  },
  {
   "cell_type": "markdown",
   "id": "090baf7e-ca8a-45cb-8641-081ee0b55d30",
   "metadata": {},
   "source": [
    "# 빅데이터 개론 정리(중간 이후)\n",
    "> 11월 1일 ~\n",
    "\n",
    "- toc: true \n",
    "- badges: true\n",
    "- comments: true\n",
    "- author : 김혜지\n",
    "- categories: [python]"
   ]
  },
  {
   "cell_type": "markdown",
   "id": "6e920d77-97d0-4729-973d-d1c5af9bdbf9",
   "metadata": {
    "tags": []
   },
   "source": [
    "# 함수\n"
   ]
  },
  {
   "cell_type": "markdown",
   "id": "cb1ac709-46e6-4b0c-b09b-5923ad9b9c6d",
   "metadata": {},
   "source": [
    "## np"
   ]
  },
  {
   "cell_type": "code",
   "execution_count": 3,
   "id": "6b9d09fb-5967-47ce-b480-9ffd5cea1a09",
   "metadata": {},
   "outputs": [
    {
     "data": {
      "text/plain": [
       "1.4142135623730951"
      ]
     },
     "execution_count": 3,
     "metadata": {},
     "output_type": "execute_result"
    }
   ],
   "source": [
    "np.sqrt(2)"
   ]
  },
  {
   "cell_type": "code",
   "execution_count": 5,
   "id": "39a1873d-4f67-434e-8fcb-2b42a3e2ffc3",
   "metadata": {},
   "outputs": [
    {
     "data": {
      "text/plain": [
       "2.302585092994046"
      ]
     },
     "execution_count": 5,
     "metadata": {},
     "output_type": "execute_result"
    }
   ],
   "source": [
    "np.log(10)"
   ]
  },
  {
   "cell_type": "code",
   "execution_count": 7,
   "id": "fc574e21-438d-42c5-9de0-6872405c7604",
   "metadata": {},
   "outputs": [
    {
     "data": {
      "text/plain": [
       "0.1411200080598672"
      ]
     },
     "execution_count": 7,
     "metadata": {},
     "output_type": "execute_result"
    }
   ],
   "source": [
    "np.sin(3)"
   ]
  },
  {
   "cell_type": "code",
   "execution_count": 8,
   "id": "01fb1aaa-0624-4733-8417-06d39101e73d",
   "metadata": {},
   "outputs": [
    {
     "data": {
      "text/plain": [
       "array([0, 1, 2, 3, 4, 5, 6, 7, 8, 9])"
      ]
     },
     "execution_count": 8,
     "metadata": {},
     "output_type": "execute_result"
    }
   ],
   "source": [
    "np.arange(10)"
   ]
  },
  {
   "cell_type": "code",
   "execution_count": 9,
   "id": "4bbc815e-b98b-4271-a05f-0cb4d27c2b76",
   "metadata": {},
   "outputs": [
    {
     "data": {
      "text/plain": [
       "array([10. , 10.5, 11. , 11.5, 12. , 12.5, 13. , 13.5, 14. , 14.5, 15. ,\n",
       "       15.5, 16. , 16.5, 17. , 17.5, 18. , 18.5, 19. , 19.5])"
      ]
     },
     "execution_count": 9,
     "metadata": {},
     "output_type": "execute_result"
    }
   ],
   "source": [
    "np.arange(10,20,0.5)"
   ]
  },
  {
   "cell_type": "code",
   "execution_count": 11,
   "id": "3df64e76-54aa-4964-a42b-ab88ebb632e5",
   "metadata": {},
   "outputs": [],
   "source": [
    "a = np.arange(10)"
   ]
  },
  {
   "cell_type": "code",
   "execution_count": 12,
   "id": "f61b79f2-e830-4885-bcae-867057fa4a83",
   "metadata": {},
   "outputs": [
    {
     "data": {
      "text/plain": [
       "(9, 9)"
      ]
     },
     "execution_count": 12,
     "metadata": {},
     "output_type": "execute_result"
    }
   ],
   "source": [
    "max(a), np.max(a)"
   ]
  },
  {
   "cell_type": "code",
   "execution_count": 13,
   "id": "53c23251-3a6e-4d72-af7e-d8d9c66bd645",
   "metadata": {},
   "outputs": [
    {
     "data": {
      "text/plain": [
       "(45, 45)"
      ]
     },
     "execution_count": 13,
     "metadata": {},
     "output_type": "execute_result"
    }
   ],
   "source": [
    "sum(a), np.sum(a)"
   ]
  },
  {
   "cell_type": "code",
   "execution_count": 14,
   "id": "5596c9b8-34bf-4a4e-9791-ba00c1ce28ac",
   "metadata": {},
   "outputs": [
    {
     "data": {
      "text/plain": [
       "4.5"
      ]
     },
     "execution_count": 14,
     "metadata": {},
     "output_type": "execute_result"
    }
   ],
   "source": [
    "np.mean(a)"
   ]
  },
  {
   "cell_type": "code",
   "execution_count": 16,
   "id": "6b50d211-5425-4d77-8683-98bd6e36f376",
   "metadata": {},
   "outputs": [
    {
     "data": {
      "text/plain": [
       "array([ 0,  1,  3,  6, 10, 15, 21, 28, 36, 45])"
      ]
     },
     "execution_count": 16,
     "metadata": {},
     "output_type": "execute_result"
    }
   ],
   "source": [
    "np.cumsum(a) # x 의 원소들의 누적합(cumulative sum)"
   ]
  },
  {
   "cell_type": "markdown",
   "id": "ceb68c7f-824f-47b4-be77-e2d9b0c774c4",
   "metadata": {
    "tags": []
   },
   "source": [
    "## 함수 만들기"
   ]
  },
  {
   "cell_type": "markdown",
   "id": "fad2096c-5d72-4d55-8e42-9e6296ba8e7d",
   "metadata": {},
   "source": [
    "### 숫자 벡터 또는 리스트에 있는 양수들의 합"
   ]
  },
  {
   "cell_type": "code",
   "execution_count": 18,
   "id": "2df1bf06-41f0-4526-a647-326a03969b6f",
   "metadata": {},
   "outputs": [
    {
     "data": {
      "text/plain": [
       "45"
      ]
     },
     "execution_count": 18,
     "metadata": {},
     "output_type": "execute_result"
    }
   ],
   "source": [
    "my_numbers = np.arange(-10,10)\n",
    "\n",
    "my_sum = 0\n",
    "for value in my_numbers :\n",
    "  if value > 0 :\n",
    "    my_sum = my_sum + value\n",
    "\n",
    "my_sum"
   ]
  },
  {
   "cell_type": "code",
   "execution_count": null,
   "id": "11f133cd-d1c0-4fd4-86cc-a38ef454bfe8",
   "metadata": {},
   "outputs": [],
   "source": []
  }
 ],
 "metadata": {
  "kernelspec": {
   "display_name": "Python 3 (ipykernel)",
   "language": "python",
   "name": "python3"
  },
  "language_info": {
   "codemirror_mode": {
    "name": "ipython",
    "version": 3
   },
   "file_extension": ".py",
   "mimetype": "text/x-python",
   "name": "python",
   "nbconvert_exporter": "python",
   "pygments_lexer": "ipython3",
   "version": "3.9.12"
  }
 },
 "nbformat": 4,
 "nbformat_minor": 5
}
