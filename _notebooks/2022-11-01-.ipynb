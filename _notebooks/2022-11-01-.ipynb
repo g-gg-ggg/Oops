{
 "cells": [
  {
   "cell_type": "code",
   "execution_count": 1,
   "id": "db171b0d-8db3-497a-b0e3-198c9432d8d2",
   "metadata": {},
   "outputs": [],
   "source": [
    "import pandas as pd\n",
    "import numpy as np\n",
    "import scipy.stats as stats\n",
    "from itertools import product\n",
    "\n",
    "import matplotlib.pyplot as plt\n",
    "%matplotlib inline"
   ]
  },
  {
   "cell_type": "markdown",
   "id": "090baf7e-ca8a-45cb-8641-081ee0b55d30",
   "metadata": {},
   "source": [
    "# 빅데이터 개론 정리(중간 이후)\n",
    "> 11월 1일 ~\n",
    "\n",
    "- toc: true \n",
    "- badges: true\n",
    "- comments: true\n",
    "- author : 김혜지\n",
    "- categories: [python]"
   ]
  },
  {
   "cell_type": "markdown",
   "id": "6e920d77-97d0-4729-973d-d1c5af9bdbf9",
   "metadata": {
    "tags": []
   },
   "source": [
    "# 함수\n"
   ]
  },
  {
   "cell_type": "markdown",
   "id": "cb1ac709-46e6-4b0c-b09b-5923ad9b9c6d",
   "metadata": {},
   "source": [
    "## np"
   ]
  },
  {
   "cell_type": "code",
   "execution_count": 3,
   "id": "6b9d09fb-5967-47ce-b480-9ffd5cea1a09",
   "metadata": {},
   "outputs": [
    {
     "data": {
      "text/plain": [
       "1.4142135623730951"
      ]
     },
     "execution_count": 3,
     "metadata": {},
     "output_type": "execute_result"
    }
   ],
   "source": [
    "np.sqrt(2)"
   ]
  },
  {
   "cell_type": "code",
   "execution_count": 5,
   "id": "39a1873d-4f67-434e-8fcb-2b42a3e2ffc3",
   "metadata": {},
   "outputs": [
    {
     "data": {
      "text/plain": [
       "2.302585092994046"
      ]
     },
     "execution_count": 5,
     "metadata": {},
     "output_type": "execute_result"
    }
   ],
   "source": [
    "np.log(10)"
   ]
  },
  {
   "cell_type": "code",
   "execution_count": 7,
   "id": "fc574e21-438d-42c5-9de0-6872405c7604",
   "metadata": {},
   "outputs": [
    {
     "data": {
      "text/plain": [
       "0.1411200080598672"
      ]
     },
     "execution_count": 7,
     "metadata": {},
     "output_type": "execute_result"
    }
   ],
   "source": [
    "np.sin(3)"
   ]
  },
  {
   "cell_type": "code",
   "execution_count": 8,
   "id": "01fb1aaa-0624-4733-8417-06d39101e73d",
   "metadata": {},
   "outputs": [
    {
     "data": {
      "text/plain": [
       "array([0, 1, 2, 3, 4, 5, 6, 7, 8, 9])"
      ]
     },
     "execution_count": 8,
     "metadata": {},
     "output_type": "execute_result"
    }
   ],
   "source": [
    "np.arange(10)"
   ]
  },
  {
   "cell_type": "code",
   "execution_count": 9,
   "id": "4bbc815e-b98b-4271-a05f-0cb4d27c2b76",
   "metadata": {},
   "outputs": [
    {
     "data": {
      "text/plain": [
       "array([10. , 10.5, 11. , 11.5, 12. , 12.5, 13. , 13.5, 14. , 14.5, 15. ,\n",
       "       15.5, 16. , 16.5, 17. , 17.5, 18. , 18.5, 19. , 19.5])"
      ]
     },
     "execution_count": 9,
     "metadata": {},
     "output_type": "execute_result"
    }
   ],
   "source": [
    "np.arange(10,20,0.5)"
   ]
  },
  {
   "cell_type": "code",
   "execution_count": 11,
   "id": "3df64e76-54aa-4964-a42b-ab88ebb632e5",
   "metadata": {},
   "outputs": [],
   "source": [
    "a = np.arange(10)"
   ]
  },
  {
   "cell_type": "code",
   "execution_count": 12,
   "id": "f61b79f2-e830-4885-bcae-867057fa4a83",
   "metadata": {},
   "outputs": [
    {
     "data": {
      "text/plain": [
       "(9, 9)"
      ]
     },
     "execution_count": 12,
     "metadata": {},
     "output_type": "execute_result"
    }
   ],
   "source": [
    "max(a), np.max(a)"
   ]
  },
  {
   "cell_type": "code",
   "execution_count": 13,
   "id": "53c23251-3a6e-4d72-af7e-d8d9c66bd645",
   "metadata": {},
   "outputs": [
    {
     "data": {
      "text/plain": [
       "(45, 45)"
      ]
     },
     "execution_count": 13,
     "metadata": {},
     "output_type": "execute_result"
    }
   ],
   "source": [
    "sum(a), np.sum(a)"
   ]
  },
  {
   "cell_type": "code",
   "execution_count": 14,
   "id": "5596c9b8-34bf-4a4e-9791-ba00c1ce28ac",
   "metadata": {},
   "outputs": [
    {
     "data": {
      "text/plain": [
       "4.5"
      ]
     },
     "execution_count": 14,
     "metadata": {},
     "output_type": "execute_result"
    }
   ],
   "source": [
    "np.mean(a)"
   ]
  },
  {
   "cell_type": "code",
   "execution_count": 16,
   "id": "6b50d211-5425-4d77-8683-98bd6e36f376",
   "metadata": {},
   "outputs": [
    {
     "data": {
      "text/plain": [
       "array([ 0,  1,  3,  6, 10, 15, 21, 28, 36, 45])"
      ]
     },
     "execution_count": 16,
     "metadata": {},
     "output_type": "execute_result"
    }
   ],
   "source": [
    "np.cumsum(a) # x 의 원소들의 누적합(cumulative sum)"
   ]
  },
  {
   "cell_type": "markdown",
   "id": "ceb68c7f-824f-47b4-be77-e2d9b0c774c4",
   "metadata": {
    "tags": []
   },
   "source": [
    "## 함수 만들기"
   ]
  },
  {
   "cell_type": "markdown",
   "id": "fad2096c-5d72-4d55-8e42-9e6296ba8e7d",
   "metadata": {},
   "source": [
    "### 숫자 벡터 또는 리스트에 있는 양수들의 합"
   ]
  },
  {
   "cell_type": "code",
   "execution_count": 19,
   "id": "2df1bf06-41f0-4526-a647-326a03969b6f",
   "metadata": {},
   "outputs": [
    {
     "data": {
      "text/plain": [
       "45"
      ]
     },
     "execution_count": 19,
     "metadata": {},
     "output_type": "execute_result"
    }
   ],
   "source": [
    "my_numbers = np.arange(-10,10)\n",
    "\n",
    "my_sum = 0\n",
    "for value in my_numbers :\n",
    "    if value > 0 :\n",
    "        my_sum = my_sum + value\n",
    "\n",
    "my_sum"
   ]
  },
  {
   "cell_type": "markdown",
   "id": "1d8aef41-f151-4a84-a8cb-e88ba98441fc",
   "metadata": {},
   "source": [
    "### 함수 예제 -마이너스를 플러스로 바꾸는 함수(절대값)"
   ]
  },
  {
   "cell_type": "code",
   "execution_count": 20,
   "id": "11f133cd-d1c0-4fd4-86cc-a38ef454bfe8",
   "metadata": {},
   "outputs": [],
   "source": [
    "def minus2plus(x) :\n",
    "    if x < 0:\n",
    "        res = -x\n",
    "    else :\n",
    "        res = x\n",
    "    return res"
   ]
  },
  {
   "cell_type": "code",
   "execution_count": 21,
   "id": "14e7ffe9-d330-4778-9f13-47221bcef8ce",
   "metadata": {},
   "outputs": [
    {
     "data": {
      "text/plain": [
       "2"
      ]
     },
     "execution_count": 21,
     "metadata": {},
     "output_type": "execute_result"
    }
   ],
   "source": [
    "minus2plus(-2) "
   ]
  },
  {
   "cell_type": "code",
   "execution_count": 22,
   "id": "4cfe0dec-fdfe-4e77-887a-93a0b054f622",
   "metadata": {},
   "outputs": [
    {
     "data": {
      "text/plain": [
       "4.0"
      ]
     },
     "execution_count": 22,
     "metadata": {},
     "output_type": "execute_result"
    }
   ],
   "source": [
    "minus2plus(4.0)"
   ]
  },
  {
   "cell_type": "code",
   "execution_count": 23,
   "id": "167617af-69ed-4ca5-b540-dd74c310f0b0",
   "metadata": {},
   "outputs": [
    {
     "data": {
      "text/plain": [
       "0.0"
      ]
     },
     "execution_count": 23,
     "metadata": {},
     "output_type": "execute_result"
    }
   ],
   "source": [
    "minus2plus(0.0)"
   ]
  },
  {
   "cell_type": "markdown",
   "id": "113913d1-c9b3-4dab-9c86-3aa340e99a74",
   "metadata": {},
   "source": [
    "## 여러 개의 값을 가진 리스트나 벡터를 인자로 하는 함수 만들기\n",
    "### 양수들만의 합을 구하는 함수 sum_positive"
   ]
  },
  {
   "cell_type": "code",
   "execution_count": 24,
   "id": "037acdff-a005-4785-adda-9146c0fb8593",
   "metadata": {},
   "outputs": [],
   "source": [
    "def sum_positive(x) :\n",
    "    sum_plus = 0\n",
    "    for value in x :\n",
    "        if value > 0 :\n",
    "            sum_plus = sum_plus + value\n",
    "    return sum_plus\n",
    "#양수들의 합을 구해주는 함수"
   ]
  },
  {
   "cell_type": "code",
   "execution_count": 25,
   "id": "f7adad1d-90c5-461f-b868-3751f911f62e",
   "metadata": {},
   "outputs": [],
   "source": [
    "# my_numbers = np.arange(-10,10)\n",
    "\n",
    "# my_sum = 0\n",
    "# for value in my_numbers :\n",
    "#     if value > 0 :\n",
    "#         my_sum = my_sum + value\n",
    "\n",
    "# my_sum"
   ]
  },
  {
   "cell_type": "code",
   "execution_count": 26,
   "id": "92657889-c5f7-43c6-b54d-b822ff374ab9",
   "metadata": {},
   "outputs": [
    {
     "data": {
      "text/plain": [
       "45"
      ]
     },
     "execution_count": 26,
     "metadata": {},
     "output_type": "execute_result"
    }
   ],
   "source": [
    "sum_positive(my_numbers)"
   ]
  },
  {
   "cell_type": "code",
   "execution_count": 27,
   "id": "2be03383-8ff4-4fb1-b749-02ebe9d674d5",
   "metadata": {},
   "outputs": [],
   "source": [
    "your_numbers = np.arange(100)"
   ]
  },
  {
   "cell_type": "code",
   "execution_count": 28,
   "id": "27e5452e-914d-4503-bcce-f44eac498488",
   "metadata": {},
   "outputs": [
    {
     "data": {
      "text/plain": [
       "4950"
      ]
     },
     "execution_count": 28,
     "metadata": {},
     "output_type": "execute_result"
    }
   ],
   "source": [
    "your_sum = sum_positive(your_numbers) # 함수의 결과를 새로운 변수에 저장\n",
    "your_sum"
   ]
  },
  {
   "cell_type": "markdown",
   "id": "a0a21058-02e1-46c2-98d9-f0fc60df43f9",
   "metadata": {},
   "source": [
    "### 문자열이 포함된 원소가 몇 개가 있는지 세어주는 함수 count_char"
   ]
  },
  {
   "cell_type": "code",
   "execution_count": 29,
   "id": "0131c1ac-0c73-4739-80a1-cefd790fb20f",
   "metadata": {},
   "outputs": [],
   "source": [
    "def count_char(x, c) :\n",
    "  count = 0\n",
    "  for value in x :\n",
    "    if c in value :\n",
    "      count = count + 1\n",
    "  return count"
   ]
  },
  {
   "cell_type": "code",
   "execution_count": 30,
   "id": "2dbe2465-3bb4-4fe8-98cd-ca72e7074809",
   "metadata": {},
   "outputs": [
    {
     "data": {
      "text/plain": [
       "2"
      ]
     },
     "execution_count": 30,
     "metadata": {},
     "output_type": "execute_result"
    }
   ],
   "source": [
    "# 용희인 학생이 몇 명인지 알아보자.\n",
    "student_names = ['김철수', '이용희', '손흥민', '방탄소년', '김용희', '박서준', '김지원']\n",
    "count_char(student_names, \"용희\")"
   ]
  },
  {
   "cell_type": "code",
   "execution_count": 31,
   "id": "9cd5a530-486a-4479-b6f1-e25a1851563a",
   "metadata": {},
   "outputs": [
    {
     "data": {
      "text/plain": [
       "3"
      ]
     },
     "execution_count": 31,
     "metadata": {},
     "output_type": "execute_result"
    }
   ],
   "source": [
    "#  4개의 윷이 던져진 결과에서 등 의 개수를 세어주는 작업\n",
    "yoot_draw = ['등', '등', '배', '등']\n",
    "count_char(yoot_draw, \"등\")"
   ]
  },
  {
   "cell_type": "markdown",
   "id": "e328169d-ab48-4c30-b11c-21e26ad1829d",
   "metadata": {},
   "source": [
    "## 메소드"
   ]
  },
  {
   "cell_type": "code",
   "execution_count": 32,
   "id": "574e350c-a626-4e72-b93b-f7731400a5a2",
   "metadata": {},
   "outputs": [
    {
     "data": {
      "text/plain": [
       "[1, 2, 3, 4, 5]"
      ]
     },
     "execution_count": 32,
     "metadata": {},
     "output_type": "execute_result"
    }
   ],
   "source": [
    "x = [1,2,3,4]\n",
    "x.append(5)\n",
    "x"
   ]
  },
  {
   "cell_type": "code",
   "execution_count": 33,
   "id": "f844cec2-9e7a-476e-b8b6-2a7fadd23d12",
   "metadata": {},
   "outputs": [
    {
     "data": {
      "text/plain": [
       "[1, 2, 3, 4, 5, 100]"
      ]
     },
     "execution_count": 33,
     "metadata": {},
     "output_type": "execute_result"
    }
   ],
   "source": [
    "x.append(100)\n",
    "x"
   ]
  },
  {
   "cell_type": "code",
   "execution_count": 34,
   "id": "22e0f15f-2efc-45c8-8666-eaa7bbbaef47",
   "metadata": {},
   "outputs": [
    {
     "data": {
      "text/html": [
       "<div>\n",
       "<style scoped>\n",
       "    .dataframe tbody tr th:only-of-type {\n",
       "        vertical-align: middle;\n",
       "    }\n",
       "\n",
       "    .dataframe tbody tr th {\n",
       "        vertical-align: top;\n",
       "    }\n",
       "\n",
       "    .dataframe thead th {\n",
       "        text-align: right;\n",
       "    }\n",
       "</style>\n",
       "<table border=\"1\" class=\"dataframe\">\n",
       "  <thead>\n",
       "    <tr style=\"text-align: right;\">\n",
       "      <th></th>\n",
       "      <th>x</th>\n",
       "      <th>y</th>\n",
       "    </tr>\n",
       "  </thead>\n",
       "  <tbody>\n",
       "    <tr>\n",
       "      <th>0</th>\n",
       "      <td>-10</td>\n",
       "      <td>1</td>\n",
       "    </tr>\n",
       "    <tr>\n",
       "      <th>1</th>\n",
       "      <td>2</td>\n",
       "      <td>2</td>\n",
       "    </tr>\n",
       "    <tr>\n",
       "      <th>2</th>\n",
       "      <td>5</td>\n",
       "      <td>-3</td>\n",
       "    </tr>\n",
       "    <tr>\n",
       "      <th>3</th>\n",
       "      <td>-4</td>\n",
       "      <td>2</td>\n",
       "    </tr>\n",
       "  </tbody>\n",
       "</table>\n",
       "</div>"
      ],
      "text/plain": [
       "    x  y\n",
       "0 -10  1\n",
       "1   2  2\n",
       "2   5 -3\n",
       "3  -4  2"
      ]
     },
     "execution_count": 34,
     "metadata": {},
     "output_type": "execute_result"
    }
   ],
   "source": [
    "df = pd.DataFrame({'x': [-10,2,5,-4], 'y': [1, 2, -3, 2]})\n",
    "df"
   ]
  },
  {
   "cell_type": "code",
   "execution_count": 35,
   "id": "fe7f2278-3220-4b15-aba7-b268082eabf0",
   "metadata": {},
   "outputs": [
    {
     "data": {
      "text/plain": [
       "x   -7\n",
       "y    2\n",
       "dtype: int64"
      ]
     },
     "execution_count": 35,
     "metadata": {},
     "output_type": "execute_result"
    }
   ],
   "source": [
    "df.sum()"
   ]
  },
  {
   "cell_type": "code",
   "execution_count": 36,
   "id": "03e93d1c-f23c-4087-ba2c-80723837afec",
   "metadata": {},
   "outputs": [
    {
     "data": {
      "text/plain": [
       "-7"
      ]
     },
     "execution_count": 36,
     "metadata": {},
     "output_type": "execute_result"
    }
   ],
   "source": [
    "# df의 x열의 함수 \n",
    "sum(df.x)"
   ]
  },
  {
   "cell_type": "markdown",
   "id": "14fe3471-9007-401d-8411-dc12974a845e",
   "metadata": {},
   "source": [
    "### 행의 합 구하기"
   ]
  },
  {
   "cell_type": "code",
   "execution_count": 37,
   "id": "2ab69f4e-f259-4f90-a5a2-7368323d95bd",
   "metadata": {},
   "outputs": [
    {
     "data": {
      "text/plain": [
       "0   -9\n",
       "1    4\n",
       "2    2\n",
       "3   -2\n",
       "dtype: int64"
      ]
     },
     "execution_count": 37,
     "metadata": {},
     "output_type": "execute_result"
    }
   ],
   "source": [
    "df.sum(axis=1)"
   ]
  },
  {
   "cell_type": "markdown",
   "id": "30215a03-c1b8-4af7-a51a-641b6531b306",
   "metadata": {},
   "source": [
    "## 데이터 프레임에 함수 적용하기\n",
    "\n",
    "dataframe.applymap(function)"
   ]
  },
  {
   "cell_type": "code",
   "execution_count": 38,
   "id": "2b7b8eec-4736-424b-84ea-baa94c2ad816",
   "metadata": {},
   "outputs": [
    {
     "data": {
      "text/html": [
       "<div>\n",
       "<style scoped>\n",
       "    .dataframe tbody tr th:only-of-type {\n",
       "        vertical-align: middle;\n",
       "    }\n",
       "\n",
       "    .dataframe tbody tr th {\n",
       "        vertical-align: top;\n",
       "    }\n",
       "\n",
       "    .dataframe thead th {\n",
       "        text-align: right;\n",
       "    }\n",
       "</style>\n",
       "<table border=\"1\" class=\"dataframe\">\n",
       "  <thead>\n",
       "    <tr style=\"text-align: right;\">\n",
       "      <th></th>\n",
       "      <th>x</th>\n",
       "      <th>y</th>\n",
       "    </tr>\n",
       "  </thead>\n",
       "  <tbody>\n",
       "    <tr>\n",
       "      <th>0</th>\n",
       "      <td>10</td>\n",
       "      <td>1</td>\n",
       "    </tr>\n",
       "    <tr>\n",
       "      <th>1</th>\n",
       "      <td>2</td>\n",
       "      <td>2</td>\n",
       "    </tr>\n",
       "    <tr>\n",
       "      <th>2</th>\n",
       "      <td>5</td>\n",
       "      <td>3</td>\n",
       "    </tr>\n",
       "    <tr>\n",
       "      <th>3</th>\n",
       "      <td>4</td>\n",
       "      <td>2</td>\n",
       "    </tr>\n",
       "  </tbody>\n",
       "</table>\n",
       "</div>"
      ],
      "text/plain": [
       "    x  y\n",
       "0  10  1\n",
       "1   2  2\n",
       "2   5  3\n",
       "3   4  2"
      ]
     },
     "execution_count": 38,
     "metadata": {},
     "output_type": "execute_result"
    }
   ],
   "source": [
    "df.applymap(minus2plus)"
   ]
  },
  {
   "cell_type": "code",
   "execution_count": 39,
   "id": "c093869f-837e-488e-a2c5-bf95a358fb93",
   "metadata": {},
   "outputs": [
    {
     "data": {
      "text/plain": [
       "x    7\n",
       "y    5\n",
       "dtype: int64"
      ]
     },
     "execution_count": 39,
     "metadata": {},
     "output_type": "execute_result"
    }
   ],
   "source": [
    "df.apply(sum_positive, axis=0) # axis = 0 은 함수를 각 열에 대하여 적용"
   ]
  },
  {
   "cell_type": "code",
   "execution_count": 40,
   "id": "0f8e979e-afdc-47d8-af25-862d0158b64c",
   "metadata": {},
   "outputs": [
    {
     "data": {
      "text/plain": [
       "0    1\n",
       "1    4\n",
       "2    5\n",
       "3    2\n",
       "dtype: int64"
      ]
     },
     "execution_count": 40,
     "metadata": {},
     "output_type": "execute_result"
    }
   ],
   "source": [
    "df.apply(sum_positive, axis=1) # axis = 1 : 각 행에 대하여 적용"
   ]
  },
  {
   "cell_type": "markdown",
   "id": "262ad460-50a9-40f1-a8db-3768be6bf0ff",
   "metadata": {},
   "source": [
    "## 2개 이상의 인자를 함수에 적용하기"
   ]
  },
  {
   "cell_type": "code",
   "execution_count": 43,
   "id": "04bd38bd-7682-4063-9fbc-9b9b6b1eac69",
   "metadata": {},
   "outputs": [],
   "source": [
    "# def function(x,y,z):\n",
    "#   ....\n",
    "#   ....\n",
    "#   return ...\n",
    "\n",
    "# dataframe.apply(function, x=2, z=\"a\", axis=1)"
   ]
  },
  {
   "cell_type": "code",
   "execution_count": 42,
   "id": "83a98a27-28e6-449a-9ef9-c129c0ed4aff",
   "metadata": {},
   "outputs": [
    {
     "data": {
      "text/html": [
       "<div>\n",
       "<style scoped>\n",
       "    .dataframe tbody tr th:only-of-type {\n",
       "        vertical-align: middle;\n",
       "    }\n",
       "\n",
       "    .dataframe tbody tr th {\n",
       "        vertical-align: top;\n",
       "    }\n",
       "\n",
       "    .dataframe thead th {\n",
       "        text-align: right;\n",
       "    }\n",
       "</style>\n",
       "<table border=\"1\" class=\"dataframe\">\n",
       "  <thead>\n",
       "    <tr style=\"text-align: right;\">\n",
       "      <th></th>\n",
       "      <th>name</th>\n",
       "    </tr>\n",
       "  </thead>\n",
       "  <tbody>\n",
       "    <tr>\n",
       "      <th>0</th>\n",
       "      <td>김철수</td>\n",
       "    </tr>\n",
       "    <tr>\n",
       "      <th>1</th>\n",
       "      <td>이용희</td>\n",
       "    </tr>\n",
       "    <tr>\n",
       "      <th>2</th>\n",
       "      <td>손흥민</td>\n",
       "    </tr>\n",
       "    <tr>\n",
       "      <th>3</th>\n",
       "      <td>방탄소년</td>\n",
       "    </tr>\n",
       "    <tr>\n",
       "      <th>4</th>\n",
       "      <td>김용희</td>\n",
       "    </tr>\n",
       "    <tr>\n",
       "      <th>5</th>\n",
       "      <td>박서준</td>\n",
       "    </tr>\n",
       "    <tr>\n",
       "      <th>6</th>\n",
       "      <td>김지원</td>\n",
       "    </tr>\n",
       "  </tbody>\n",
       "</table>\n",
       "</div>"
      ],
      "text/plain": [
       "   name\n",
       "0   김철수\n",
       "1   이용희\n",
       "2   손흥민\n",
       "3  방탄소년\n",
       "4   김용희\n",
       "5   박서준\n",
       "6   김지원"
      ]
     },
     "execution_count": 42,
     "metadata": {},
     "output_type": "execute_result"
    }
   ],
   "source": [
    "df2 = pd.DataFrame({ 'name': student_names})\n",
    "df2"
   ]
  },
  {
   "cell_type": "code",
   "execution_count": 44,
   "id": "f8ee5d2c-e656-4cb5-9c86-d185faf5b99d",
   "metadata": {},
   "outputs": [
    {
     "data": {
      "text/plain": [
       "name    2\n",
       "dtype: int64"
      ]
     },
     "execution_count": 44,
     "metadata": {},
     "output_type": "execute_result"
    }
   ],
   "source": [
    "df2.apply(count_char, c=\"용희\", axis=0) #원하는 문자열을 세어주는 함수에다가 용희를 검색하게 함, 열 단위로"
   ]
  },
  {
   "cell_type": "code",
   "execution_count": 47,
   "id": "9be45300-adbd-484f-9bcf-b80f14fb783a",
   "metadata": {},
   "outputs": [
    {
     "data": {
      "text/plain": [
       "name    3\n",
       "dtype: int64"
      ]
     },
     "execution_count": 47,
     "metadata": {},
     "output_type": "execute_result"
    }
   ],
   "source": [
    "df2.apply(count_char, c=\"김\", axis=0) #김씨인 사람"
   ]
  },
  {
   "cell_type": "markdown",
   "id": "4e46989d-4443-439d-b224-756da5d4375f",
   "metadata": {},
   "source": [
    "### 함수의 데이터 취급"
   ]
  },
  {
   "cell_type": "code",
   "execution_count": 51,
   "id": "2068f1b9-a169-46b3-8fc6-796a763323a1",
   "metadata": {},
   "outputs": [],
   "source": [
    "another_function = minus2plus\n",
    "# 다른 이름을 가진 함수로 정의하기 "
   ]
  },
  {
   "cell_type": "code",
   "execution_count": 50,
   "id": "07fe6b7c-7509-499f-a19a-2768934faecf",
   "metadata": {},
   "outputs": [
    {
     "data": {
      "text/plain": [
       "20"
      ]
     },
     "execution_count": 50,
     "metadata": {},
     "output_type": "execute_result"
    }
   ],
   "source": [
    "another_function(-20) #똑같이 적용됨을 알 수 있음 "
   ]
  },
  {
   "cell_type": "markdown",
   "id": "e0742e21-f1f3-41de-9087-2ff40c40f730",
   "metadata": {},
   "source": [
    "보너스를 주는 규칙을 함수로 만들었다고 하자. 연봉이 3000만원 이하면 연봉의 20%, 3000만원 초과면 15%를 보너스로 준다."
   ]
  },
  {
   "cell_type": "code",
   "execution_count": 52,
   "id": "988c75bb-5853-426d-bd1d-ce70302b9434",
   "metadata": {},
   "outputs": [],
   "source": [
    "def bonus_amount(salary):\n",
    "  if salary <= 3000 :\n",
    "    bonus = salary * 0.2\n",
    "  else : \n",
    "    bonus = salary * 0.15\n",
    "\n",
    "  return bonus"
   ]
  },
  {
   "cell_type": "code",
   "execution_count": 53,
   "id": "1d3a706c-9b26-47da-846c-5d7d060a9f97",
   "metadata": {},
   "outputs": [
    {
     "data": {
      "text/plain": [
       "400.0"
      ]
     },
     "execution_count": 53,
     "metadata": {},
     "output_type": "execute_result"
    }
   ],
   "source": [
    "bonus_amount(2000)"
   ]
  },
  {
   "cell_type": "code",
   "execution_count": 54,
   "id": "0278a919-e148-45cc-918c-8cc16dab5463",
   "metadata": {},
   "outputs": [
    {
     "data": {
      "text/plain": [
       "600.0"
      ]
     },
     "execution_count": 54,
     "metadata": {},
     "output_type": "execute_result"
    }
   ],
   "source": [
    "bonus_amount(4000)"
   ]
  },
  {
   "cell_type": "markdown",
   "id": "9f5fbcd5-b45e-4d4b-9e26-04671547eeb2",
   "metadata": {},
   "source": [
    "직원 1명을 고용해서 드는 총비용이 연봉(salary), 보험료(insurance), 야근 수당(night), 보너스를 합친 액수라고 하자. 이러한 총비용을 계산하는 함수 total_expense 를 다음과 같이 정의하자. 함수 total_expense 의 마지막 인자는 보너스를 계산하는 함수 이름이다."
   ]
  },
  {
   "cell_type": "code",
   "execution_count": 55,
   "id": "55347355-bcf8-402f-8236-765e2b4c032b",
   "metadata": {},
   "outputs": [],
   "source": [
    "def total_expense(salary, insurance, night, bonus_function) :\n",
    "  expense  = salary + insurance + night + bonus_function(salary)\n",
    "  return expense"
   ]
  },
  {
   "cell_type": "code",
   "execution_count": 57,
   "id": "c58b91fa-92ef-4130-8e51-8d21a92e18b7",
   "metadata": {},
   "outputs": [
    {
     "data": {
      "text/plain": [
       "4900.0"
      ]
     },
     "execution_count": 57,
     "metadata": {},
     "output_type": "execute_result"
    }
   ],
   "source": [
    "total_expense(4000, 200, 100, bonus_amount) #bonus_amount는 함수임에도 불구하고 인자처럼 쓰일 수 있음"
   ]
  },
  {
   "cell_type": "markdown",
   "id": "05a59a0e-1be1-4588-b604-02a8263e7d4c",
   "metadata": {},
   "source": [
    "모든 직원에게 1000만원 특별 보너스를 지급하려고 한다. 새로운 함수 bonus_amount_special 를 만들고 총비융을 계산하는 함수에 인자로 보내주면 된다."
   ]
  },
  {
   "cell_type": "code",
   "execution_count": 60,
   "id": "bae95595-aa7a-4cd5-9f15-aaf91e078bb4",
   "metadata": {},
   "outputs": [],
   "source": [
    "def bonus_amount_special(salary):\n",
    "  if salary <= 3000 :\n",
    "    bonus = salary * 0.2\n",
    "  else : \n",
    "    bonus = salary * 0.15\n",
    "  \n",
    "  bonus = bonus + 1000\n",
    "\n",
    "  return bonus"
   ]
  },
  {
   "cell_type": "code",
   "execution_count": 61,
   "id": "a1449f2d-e2b3-434b-9cc8-2f2f612e26d2",
   "metadata": {},
   "outputs": [
    {
     "data": {
      "text/plain": [
       "5900.0"
      ]
     },
     "execution_count": 61,
     "metadata": {},
     "output_type": "execute_result"
    }
   ],
   "source": [
    "total_expense(4000, 200, 100, bonus_amount_special)"
   ]
  },
  {
   "cell_type": "markdown",
   "id": "48ad0754-c99a-478e-9662-ac5f5dad4e78",
   "metadata": {},
   "source": [
    "# 함수 문제 - 주사위 게임 함수화 "
   ]
  },
  {
   "cell_type": "markdown",
   "id": "4510c125-a4fa-4206-94f1-814fbf437fbb",
   "metadata": {},
   "source": [
    "나와 규빈에게 각가 200000원이 있다. 주사위를 던져 2 이하의 눈이 나오면 내가 승리하고 10000원을 규빈으로부터 받는다. 반면 3 이상이 나오면 규빈이 승리하고 규빈에게 8000원을 주어야 한다."
   ]
  },
  {
   "cell_type": "code",
   "execution_count": 68,
   "id": "9e93fe17-cab5-44c6-939d-b4973e5dbbd7",
   "metadata": {},
   "outputs": [
    {
     "name": "stdout",
     "output_type": "stream",
     "text": [
      "[194000, 206000]\n",
      "[204000, 196000]\n",
      "[214000, 186000]\n",
      "[208000, 192000]\n",
      "[202000, 198000]\n",
      "[212000, 188000]\n",
      "[206000, 194000]\n",
      "[216000, 184000]\n",
      "[226000, 174000]\n",
      "[220000, 180000]\n",
      "[214000, 186000]\n",
      "[208000, 192000]\n",
      "[218000, 182000]\n",
      "[212000, 188000]\n",
      "[222000, 178000]\n",
      "[216000, 184000]\n",
      "[226000, 174000]\n",
      "[220000, 180000]\n",
      "[214000, 186000]\n",
      "[224000, 176000]\n"
     ]
    }
   ],
   "source": [
    "gu = 200000\n",
    "me = 200000\n",
    "\n",
    "for i in np.arange(20):\n",
    "    x = np.random.rand(1)\n",
    "    if x < 1/3:\n",
    "        me += 10000\n",
    "        gu -= 10000\n",
    "    else :\n",
    "        me -= 6000\n",
    "        gu += 6000\n",
    "    print([me, gu])\n"
   ]
  },
  {
   "cell_type": "code",
   "execution_count": 86,
   "id": "a0c88344-6fb3-4636-8a6b-f20489b6eb78",
   "metadata": {},
   "outputs": [],
   "source": [
    "def game_m(me_i, gu_i, me_r, gu_r, rep, prob):\n",
    "    me = me_i\n",
    "    gu = gu_i\n",
    "    for i in np.arange(rep):\n",
    "        x = np.random.rand(1)\n",
    "        if  x < prob :\n",
    "            me += me_r\n",
    "            gu -= me_r\n",
    "        else :\n",
    "            me -= gu_r\n",
    "            gu += gu_r\n",
    "        print([me, gu])\n",
    "    final = [me, gu]\n",
    "    #print(final)\n",
    "    plt.bar(np.arange(2),final) #두개\n",
    "    return final"
   ]
  },
  {
   "cell_type": "code",
   "execution_count": 87,
   "id": "0c808f0b-fa92-445a-8ef3-92369ad60050",
   "metadata": {},
   "outputs": [
    {
     "name": "stdout",
     "output_type": "stream",
     "text": [
      "[194000, 206000]\n",
      "[195000, 205000]\n",
      "[196000, 204000]\n",
      "[197000, 203000]\n",
      "[198000, 202000]\n",
      "[199000, 201000]\n",
      "[200000, 200000]\n",
      "[194000, 206000]\n",
      "[195000, 205000]\n",
      "[196000, 204000]\n",
      "[190000, 210000]\n",
      "[184000, 216000]\n",
      "[178000, 222000]\n",
      "[179000, 221000]\n",
      "[180000, 220000]\n",
      "[174000, 226000]\n",
      "[175000, 225000]\n",
      "[169000, 231000]\n",
      "[163000, 237000]\n",
      "[164000, 236000]\n"
     ]
    },
    {
     "data": {
      "text/plain": [
       "[164000, 236000]"
      ]
     },
     "execution_count": 87,
     "metadata": {},
     "output_type": "execute_result"
    },
    {
     "data": {
      "image/png": "[encoded data removed]",
      "text/plain": [
       "<Figure size 432x288 with 1 Axes>"
      ]
     },
     "metadata": {
      "needs_background": "light"
     },
     "output_type": "display_data"
    }
   ],
   "source": [
    "game_m(200000, 200000, 1000, 6000, 20, 1/3)"
   ]
  },
  {
   "cell_type": "markdown",
   "id": "0be6d55e-9c08-4b32-836a-d937aa7f59fc",
   "metadata": {},
   "source": [
    "# 표본"
   ]
  },
  {
   "cell_type": "markdown",
   "id": "e3217d49-0dad-43c5-a1c0-a6053fe0de9f",
   "metadata": {},
   "source": [
    "**표본(sample)은 분석의 대상이 되는 전체집단, 즉 모집단(population)의 일부분이다.**\n",
    "\n",
    "철수가 선거구의 가장 번화한 거리에 나가서 지나가는 사람들 1000명을 면담하고 후보의 지지율이 55% 라는 정보를 얻었다고 하자. 조사한 55%의 지지율이 실제 전체 유권자의 지지율과 얼마나 차이가 나는지 알 수 없다면 이러한 정보 수집은 의미가 있는가? \n",
    "\n",
    "가장 번화한 거리를 지나가는 사람들은 매우 다양하기 때문에 전체 유권자를 잘 대표할 수 있고 또한 1000명은 상당한 큰 수이므로 자신의 표본은 쓸만하다고 철수가 주장한다면 여러분은 여기에 동의하는가? \n",
    "\n",
    "이제 영이가 철수의 방법보다 더 나은 방법이 있다고 주장한다. 영이가 제안한 1000명의 표본을 추출하는 방법은 다음과 같다.\n",
    "\n",
    "임의로 추출되었다(randomly selected)는 의미를 쉽게 표현하면 전화번호가 수록된 명부에서 유권자 1000명을 눈감고 뽑았다는 의미이다. 물론 같은 사람을 두 번 이상 뽑지는 않는다.\n",
    "\n",
    "눈감고 뽑았다는 의미는 **모든 유권자가 표본에 포함될 가능성이 같다** 는 것이다. 이렇게 “눈 감고 표본을 추출” 하는 방법을 **단순임의추출**(simple random sampling) 이라고 하며 추출된 표본을 **확률표본**(random sample, probability sample) 이라고 부른다.\n",
    "\n",
    "철수의 방법으로 얻은 표본을 비확률표본 또는 편의표본((convenience sample)이라고 부른다. 데이터과학에서 다루는 표본은 거의 대부분 확률표본이다.\n",
    "\n",
    " - 확률표본: 모집단의 속한 모든 개체가 표본에 속할 가능성이 같은 경우(철수)\n",
    "\n",
    " - 편의표본: 개체가 표본에 포함되는 가능성을 알 수 없는 표본(영이)"
   ]
  },
  {
   "cell_type": "code",
   "execution_count": 112,
   "id": "f3cde1f6-1283-4ca3-9c7d-614a046ed68e",
   "metadata": {},
   "outputs": [],
   "source": [
    "url1 = \"https://ilovedata.github.io/teaching/bigdata2/data/seoul_bike_201909_3.csv\"\n",
    "bike = pd.read_csv(url1, encoding=\"CP949\")"
   ]
  },
  {
   "cell_type": "code",
   "execution_count": 93,
   "id": "a2a4cd56-742e-4553-bc01-30e9d4e1115e",
   "metadata": {},
   "outputs": [
    {
     "data": {
      "text/html": [
       "<div>\n",
       "<style scoped>\n",
       "    .dataframe tbody tr th:only-of-type {\n",
       "        vertical-align: middle;\n",
       "    }\n",
       "\n",
       "    .dataframe tbody tr th {\n",
       "        vertical-align: top;\n",
       "    }\n",
       "\n",
       "    .dataframe thead th {\n",
       "        text-align: right;\n",
       "    }\n",
       "</style>\n",
       "<table border=\"1\" class=\"dataframe\">\n",
       "  <thead>\n",
       "    <tr style=\"text-align: right;\">\n",
       "      <th></th>\n",
       "      <th>자전거번호</th>\n",
       "      <th>대여일시</th>\n",
       "      <th>대여 대여소번호</th>\n",
       "      <th>대여 대여소명</th>\n",
       "      <th>대여거치대</th>\n",
       "      <th>반납일시</th>\n",
       "      <th>반납대여소번호</th>\n",
       "      <th>반납대여소명</th>\n",
       "      <th>반납거치대</th>\n",
       "      <th>이용시간</th>\n",
       "      <th>이용거리</th>\n",
       "    </tr>\n",
       "  </thead>\n",
       "  <tbody>\n",
       "    <tr>\n",
       "      <th>0</th>\n",
       "      <td>SPB-17003</td>\n",
       "      <td>2019-09-28 16:10:55</td>\n",
       "      <td>368</td>\n",
       "      <td>SK 서린빌딩 앞</td>\n",
       "      <td>4</td>\n",
       "      <td>2019-09-28 17:03:32</td>\n",
       "      <td>2002</td>\n",
       "      <td>노들역 1번출구</td>\n",
       "      <td>14</td>\n",
       "      <td>52</td>\n",
       "      <td>8940.0</td>\n",
       "    </tr>\n",
       "    <tr>\n",
       "      <th>1</th>\n",
       "      <td>SPB-14405</td>\n",
       "      <td>2019-09-28 16:48:16</td>\n",
       "      <td>2024</td>\n",
       "      <td>상도역 1번출구</td>\n",
       "      <td>3</td>\n",
       "      <td>2019-09-28 17:03:44</td>\n",
       "      <td>2002</td>\n",
       "      <td>노들역 1번출구</td>\n",
       "      <td>18</td>\n",
       "      <td>15</td>\n",
       "      <td>1910.0</td>\n",
       "    </tr>\n",
       "    <tr>\n",
       "      <th>2</th>\n",
       "      <td>SPB-18431</td>\n",
       "      <td>2019-09-28 16:59:54</td>\n",
       "      <td>2002</td>\n",
       "      <td>노들역 1번출구</td>\n",
       "      <td>10</td>\n",
       "      <td>2019-09-28 17:03:57</td>\n",
       "      <td>2002</td>\n",
       "      <td>노들역 1번출구</td>\n",
       "      <td>10</td>\n",
       "      <td>2</td>\n",
       "      <td>30.0</td>\n",
       "    </tr>\n",
       "    <tr>\n",
       "      <th>3</th>\n",
       "      <td>SPB-04853</td>\n",
       "      <td>2019-09-28 15:31:49</td>\n",
       "      <td>207</td>\n",
       "      <td>여의나루역 1번출구 앞</td>\n",
       "      <td>32</td>\n",
       "      <td>2019-09-28 17:10:12</td>\n",
       "      <td>2002</td>\n",
       "      <td>노들역 1번출구</td>\n",
       "      <td>19</td>\n",
       "      <td>98</td>\n",
       "      <td>9610.0</td>\n",
       "    </tr>\n",
       "    <tr>\n",
       "      <th>4</th>\n",
       "      <td>SPB-11122</td>\n",
       "      <td>2019-09-28 15:35:41</td>\n",
       "      <td>207</td>\n",
       "      <td>여의나루역 1번출구 앞</td>\n",
       "      <td>14</td>\n",
       "      <td>2019-09-28 17:10:37</td>\n",
       "      <td>2002</td>\n",
       "      <td>노들역 1번출구</td>\n",
       "      <td>18</td>\n",
       "      <td>90</td>\n",
       "      <td>9450.0</td>\n",
       "    </tr>\n",
       "    <tr>\n",
       "      <th>5</th>\n",
       "      <td>SPB-23089</td>\n",
       "      <td>2019-09-28 17:02:37</td>\n",
       "      <td>2003</td>\n",
       "      <td>사육신공원앞</td>\n",
       "      <td>5</td>\n",
       "      <td>2019-09-28 17:13:44</td>\n",
       "      <td>2002</td>\n",
       "      <td>노들역 1번출구</td>\n",
       "      <td>10</td>\n",
       "      <td>10</td>\n",
       "      <td>1410.0</td>\n",
       "    </tr>\n",
       "    <tr>\n",
       "      <th>6</th>\n",
       "      <td>SPB-15669</td>\n",
       "      <td>2019-09-28 16:17:54</td>\n",
       "      <td>2213</td>\n",
       "      <td>고속터미널역 5번출구 앞</td>\n",
       "      <td>7</td>\n",
       "      <td>2019-09-28 17:14:22</td>\n",
       "      <td>2002</td>\n",
       "      <td>노들역 1번출구</td>\n",
       "      <td>8</td>\n",
       "      <td>56</td>\n",
       "      <td>0.0</td>\n",
       "    </tr>\n",
       "    <tr>\n",
       "      <th>7</th>\n",
       "      <td>SPB-09727</td>\n",
       "      <td>2019-09-28 17:04:56</td>\n",
       "      <td>2002</td>\n",
       "      <td>노들역 1번출구</td>\n",
       "      <td>5</td>\n",
       "      <td>2019-09-28 17:17:10</td>\n",
       "      <td>2002</td>\n",
       "      <td>노들역 1번출구</td>\n",
       "      <td>17</td>\n",
       "      <td>11</td>\n",
       "      <td>380.0</td>\n",
       "    </tr>\n",
       "    <tr>\n",
       "      <th>8</th>\n",
       "      <td>SPB-10053</td>\n",
       "      <td>2019-09-28 16:59:45</td>\n",
       "      <td>2002</td>\n",
       "      <td>노들역 1번출구</td>\n",
       "      <td>3</td>\n",
       "      <td>2019-09-28 17:17:53</td>\n",
       "      <td>2002</td>\n",
       "      <td>노들역 1번출구</td>\n",
       "      <td>5</td>\n",
       "      <td>17</td>\n",
       "      <td>1080.0</td>\n",
       "    </tr>\n",
       "    <tr>\n",
       "      <th>9</th>\n",
       "      <td>SPB-14487</td>\n",
       "      <td>2019-09-28 16:01:41</td>\n",
       "      <td>2024</td>\n",
       "      <td>상도역 1번출구</td>\n",
       "      <td>5</td>\n",
       "      <td>2019-09-28 17:20:44</td>\n",
       "      <td>2002</td>\n",
       "      <td>노들역 1번출구</td>\n",
       "      <td>14</td>\n",
       "      <td>78</td>\n",
       "      <td>13870.0</td>\n",
       "    </tr>\n",
       "  </tbody>\n",
       "</table>\n",
       "</div>"
      ],
      "text/plain": [
       "       자전거번호                 대여일시  대여 대여소번호        대여 대여소명  대여거치대  \\\n",
       "0  SPB-17003  2019-09-28 16:10:55       368      SK 서린빌딩 앞      4   \n",
       "1  SPB-14405  2019-09-28 16:48:16      2024       상도역 1번출구      3   \n",
       "2  SPB-18431  2019-09-28 16:59:54      2002       노들역 1번출구     10   \n",
       "3  SPB-04853  2019-09-28 15:31:49       207   여의나루역 1번출구 앞     32   \n",
       "4  SPB-11122  2019-09-28 15:35:41       207   여의나루역 1번출구 앞     14   \n",
       "5  SPB-23089  2019-09-28 17:02:37      2003         사육신공원앞      5   \n",
       "6  SPB-15669  2019-09-28 16:17:54      2213  고속터미널역 5번출구 앞      7   \n",
       "7  SPB-09727  2019-09-28 17:04:56      2002       노들역 1번출구      5   \n",
       "8  SPB-10053  2019-09-28 16:59:45      2002       노들역 1번출구      3   \n",
       "9  SPB-14487  2019-09-28 16:01:41      2024       상도역 1번출구      5   \n",
       "\n",
       "                  반납일시  반납대여소번호    반납대여소명  반납거치대  이용시간     이용거리  \n",
       "0  2019-09-28 17:03:32     2002  노들역 1번출구     14    52   8940.0  \n",
       "1  2019-09-28 17:03:44     2002  노들역 1번출구     18    15   1910.0  \n",
       "2  2019-09-28 17:03:57     2002  노들역 1번출구     10     2     30.0  \n",
       "3  2019-09-28 17:10:12     2002  노들역 1번출구     19    98   9610.0  \n",
       "4  2019-09-28 17:10:37     2002  노들역 1번출구     18    90   9450.0  \n",
       "5  2019-09-28 17:13:44     2002  노들역 1번출구     10    10   1410.0  \n",
       "6  2019-09-28 17:14:22     2002  노들역 1번출구      8    56      0.0  \n",
       "7  2019-09-28 17:17:10     2002  노들역 1번출구     17    11    380.0  \n",
       "8  2019-09-28 17:17:53     2002  노들역 1번출구      5    17   1080.0  \n",
       "9  2019-09-28 17:20:44     2002  노들역 1번출구     14    78  13870.0  "
      ]
     },
     "execution_count": 93,
     "metadata": {},
     "output_type": "execute_result"
    }
   ],
   "source": [
    "bike.head(10)"
   ]
  },
  {
   "cell_type": "code",
   "execution_count": 95,
   "id": "a17cb70b-a31a-4a86-8478-3be9cc28723f",
   "metadata": {},
   "outputs": [
    {
     "data": {
      "text/plain": [
       "(407589, 11)"
      ]
     },
     "execution_count": 95,
     "metadata": {},
     "output_type": "execute_result"
    }
   ],
   "source": [
    "bike.shape"
   ]
  },
  {
   "cell_type": "code",
   "execution_count": 101,
   "id": "412be9aa-5f9f-4359-ab67-cf079611f6ef",
   "metadata": {},
   "outputs": [
    {
     "data": {
      "text/html": [
       "<div>\n",
       "<style scoped>\n",
       "    .dataframe tbody tr th:only-of-type {\n",
       "        vertical-align: middle;\n",
       "    }\n",
       "\n",
       "    .dataframe tbody tr th {\n",
       "        vertical-align: top;\n",
       "    }\n",
       "\n",
       "    .dataframe thead th {\n",
       "        text-align: right;\n",
       "    }\n",
       "</style>\n",
       "<table border=\"1\" class=\"dataframe\">\n",
       "  <thead>\n",
       "    <tr style=\"text-align: right;\">\n",
       "      <th></th>\n",
       "      <th>0</th>\n",
       "      <th>1</th>\n",
       "      <th>2</th>\n",
       "      <th>3</th>\n",
       "      <th>4</th>\n",
       "      <th>5</th>\n",
       "      <th>6</th>\n",
       "      <th>7</th>\n",
       "      <th>8</th>\n",
       "      <th>9</th>\n",
       "      <th>...</th>\n",
       "      <th>407579</th>\n",
       "      <th>407580</th>\n",
       "      <th>407581</th>\n",
       "      <th>407582</th>\n",
       "      <th>407583</th>\n",
       "      <th>407584</th>\n",
       "      <th>407585</th>\n",
       "      <th>407586</th>\n",
       "      <th>407587</th>\n",
       "      <th>407588</th>\n",
       "    </tr>\n",
       "  </thead>\n",
       "  <tbody>\n",
       "    <tr>\n",
       "      <th>자전거번호</th>\n",
       "      <td>SPB-17003</td>\n",
       "      <td>SPB-14405</td>\n",
       "      <td>SPB-18431</td>\n",
       "      <td>SPB-04853</td>\n",
       "      <td>SPB-11122</td>\n",
       "      <td>SPB-23089</td>\n",
       "      <td>SPB-15669</td>\n",
       "      <td>SPB-09727</td>\n",
       "      <td>SPB-10053</td>\n",
       "      <td>SPB-14487</td>\n",
       "      <td>...</td>\n",
       "      <td>SPB-04848</td>\n",
       "      <td>SPB-03378</td>\n",
       "      <td>SPB-12697</td>\n",
       "      <td>SPB-16477</td>\n",
       "      <td>SPB-18051</td>\n",
       "      <td>SPB-24072</td>\n",
       "      <td>SPB-16130</td>\n",
       "      <td>SPB-03728</td>\n",
       "      <td>SPB-08928</td>\n",
       "      <td>SPB-06988</td>\n",
       "    </tr>\n",
       "    <tr>\n",
       "      <th>대여일시</th>\n",
       "      <td>2019-09-28 16:10:55</td>\n",
       "      <td>2019-09-28 16:48:16</td>\n",
       "      <td>2019-09-28 16:59:54</td>\n",
       "      <td>2019-09-28 15:31:49</td>\n",
       "      <td>2019-09-28 15:35:41</td>\n",
       "      <td>2019-09-28 17:02:37</td>\n",
       "      <td>2019-09-28 16:17:54</td>\n",
       "      <td>2019-09-28 17:04:56</td>\n",
       "      <td>2019-09-28 16:59:45</td>\n",
       "      <td>2019-09-28 16:01:41</td>\n",
       "      <td>...</td>\n",
       "      <td>2019-09-03 08:54:59</td>\n",
       "      <td>2019-09-03 09:37:57</td>\n",
       "      <td>2019-09-05 08:53:09</td>\n",
       "      <td>2019-09-09 08:53:39</td>\n",
       "      <td>2019-09-10 08:58:57</td>\n",
       "      <td>2019-09-12 08:56:34</td>\n",
       "      <td>2019-09-18 10:13:09</td>\n",
       "      <td>2019-09-25 08:00:28</td>\n",
       "      <td>2019-09-30 07:49:27</td>\n",
       "      <td>2019-09-30 09:58:43</td>\n",
       "    </tr>\n",
       "    <tr>\n",
       "      <th>대여 대여소번호</th>\n",
       "      <td>368</td>\n",
       "      <td>2024</td>\n",
       "      <td>2002</td>\n",
       "      <td>207</td>\n",
       "      <td>207</td>\n",
       "      <td>2003</td>\n",
       "      <td>2213</td>\n",
       "      <td>2002</td>\n",
       "      <td>2002</td>\n",
       "      <td>2024</td>\n",
       "      <td>...</td>\n",
       "      <td>230</td>\n",
       "      <td>99999</td>\n",
       "      <td>240</td>\n",
       "      <td>240</td>\n",
       "      <td>240</td>\n",
       "      <td>240</td>\n",
       "      <td>99999</td>\n",
       "      <td>2183</td>\n",
       "      <td>2183</td>\n",
       "      <td>99999</td>\n",
       "    </tr>\n",
       "    <tr>\n",
       "      <th>대여 대여소명</th>\n",
       "      <td>SK 서린빌딩 앞</td>\n",
       "      <td>상도역 1번출구</td>\n",
       "      <td>노들역 1번출구</td>\n",
       "      <td>여의나루역 1번출구 앞</td>\n",
       "      <td>여의나루역 1번출구 앞</td>\n",
       "      <td>사육신공원앞</td>\n",
       "      <td>고속터미널역 5번출구 앞</td>\n",
       "      <td>노들역 1번출구</td>\n",
       "      <td>노들역 1번출구</td>\n",
       "      <td>상도역 1번출구</td>\n",
       "      <td>...</td>\n",
       "      <td>영등포구청역 1번출구</td>\n",
       "      <td>영남단말기정비</td>\n",
       "      <td>문래역 4번출구 앞</td>\n",
       "      <td>문래역 4번출구 앞</td>\n",
       "      <td>문래역 4번출구 앞</td>\n",
       "      <td>문래역 4번출구 앞</td>\n",
       "      <td>영남단말기정비</td>\n",
       "      <td>동방1교</td>\n",
       "      <td>동방1교</td>\n",
       "      <td>영남단말기정비</td>\n",
       "    </tr>\n",
       "    <tr>\n",
       "      <th>대여거치대</th>\n",
       "      <td>4</td>\n",
       "      <td>3</td>\n",
       "      <td>10</td>\n",
       "      <td>32</td>\n",
       "      <td>14</td>\n",
       "      <td>5</td>\n",
       "      <td>7</td>\n",
       "      <td>5</td>\n",
       "      <td>3</td>\n",
       "      <td>5</td>\n",
       "      <td>...</td>\n",
       "      <td>10</td>\n",
       "      <td>1</td>\n",
       "      <td>5</td>\n",
       "      <td>1</td>\n",
       "      <td>5</td>\n",
       "      <td>9</td>\n",
       "      <td>1</td>\n",
       "      <td>7</td>\n",
       "      <td>10</td>\n",
       "      <td>5</td>\n",
       "    </tr>\n",
       "    <tr>\n",
       "      <th>반납일시</th>\n",
       "      <td>2019-09-28 17:03:32</td>\n",
       "      <td>2019-09-28 17:03:44</td>\n",
       "      <td>2019-09-28 17:03:57</td>\n",
       "      <td>2019-09-28 17:10:12</td>\n",
       "      <td>2019-09-28 17:10:37</td>\n",
       "      <td>2019-09-28 17:13:44</td>\n",
       "      <td>2019-09-28 17:14:22</td>\n",
       "      <td>2019-09-28 17:17:10</td>\n",
       "      <td>2019-09-28 17:17:53</td>\n",
       "      <td>2019-09-28 17:20:44</td>\n",
       "      <td>...</td>\n",
       "      <td>2019-09-03 09:03:55</td>\n",
       "      <td>2019-09-03 10:35:28</td>\n",
       "      <td>2019-09-05 08:59:21</td>\n",
       "      <td>2019-09-09 09:27:21</td>\n",
       "      <td>2019-09-10 09:10:40</td>\n",
       "      <td>2019-09-12 09:03:37</td>\n",
       "      <td>2019-09-18 11:38:30</td>\n",
       "      <td>2019-09-25 08:54:02</td>\n",
       "      <td>2019-09-30 09:42:27</td>\n",
       "      <td>2019-09-30 13:01:26</td>\n",
       "    </tr>\n",
       "    <tr>\n",
       "      <th>반납대여소번호</th>\n",
       "      <td>2002</td>\n",
       "      <td>2002</td>\n",
       "      <td>2002</td>\n",
       "      <td>2002</td>\n",
       "      <td>2002</td>\n",
       "      <td>2002</td>\n",
       "      <td>2002</td>\n",
       "      <td>2002</td>\n",
       "      <td>2002</td>\n",
       "      <td>2002</td>\n",
       "      <td>...</td>\n",
       "      <td>99999</td>\n",
       "      <td>99999</td>\n",
       "      <td>99999</td>\n",
       "      <td>99999</td>\n",
       "      <td>99999</td>\n",
       "      <td>99999</td>\n",
       "      <td>99999</td>\n",
       "      <td>99999</td>\n",
       "      <td>99999</td>\n",
       "      <td>99999</td>\n",
       "    </tr>\n",
       "    <tr>\n",
       "      <th>반납대여소명</th>\n",
       "      <td>노들역 1번출구</td>\n",
       "      <td>노들역 1번출구</td>\n",
       "      <td>노들역 1번출구</td>\n",
       "      <td>노들역 1번출구</td>\n",
       "      <td>노들역 1번출구</td>\n",
       "      <td>노들역 1번출구</td>\n",
       "      <td>노들역 1번출구</td>\n",
       "      <td>노들역 1번출구</td>\n",
       "      <td>노들역 1번출구</td>\n",
       "      <td>노들역 1번출구</td>\n",
       "      <td>...</td>\n",
       "      <td>영남단말기정비</td>\n",
       "      <td>영남단말기정비</td>\n",
       "      <td>영남단말기정비</td>\n",
       "      <td>영남단말기정비</td>\n",
       "      <td>영남단말기정비</td>\n",
       "      <td>영남단말기정비</td>\n",
       "      <td>영남단말기정비</td>\n",
       "      <td>영남단말기정비</td>\n",
       "      <td>영남단말기정비</td>\n",
       "      <td>영남단말기정비</td>\n",
       "    </tr>\n",
       "    <tr>\n",
       "      <th>반납거치대</th>\n",
       "      <td>14</td>\n",
       "      <td>18</td>\n",
       "      <td>10</td>\n",
       "      <td>19</td>\n",
       "      <td>18</td>\n",
       "      <td>10</td>\n",
       "      <td>8</td>\n",
       "      <td>17</td>\n",
       "      <td>5</td>\n",
       "      <td>14</td>\n",
       "      <td>...</td>\n",
       "      <td>2</td>\n",
       "      <td>1</td>\n",
       "      <td>2</td>\n",
       "      <td>2</td>\n",
       "      <td>2</td>\n",
       "      <td>2</td>\n",
       "      <td>1</td>\n",
       "      <td>5</td>\n",
       "      <td>7</td>\n",
       "      <td>5</td>\n",
       "    </tr>\n",
       "    <tr>\n",
       "      <th>이용시간</th>\n",
       "      <td>52</td>\n",
       "      <td>15</td>\n",
       "      <td>2</td>\n",
       "      <td>98</td>\n",
       "      <td>90</td>\n",
       "      <td>10</td>\n",
       "      <td>56</td>\n",
       "      <td>11</td>\n",
       "      <td>17</td>\n",
       "      <td>78</td>\n",
       "      <td>...</td>\n",
       "      <td>8</td>\n",
       "      <td>57</td>\n",
       "      <td>5</td>\n",
       "      <td>33</td>\n",
       "      <td>11</td>\n",
       "      <td>6</td>\n",
       "      <td>85</td>\n",
       "      <td>53</td>\n",
       "      <td>2</td>\n",
       "      <td>182</td>\n",
       "    </tr>\n",
       "    <tr>\n",
       "      <th>이용거리</th>\n",
       "      <td>8940.0</td>\n",
       "      <td>1910.0</td>\n",
       "      <td>30.0</td>\n",
       "      <td>9610.0</td>\n",
       "      <td>9450.0</td>\n",
       "      <td>1410.0</td>\n",
       "      <td>0.0</td>\n",
       "      <td>380.0</td>\n",
       "      <td>1080.0</td>\n",
       "      <td>13870.0</td>\n",
       "      <td>...</td>\n",
       "      <td>1370.0</td>\n",
       "      <td>10.0</td>\n",
       "      <td>910.0</td>\n",
       "      <td>1100.0</td>\n",
       "      <td>960.0</td>\n",
       "      <td>720.0</td>\n",
       "      <td>40.0</td>\n",
       "      <td>12910.0</td>\n",
       "      <td>0.0</td>\n",
       "      <td>10.0</td>\n",
       "    </tr>\n",
       "  </tbody>\n",
       "</table>\n",
       "<p>11 rows × 407589 columns</p>\n",
       "</div>"
      ],
      "text/plain": [
       "                       0                    1                    2       \\\n",
       "자전거번호               SPB-17003            SPB-14405            SPB-18431   \n",
       "대여일시      2019-09-28 16:10:55  2019-09-28 16:48:16  2019-09-28 16:59:54   \n",
       "대여 대여소번호                  368                 2024                 2002   \n",
       "대여 대여소명             SK 서린빌딩 앞             상도역 1번출구             노들역 1번출구   \n",
       "대여거치대                       4                    3                   10   \n",
       "반납일시      2019-09-28 17:03:32  2019-09-28 17:03:44  2019-09-28 17:03:57   \n",
       "반납대여소번호                  2002                 2002                 2002   \n",
       "반납대여소명               노들역 1번출구             노들역 1번출구             노들역 1번출구   \n",
       "반납거치대                      14                   18                   10   \n",
       "이용시간                       52                   15                    2   \n",
       "이용거리                   8940.0               1910.0                 30.0   \n",
       "\n",
       "                       3                    4                    5       \\\n",
       "자전거번호               SPB-04853            SPB-11122            SPB-23089   \n",
       "대여일시      2019-09-28 15:31:49  2019-09-28 15:35:41  2019-09-28 17:02:37   \n",
       "대여 대여소번호                  207                  207                 2003   \n",
       "대여 대여소명          여의나루역 1번출구 앞         여의나루역 1번출구 앞               사육신공원앞   \n",
       "대여거치대                      32                   14                    5   \n",
       "반납일시      2019-09-28 17:10:12  2019-09-28 17:10:37  2019-09-28 17:13:44   \n",
       "반납대여소번호                  2002                 2002                 2002   \n",
       "반납대여소명               노들역 1번출구             노들역 1번출구             노들역 1번출구   \n",
       "반납거치대                      19                   18                   10   \n",
       "이용시간                       98                   90                   10   \n",
       "이용거리                   9610.0               9450.0               1410.0   \n",
       "\n",
       "                       6                    7                    8       \\\n",
       "자전거번호               SPB-15669            SPB-09727            SPB-10053   \n",
       "대여일시      2019-09-28 16:17:54  2019-09-28 17:04:56  2019-09-28 16:59:45   \n",
       "대여 대여소번호                 2213                 2002                 2002   \n",
       "대여 대여소명         고속터미널역 5번출구 앞             노들역 1번출구             노들역 1번출구   \n",
       "대여거치대                       7                    5                    3   \n",
       "반납일시      2019-09-28 17:14:22  2019-09-28 17:17:10  2019-09-28 17:17:53   \n",
       "반납대여소번호                  2002                 2002                 2002   \n",
       "반납대여소명               노들역 1번출구             노들역 1번출구             노들역 1번출구   \n",
       "반납거치대                       8                   17                    5   \n",
       "이용시간                       56                   11                   17   \n",
       "이용거리                      0.0                380.0               1080.0   \n",
       "\n",
       "                       9       ...               407579               407580  \\\n",
       "자전거번호               SPB-14487  ...            SPB-04848            SPB-03378   \n",
       "대여일시      2019-09-28 16:01:41  ...  2019-09-03 08:54:59  2019-09-03 09:37:57   \n",
       "대여 대여소번호                 2024  ...                  230                99999   \n",
       "대여 대여소명              상도역 1번출구  ...          영등포구청역 1번출구              영남단말기정비   \n",
       "대여거치대                       5  ...                   10                    1   \n",
       "반납일시      2019-09-28 17:20:44  ...  2019-09-03 09:03:55  2019-09-03 10:35:28   \n",
       "반납대여소번호                  2002  ...                99999                99999   \n",
       "반납대여소명               노들역 1번출구  ...              영남단말기정비              영남단말기정비   \n",
       "반납거치대                      14  ...                    2                    1   \n",
       "이용시간                       78  ...                    8                   57   \n",
       "이용거리                  13870.0  ...               1370.0                 10.0   \n",
       "\n",
       "                       407581               407582               407583  \\\n",
       "자전거번호               SPB-12697            SPB-16477            SPB-18051   \n",
       "대여일시      2019-09-05 08:53:09  2019-09-09 08:53:39  2019-09-10 08:58:57   \n",
       "대여 대여소번호                  240                  240                  240   \n",
       "대여 대여소명            문래역 4번출구 앞           문래역 4번출구 앞           문래역 4번출구 앞   \n",
       "대여거치대                       5                    1                    5   \n",
       "반납일시      2019-09-05 08:59:21  2019-09-09 09:27:21  2019-09-10 09:10:40   \n",
       "반납대여소번호                 99999                99999                99999   \n",
       "반납대여소명                영남단말기정비              영남단말기정비              영남단말기정비   \n",
       "반납거치대                       2                    2                    2   \n",
       "이용시간                        5                   33                   11   \n",
       "이용거리                    910.0               1100.0                960.0   \n",
       "\n",
       "                       407584               407585               407586  \\\n",
       "자전거번호               SPB-24072            SPB-16130            SPB-03728   \n",
       "대여일시      2019-09-12 08:56:34  2019-09-18 10:13:09  2019-09-25 08:00:28   \n",
       "대여 대여소번호                  240                99999                 2183   \n",
       "대여 대여소명            문래역 4번출구 앞              영남단말기정비                 동방1교   \n",
       "대여거치대                       9                    1                    7   \n",
       "반납일시      2019-09-12 09:03:37  2019-09-18 11:38:30  2019-09-25 08:54:02   \n",
       "반납대여소번호                 99999                99999                99999   \n",
       "반납대여소명                영남단말기정비              영남단말기정비              영남단말기정비   \n",
       "반납거치대                       2                    1                    5   \n",
       "이용시간                        6                   85                   53   \n",
       "이용거리                    720.0                 40.0              12910.0   \n",
       "\n",
       "                       407587               407588  \n",
       "자전거번호               SPB-08928            SPB-06988  \n",
       "대여일시      2019-09-30 07:49:27  2019-09-30 09:58:43  \n",
       "대여 대여소번호                 2183                99999  \n",
       "대여 대여소명                  동방1교              영남단말기정비  \n",
       "대여거치대                      10                    5  \n",
       "반납일시      2019-09-30 09:42:27  2019-09-30 13:01:26  \n",
       "반납대여소번호                 99999                99999  \n",
       "반납대여소명                영남단말기정비              영남단말기정비  \n",
       "반납거치대                       7                    5  \n",
       "이용시간                        2                  182  \n",
       "이용거리                      0.0                 10.0  \n",
       "\n",
       "[11 rows x 407589 columns]"
      ]
     },
     "execution_count": 101,
     "metadata": {},
     "output_type": "execute_result"
    }
   ],
   "source": [
    "bike.T"
   ]
  },
  {
   "cell_type": "code",
   "execution_count": 103,
   "id": "eb4bbe20-41d0-45aa-b655-708b021d6bea",
   "metadata": {},
   "outputs": [
    {
     "data": {
      "text/plain": [
       "Index(['자전거번호', '대여일시', '대여 대여소번호', '대여 대여소명', '대여거치대', '반납일시', '반납대여소번호',\n",
       "       '반납대여소명', '반납거치대', '이용시간', '이용거리'],\n",
       "      dtype='object')"
      ]
     },
     "execution_count": 103,
     "metadata": {},
     "output_type": "execute_result"
    }
   ],
   "source": [
    "bike.columns"
   ]
  },
  {
   "cell_type": "code",
   "execution_count": 109,
   "id": "c805669e-66a1-4a6c-8400-fd0baae7f414",
   "metadata": {},
   "outputs": [],
   "source": [
    "#이용거리의 분포를 히스토그램과 상자그림으로 그려보자. 오른쪽으로 매우 치우친 분포인것을 알 수 있다."
   ]
  },
  {
   "cell_type": "code",
   "execution_count": 114,
   "id": "1f9167d6-165a-4c10-b427-b8cfb4370904",
   "metadata": {},
   "outputs": [
    {
     "data": {
      "image/png": "[encoded data removed]",
      "text/plain": [
       "<Figure size 432x288 with 1 Axes>"
      ]
     },
     "metadata": {
      "needs_background": "light"
     },
     "output_type": "display_data"
    }
   ],
   "source": [
    "bike.plot.hist(y=\"이용거리\", bins= 30);"
   ]
  },
  {
   "cell_type": "code",
   "execution_count": 117,
   "id": "e90af718-e40c-4b9e-bf8c-163bcfd88572",
   "metadata": {},
   "outputs": [
    {
     "name": "stderr",
     "output_type": "stream",
     "text": [
      "/Users/heji/opt/anaconda3/lib/python3.9/site-packages/IPython/core/pylabtools.py:151: UserWarning: Glyph 51060 (\\N{HANGUL SYLLABLE I}) missing from current font.\n",
      "  fig.canvas.print_figure(bytes_io, **kw)\n",
      "/Users/heji/opt/anaconda3/lib/python3.9/site-packages/IPython/core/pylabtools.py:151: UserWarning: Glyph 50857 (\\N{HANGUL SYLLABLE YONG}) missing from current font.\n",
      "  fig.canvas.print_figure(bytes_io, **kw)\n",
      "/Users/heji/opt/anaconda3/lib/python3.9/site-packages/IPython/core/pylabtools.py:151: UserWarning: Glyph 44144 (\\N{HANGUL SYLLABLE GEO}) missing from current font.\n",
      "  fig.canvas.print_figure(bytes_io, **kw)\n",
      "/Users/heji/opt/anaconda3/lib/python3.9/site-packages/IPython/core/pylabtools.py:151: UserWarning: Glyph 47532 (\\N{HANGUL SYLLABLE RI}) missing from current font.\n",
      "  fig.canvas.print_figure(bytes_io, **kw)\n"
     ]
    },
    {
     "data": {
      "image/png": "[encoded data removed]",
      "text/plain": [
       "<Figure size 432x288 with 1 Axes>"
      ]
     },
     "metadata": {
      "needs_background": "light"
     },
     "output_type": "display_data"
    }
   ],
   "source": [
    "bike.plot.box(y=\"이용거리\");"
   ]
  },
  {
   "cell_type": "code",
   "execution_count": 128,
   "id": "af3ae165-81b3-4c83-84e5-3536843aca21",
   "metadata": {},
   "outputs": [
    {
     "data": {
      "text/html": [
       "<div>\n",
       "<style scoped>\n",
       "    .dataframe tbody tr th:only-of-type {\n",
       "        vertical-align: middle;\n",
       "    }\n",
       "\n",
       "    .dataframe tbody tr th {\n",
       "        vertical-align: top;\n",
       "    }\n",
       "\n",
       "    .dataframe thead th {\n",
       "        text-align: right;\n",
       "    }\n",
       "</style>\n",
       "<table border=\"1\" class=\"dataframe\">\n",
       "  <thead>\n",
       "    <tr style=\"text-align: right;\">\n",
       "      <th></th>\n",
       "      <th>이용거리</th>\n",
       "    </tr>\n",
       "  </thead>\n",
       "  <tbody>\n",
       "    <tr>\n",
       "      <th>count</th>\n",
       "      <td>407589.000000</td>\n",
       "    </tr>\n",
       "    <tr>\n",
       "      <th>mean</th>\n",
       "      <td>4253.336228</td>\n",
       "    </tr>\n",
       "    <tr>\n",
       "      <th>std</th>\n",
       "      <td>5782.673901</td>\n",
       "    </tr>\n",
       "    <tr>\n",
       "      <th>min</th>\n",
       "      <td>0.000000</td>\n",
       "    </tr>\n",
       "    <tr>\n",
       "      <th>25%</th>\n",
       "      <td>1200.000000</td>\n",
       "    </tr>\n",
       "    <tr>\n",
       "      <th>50%</th>\n",
       "      <td>2380.000000</td>\n",
       "    </tr>\n",
       "    <tr>\n",
       "      <th>75%</th>\n",
       "      <td>5130.000000</td>\n",
       "    </tr>\n",
       "    <tr>\n",
       "      <th>max</th>\n",
       "      <td>153490.000000</td>\n",
       "    </tr>\n",
       "  </tbody>\n",
       "</table>\n",
       "</div>"
      ],
      "text/plain": [
       "                이용거리\n",
       "count  407589.000000\n",
       "mean     4253.336228\n",
       "std      5782.673901\n",
       "min         0.000000\n",
       "25%      1200.000000\n",
       "50%      2380.000000\n",
       "75%      5130.000000\n",
       "max    153490.000000"
      ]
     },
     "execution_count": 128,
     "metadata": {},
     "output_type": "execute_result"
    }
   ],
   "source": [
    "bike[[\"이용거리\"]].describe()\n"
   ]
  },
  {
   "cell_type": "markdown",
   "id": "caba252e-44fd-49f3-8c89-354be7e97345",
   "metadata": {},
   "source": [
    "## 샘플 추출\n",
    "데이터프레임에서 행, 즉 레코드를 단순임의추출 방법으로 추출하는 메소드는 sample()이다.\n",
    "\n",
    "DataFrame.sample(n=None, frac=None, replace=False, weights=None, random_state=None, axis=None, ignore_index=False)\n",
    "- n: 표본의 크기\n",
    "\n",
    "- frac: 표본의 비율\n",
    "\n",
    "- replace : 복원추출에 대한 여부\n",
    "\n",
    "- random_state : 표본추출시 사용되는 난수를 지정. 지정한 난수가 같으면 동일한 표본이 추출된다."
   ]
  },
  {
   "cell_type": "code",
   "execution_count": 121,
   "id": "4299a18f-39d1-4a4a-a1cb-dcae18626a80",
   "metadata": {},
   "outputs": [
    {
     "data": {
      "text/html": [
       "<div>\n",
       "<style scoped>\n",
       "    .dataframe tbody tr th:only-of-type {\n",
       "        vertical-align: middle;\n",
       "    }\n",
       "\n",
       "    .dataframe tbody tr th {\n",
       "        vertical-align: top;\n",
       "    }\n",
       "\n",
       "    .dataframe thead th {\n",
       "        text-align: right;\n",
       "    }\n",
       "</style>\n",
       "<table border=\"1\" class=\"dataframe\">\n",
       "  <thead>\n",
       "    <tr style=\"text-align: right;\">\n",
       "      <th></th>\n",
       "      <th>자전거번호</th>\n",
       "      <th>대여일시</th>\n",
       "      <th>대여 대여소번호</th>\n",
       "      <th>대여 대여소명</th>\n",
       "      <th>대여거치대</th>\n",
       "      <th>반납일시</th>\n",
       "      <th>반납대여소번호</th>\n",
       "      <th>반납대여소명</th>\n",
       "      <th>반납거치대</th>\n",
       "      <th>이용시간</th>\n",
       "      <th>이용거리</th>\n",
       "    </tr>\n",
       "  </thead>\n",
       "  <tbody>\n",
       "    <tr>\n",
       "      <th>375631</th>\n",
       "      <td>SPB-11285</td>\n",
       "      <td>2019-09-21 10:06:07</td>\n",
       "      <td>1452</td>\n",
       "      <td>겸재교 진입부</td>\n",
       "      <td>9</td>\n",
       "      <td>2019-09-21 10:38:10</td>\n",
       "      <td>3520</td>\n",
       "      <td>광진경찰서</td>\n",
       "      <td>4</td>\n",
       "      <td>30</td>\n",
       "      <td>5920.0</td>\n",
       "    </tr>\n",
       "    <tr>\n",
       "      <th>219156</th>\n",
       "      <td>SPB-10989</td>\n",
       "      <td>2019-09-24 22:36:38</td>\n",
       "      <td>2321</td>\n",
       "      <td>학여울역 사거리</td>\n",
       "      <td>9</td>\n",
       "      <td>2019-09-24 22:41:46</td>\n",
       "      <td>2320</td>\n",
       "      <td>도곡역 대치지구대 방향</td>\n",
       "      <td>1</td>\n",
       "      <td>4</td>\n",
       "      <td>0.0</td>\n",
       "    </tr>\n",
       "    <tr>\n",
       "      <th>2646</th>\n",
       "      <td>SPB-20213</td>\n",
       "      <td>2019-09-11 15:51:03</td>\n",
       "      <td>1986</td>\n",
       "      <td>태평양물산빌딩</td>\n",
       "      <td>8</td>\n",
       "      <td>2019-09-11 16:28:15</td>\n",
       "      <td>2007</td>\n",
       "      <td>유한양행앞</td>\n",
       "      <td>6</td>\n",
       "      <td>37</td>\n",
       "      <td>5450.0</td>\n",
       "    </tr>\n",
       "    <tr>\n",
       "      <th>329716</th>\n",
       "      <td>SPB-05859</td>\n",
       "      <td>2019-09-11 09:09:47</td>\n",
       "      <td>1912</td>\n",
       "      <td>한신휴아파트 앞</td>\n",
       "      <td>9</td>\n",
       "      <td>2019-09-11 09:15:23</td>\n",
       "      <td>2801</td>\n",
       "      <td>대륭포스트타워1차</td>\n",
       "      <td>14</td>\n",
       "      <td>5</td>\n",
       "      <td>830.0</td>\n",
       "    </tr>\n",
       "    <tr>\n",
       "      <th>35470</th>\n",
       "      <td>SPB-03699</td>\n",
       "      <td>2019-09-01 14:19:17</td>\n",
       "      <td>2265</td>\n",
       "      <td>이수고가차도 남단</td>\n",
       "      <td>2</td>\n",
       "      <td>2019-09-01 14:34:28</td>\n",
       "      <td>2060</td>\n",
       "      <td>남성역3번출구 뒤</td>\n",
       "      <td>6</td>\n",
       "      <td>14</td>\n",
       "      <td>2160.0</td>\n",
       "    </tr>\n",
       "    <tr>\n",
       "      <th>132032</th>\n",
       "      <td>SPB-03922</td>\n",
       "      <td>2019-09-20 22:09:34</td>\n",
       "      <td>274</td>\n",
       "      <td>영등포역지하쇼핑센타 5번출구</td>\n",
       "      <td>1</td>\n",
       "      <td>2019-09-20 23:14:57</td>\n",
       "      <td>2219</td>\n",
       "      <td>고속터미널역 8-1번, 8-2번 출구 사이</td>\n",
       "      <td>9</td>\n",
       "      <td>65</td>\n",
       "      <td>11820.0</td>\n",
       "    </tr>\n",
       "    <tr>\n",
       "      <th>15067</th>\n",
       "      <td>SPB-17943</td>\n",
       "      <td>2019-09-17 18:24:58</td>\n",
       "      <td>2002</td>\n",
       "      <td>노들역 1번출구</td>\n",
       "      <td>18</td>\n",
       "      <td>2019-09-17 19:57:08</td>\n",
       "      <td>2025</td>\n",
       "      <td>흑석역 1번출구</td>\n",
       "      <td>3</td>\n",
       "      <td>91</td>\n",
       "      <td>8560.0</td>\n",
       "    </tr>\n",
       "    <tr>\n",
       "      <th>226253</th>\n",
       "      <td>SPB-07462</td>\n",
       "      <td>2019-09-03 18:27:38</td>\n",
       "      <td>2358</td>\n",
       "      <td>구룡초사거리 (현대아파트10동 앞 )</td>\n",
       "      <td>4</td>\n",
       "      <td>2019-09-03 18:41:48</td>\n",
       "      <td>2329</td>\n",
       "      <td>르네상스호텔사거리 역삼지하보도 2번출구</td>\n",
       "      <td>6</td>\n",
       "      <td>13</td>\n",
       "      <td>2520.0</td>\n",
       "    </tr>\n",
       "    <tr>\n",
       "      <th>318420</th>\n",
       "      <td>SPB-13058</td>\n",
       "      <td>2019-09-10 15:52:12</td>\n",
       "      <td>2620</td>\n",
       "      <td>송파나루역 4번 출구옆</td>\n",
       "      <td>7</td>\n",
       "      <td>2019-09-10 16:05:27</td>\n",
       "      <td>2622</td>\n",
       "      <td>올림픽공원역 3번출구</td>\n",
       "      <td>8</td>\n",
       "      <td>13</td>\n",
       "      <td>2220.0</td>\n",
       "    </tr>\n",
       "    <tr>\n",
       "      <th>405911</th>\n",
       "      <td>SPB-18550</td>\n",
       "      <td>2019-09-09 19:10:55</td>\n",
       "      <td>549</td>\n",
       "      <td>아차산역 3번출구</td>\n",
       "      <td>5</td>\n",
       "      <td>2019-09-09 19:19:11</td>\n",
       "      <td>3542</td>\n",
       "      <td>래미안 구의파크 스위트</td>\n",
       "      <td>17</td>\n",
       "      <td>7</td>\n",
       "      <td>1090.0</td>\n",
       "    </tr>\n",
       "  </tbody>\n",
       "</table>\n",
       "</div>"
      ],
      "text/plain": [
       "            자전거번호                 대여일시  대여 대여소번호               대여 대여소명  대여거치대  \\\n",
       "375631  SPB-11285  2019-09-21 10:06:07      1452               겸재교 진입부      9   \n",
       "219156  SPB-10989  2019-09-24 22:36:38      2321              학여울역 사거리      9   \n",
       "2646    SPB-20213  2019-09-11 15:51:03      1986               태평양물산빌딩      8   \n",
       "329716  SPB-05859  2019-09-11 09:09:47      1912              한신휴아파트 앞      9   \n",
       "35470   SPB-03699  2019-09-01 14:19:17      2265             이수고가차도 남단      2   \n",
       "132032  SPB-03922  2019-09-20 22:09:34       274       영등포역지하쇼핑센타 5번출구      1   \n",
       "15067   SPB-17943  2019-09-17 18:24:58      2002              노들역 1번출구     18   \n",
       "226253  SPB-07462  2019-09-03 18:27:38      2358  구룡초사거리 (현대아파트10동 앞 )      4   \n",
       "318420  SPB-13058  2019-09-10 15:52:12      2620          송파나루역 4번 출구옆      7   \n",
       "405911  SPB-18550  2019-09-09 19:10:55       549             아차산역 3번출구      5   \n",
       "\n",
       "                       반납일시  반납대여소번호                   반납대여소명  반납거치대  이용시간  \\\n",
       "375631  2019-09-21 10:38:10     3520                    광진경찰서      4    30   \n",
       "219156  2019-09-24 22:41:46     2320             도곡역 대치지구대 방향      1     4   \n",
       "2646    2019-09-11 16:28:15     2007                    유한양행앞      6    37   \n",
       "329716  2019-09-11 09:15:23     2801                대륭포스트타워1차     14     5   \n",
       "35470   2019-09-01 14:34:28     2060                남성역3번출구 뒤      6    14   \n",
       "132032  2019-09-20 23:14:57     2219  고속터미널역 8-1번, 8-2번 출구 사이      9    65   \n",
       "15067   2019-09-17 19:57:08     2025                 흑석역 1번출구      3    91   \n",
       "226253  2019-09-03 18:41:48     2329    르네상스호텔사거리 역삼지하보도 2번출구      6    13   \n",
       "318420  2019-09-10 16:05:27     2622              올림픽공원역 3번출구      8    13   \n",
       "405911  2019-09-09 19:19:11     3542             래미안 구의파크 스위트     17     7   \n",
       "\n",
       "           이용거리  \n",
       "375631   5920.0  \n",
       "219156      0.0  \n",
       "2646     5450.0  \n",
       "329716    830.0  \n",
       "35470    2160.0  \n",
       "132032  11820.0  \n",
       "15067    8560.0  \n",
       "226253   2520.0  \n",
       "318420   2220.0  \n",
       "405911   1090.0  "
      ]
     },
     "execution_count": 121,
     "metadata": {},
     "output_type": "execute_result"
    }
   ],
   "source": [
    "bike_sample_100 = bike.sample(n=100, replace=False, random_state=1)\n",
    "bike_sample_100.head(10)"
   ]
  },
  {
   "cell_type": "code",
   "execution_count": 123,
   "id": "2ece2067-8904-4747-8670-4e20feabb721",
   "metadata": {},
   "outputs": [
    {
     "data": {
      "image/png": "[encoded data removed]",
      "text/plain": [
       "<Figure size 432x288 with 1 Axes>"
      ]
     },
     "metadata": {
      "needs_background": "light"
     },
     "output_type": "display_data"
    }
   ],
   "source": [
    "bike_sample_100.plot.hist(y=\"이용거리\", bins= 30);"
   ]
  },
  {
   "cell_type": "code",
   "execution_count": 124,
   "id": "36274330-4fc0-4205-bb8c-8da9a1ad272a",
   "metadata": {},
   "outputs": [
    {
     "name": "stderr",
     "output_type": "stream",
     "text": [
      "/Users/heji/opt/anaconda3/lib/python3.9/site-packages/IPython/core/pylabtools.py:151: UserWarning: Glyph 51060 (\\N{HANGUL SYLLABLE I}) missing from current font.\n",
      "  fig.canvas.print_figure(bytes_io, **kw)\n",
      "/Users/heji/opt/anaconda3/lib/python3.9/site-packages/IPython/core/pylabtools.py:151: UserWarning: Glyph 50857 (\\N{HANGUL SYLLABLE YONG}) missing from current font.\n",
      "  fig.canvas.print_figure(bytes_io, **kw)\n",
      "/Users/heji/opt/anaconda3/lib/python3.9/site-packages/IPython/core/pylabtools.py:151: UserWarning: Glyph 44144 (\\N{HANGUL SYLLABLE GEO}) missing from current font.\n",
      "  fig.canvas.print_figure(bytes_io, **kw)\n",
      "/Users/heji/opt/anaconda3/lib/python3.9/site-packages/IPython/core/pylabtools.py:151: UserWarning: Glyph 47532 (\\N{HANGUL SYLLABLE RI}) missing from current font.\n",
      "  fig.canvas.print_figure(bytes_io, **kw)\n"
     ]
    },
    {
     "data": {
      "image/png": "[encoded data removed]",
      "text/plain": [
       "<Figure size 432x288 with 1 Axes>"
      ]
     },
     "metadata": {
      "needs_background": "light"
     },
     "output_type": "display_data"
    }
   ],
   "source": [
    "bike_sample_100.plot.box(y=\"이용거리\");"
   ]
  },
  {
   "cell_type": "code",
   "execution_count": 127,
   "id": "b6fe3538-0669-4a89-98a8-ef9026318c69",
   "metadata": {},
   "outputs": [
    {
     "data": {
      "text/html": [
       "<div>\n",
       "<style scoped>\n",
       "    .dataframe tbody tr th:only-of-type {\n",
       "        vertical-align: middle;\n",
       "    }\n",
       "\n",
       "    .dataframe tbody tr th {\n",
       "        vertical-align: top;\n",
       "    }\n",
       "\n",
       "    .dataframe thead th {\n",
       "        text-align: right;\n",
       "    }\n",
       "</style>\n",
       "<table border=\"1\" class=\"dataframe\">\n",
       "  <thead>\n",
       "    <tr style=\"text-align: right;\">\n",
       "      <th></th>\n",
       "      <th>이용거리</th>\n",
       "    </tr>\n",
       "  </thead>\n",
       "  <tbody>\n",
       "    <tr>\n",
       "      <th>count</th>\n",
       "      <td>100.000000</td>\n",
       "    </tr>\n",
       "    <tr>\n",
       "      <th>mean</th>\n",
       "      <td>3824.100000</td>\n",
       "    </tr>\n",
       "    <tr>\n",
       "      <th>std</th>\n",
       "      <td>5524.629901</td>\n",
       "    </tr>\n",
       "    <tr>\n",
       "      <th>min</th>\n",
       "      <td>0.000000</td>\n",
       "    </tr>\n",
       "    <tr>\n",
       "      <th>25%</th>\n",
       "      <td>1157.500000</td>\n",
       "    </tr>\n",
       "    <tr>\n",
       "      <th>50%</th>\n",
       "      <td>2170.000000</td>\n",
       "    </tr>\n",
       "    <tr>\n",
       "      <th>75%</th>\n",
       "      <td>4285.000000</td>\n",
       "    </tr>\n",
       "    <tr>\n",
       "      <th>max</th>\n",
       "      <td>45700.000000</td>\n",
       "    </tr>\n",
       "  </tbody>\n",
       "</table>\n",
       "</div>"
      ],
      "text/plain": [
       "               이용거리\n",
       "count    100.000000\n",
       "mean    3824.100000\n",
       "std     5524.629901\n",
       "min        0.000000\n",
       "25%     1157.500000\n",
       "50%     2170.000000\n",
       "75%     4285.000000\n",
       "max    45700.000000"
      ]
     },
     "execution_count": 127,
     "metadata": {},
     "output_type": "execute_result"
    }
   ],
   "source": [
    "bike_sample_100[[\"이용거리\"]].describe()"
   ]
  },
  {
   "cell_type": "markdown",
   "id": "0c1165e7-7681-4c4a-a7da-e1febe87ebb0",
   "metadata": {},
   "source": [
    "추출된 표본에 속한 데이터의 분포는 경험적 분포(empirical distribution)라고 부른다. 경험적이라는 의미는 추출된 관측값들의 분포 라는 것이다. 대부분 경우 모집단 전체를 관측할 수 없기 때문에 모집단에 대해서는 경험적 분포라고 부르지 않고 모집단 분포(population distribution)라고 따로 부른다.\n",
    "\n",
    "확률표본의 경험적 분포는 표본의 수가 증가하면 모집단의 분포와 점점 유사하게 나타날 것이라고 예상할 수 있다. 즉, **표본의 개수(sample size)가 증가하면 확률표본에서 얻은 정보는 모집단에 대한 정보와 점점 가까워 진다.**\n",
    "\n",
    "위에서 영이의 표본은 확률표본이므로 추출된 유권자의 수가 증가하면 표본으로 부터 얻은 지지율이 모집단의 지지율에 가까워진다. **표본의 크기가 커지면 확률표본의 경험적 분포가 모집단의 분포에 점점 가까워 지는 법칙을 대수의 법칙 (law of large number)라고 한다.**"
   ]
  },
  {
   "cell_type": "code",
   "execution_count": 129,
   "id": "24b1bc46-3a6c-4d7d-935d-2d50de7649ce",
   "metadata": {},
   "outputs": [],
   "source": [
    "# 아래 코드에서 선택문 random_state= 의 숫자를 바꾸면 다른 10,000 개의 표본이 추출된다. 여러분이 선택문 random_state= 의 숫자를 다른 숫자로 바꾸면서 표본에서 얻어진 이용거리의 평균이 어떻게 변하는지 알아 보자."
   ]
  },
  {
   "cell_type": "code",
   "execution_count": 141,
   "id": "6e0acdc9-1249-46a7-8b64-a2028999a272",
   "metadata": {},
   "outputs": [],
   "source": [
    "bike_sample_10000 = bike.sample(n=10000, replace=False, random_state=3)"
   ]
  },
  {
   "cell_type": "code",
   "execution_count": 142,
   "id": "1b1f7080-3672-4119-aeb8-c171929f6e99",
   "metadata": {},
   "outputs": [
    {
     "data": {
      "image/png": "[encoded data removed]",
      "text/plain": [
       "<Figure size 432x288 with 1 Axes>"
      ]
     },
     "metadata": {
      "needs_background": "light"
     },
     "output_type": "display_data"
    }
   ],
   "source": [
    "bike_sample_10000.plot.hist(y=\"이용거리\", bins= 30);"
   ]
  },
  {
   "cell_type": "code",
   "execution_count": 144,
   "id": "99a0ca1a-2a9c-4013-99eb-ba5e2c7bcd9b",
   "metadata": {},
   "outputs": [
    {
     "name": "stderr",
     "output_type": "stream",
     "text": [
      "/Users/heji/opt/anaconda3/lib/python3.9/site-packages/IPython/core/pylabtools.py:151: UserWarning: Glyph 51060 (\\N{HANGUL SYLLABLE I}) missing from current font.\n",
      "  fig.canvas.print_figure(bytes_io, **kw)\n",
      "/Users/heji/opt/anaconda3/lib/python3.9/site-packages/IPython/core/pylabtools.py:151: UserWarning: Glyph 50857 (\\N{HANGUL SYLLABLE YONG}) missing from current font.\n",
      "  fig.canvas.print_figure(bytes_io, **kw)\n",
      "/Users/heji/opt/anaconda3/lib/python3.9/site-packages/IPython/core/pylabtools.py:151: UserWarning: Glyph 44144 (\\N{HANGUL SYLLABLE GEO}) missing from current font.\n",
      "  fig.canvas.print_figure(bytes_io, **kw)\n",
      "/Users/heji/opt/anaconda3/lib/python3.9/site-packages/IPython/core/pylabtools.py:151: UserWarning: Glyph 47532 (\\N{HANGUL SYLLABLE RI}) missing from current font.\n",
      "  fig.canvas.print_figure(bytes_io, **kw)\n"
     ]
    },
    {
     "data": {
      "image/png": "[encoded data removed]",
      "text/plain": [
       "<Figure size 432x288 with 1 Axes>"
      ]
     },
     "metadata": {
      "needs_background": "light"
     },
     "output_type": "display_data"
    }
   ],
   "source": [
    "bike_sample_10000.plot.box(y=\"이용거리\");"
   ]
  },
  {
   "cell_type": "code",
   "execution_count": 145,
   "id": "0664cea0-ea50-4e01-842e-2449f55df0bd",
   "metadata": {},
   "outputs": [
    {
     "data": {
      "image/png": "[encoded data removed]",
      "text/plain": [
       "<Figure size 1080x720 with 3 Axes>"
      ]
     },
     "metadata": {
      "needs_background": "light"
     },
     "output_type": "display_data"
    }
   ],
   "source": [
    "fig, axes = plt.subplots(nrows=1, ncols=3,figsize=(15,10))\n",
    "\n",
    "axes[0].boxplot(bike_sample_100.이용거리)\n",
    "axes[0].set_ylim(0,153500)\n",
    "axes[0].set_title('n=100')\n",
    "\n",
    "axes[1].boxplot(bike_sample_10000.이용거리)\n",
    "axes[1].set_ylim(0,153500)\n",
    "axes[1].set_title('n=10000')\n",
    "\n",
    "axes[2].boxplot(bike.이용거리)\n",
    "axes[2].set_ylim(0,153500)\n",
    "axes[2].set_title('Population')\n",
    "\n",
    "plt.show()"
   ]
  },
  {
   "cell_type": "markdown",
   "id": "71716126-8f72-409c-923f-1f708445b4d2",
   "metadata": {},
   "source": [
    "- 표본의 크기가 작을 때는 표본 평균이 모집단의 평균에서 멀어진 경우가 많이 나타나지만 표본의 크기가 증가하면서 모집단의 평균에 점점 가까워지는 경향을 보인다."
   ]
  },
  {
   "cell_type": "code",
   "execution_count": 146,
   "id": "45f21597-82c9-4c66-b407-d310c4d1305c",
   "metadata": {},
   "outputs": [
    {
     "data": {
      "text/plain": [
       "array([  10,   30,   50,   70,   90,  110,  130,  150,  170,  190,  210,\n",
       "        230,  250,  270,  290,  310,  330,  350,  370,  390,  410,  430,\n",
       "        450,  470,  490,  510,  530,  550,  570,  590,  610,  630,  650,\n",
       "        670,  690,  710,  730,  750,  770,  790,  810,  830,  850,  870,\n",
       "        890,  910,  930,  950,  970,  990, 1010, 1030, 1050, 1070, 1090,\n",
       "       1110, 1130, 1150, 1170, 1190, 1210, 1230, 1250, 1270, 1290, 1310,\n",
       "       1330, 1350, 1370, 1390, 1410, 1430, 1450, 1470, 1490, 1510, 1530,\n",
       "       1550, 1570, 1590, 1610, 1630, 1650, 1670, 1690, 1710, 1730, 1750,\n",
       "       1770, 1790, 1810, 1830, 1850, 1870, 1890, 1910, 1930, 1950, 1970,\n",
       "       1990, 2010])"
      ]
     },
     "execution_count": 146,
     "metadata": {},
     "output_type": "execute_result"
    }
   ],
   "source": [
    "n = np.arange(10,2021,20)\n",
    "n"
   ]
  },
  {
   "cell_type": "code",
   "execution_count": 149,
   "id": "8ed65085-7819-4771-acfc-544f78466ff4",
   "metadata": {},
   "outputs": [
    {
     "data": {
      "text/plain": [
       "101"
      ]
     },
     "execution_count": 149,
     "metadata": {},
     "output_type": "execute_result"
    }
   ],
   "source": [
    "len(n)"
   ]
  },
  {
   "cell_type": "code",
   "execution_count": 148,
   "id": "44fcc91a-2516-4b86-a491-3f04dc18dd0d",
   "metadata": {},
   "outputs": [],
   "source": []
  },
  {
   "cell_type": "code",
   "execution_count": 150,
   "id": "6dd54623-738a-4150-9495-107426ec9a2d",
   "metadata": {},
   "outputs": [],
   "source": []
  },
  {
   "cell_type": "code",
   "execution_count": null,
   "id": "d790c1bb-949e-4c20-9281-c1e645fb0692",
   "metadata": {},
   "outputs": [],
   "source": []
  },
  {
   "cell_type": "code",
   "execution_count": null,
   "id": "c817982c-5aed-47e7-ba3f-346fb4b914af",
   "metadata": {},
   "outputs": [],
   "source": []
  }
 ],
 "metadata": {
  "kernelspec": {
   "display_name": "Python 3 (ipykernel)",
   "language": "python",
   "name": "python3"
  },
  "language_info": {
   "codemirror_mode": {
    "name": "ipython",
    "version": 3
   },
   "file_extension": ".py",
   "mimetype": "text/x-python",
   "name": "python",
   "nbconvert_exporter": "python",
   "pygments_lexer": "ipython3",
   "version": "3.9.12"
  },
  "toc-autonumbering": true,
  "toc-showtags": false
 },
 "nbformat": 4,
 "nbformat_minor": 5
}
