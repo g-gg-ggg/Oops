{
 "cells": [
  {
   "cell_type": "markdown",
   "id": "4e00cd56-c002-48a9-b65f-145294e2cbb6",
   "metadata": {},
   "source": [
    "# 빅데이터 개론 복습1\n",
    "> 파일 2-1 ~ 2-4\n",
    "\n",
    "> 파이썬 표현식과 변수, pandas 데이터 프레임, 열차 수송 자료\n",
    "\n",
    "- toc: true\n",
    "- branch: master\n",
    "- badges: true\n",
    "- comments: true\n",
    "- author: 김혜지\n",
    "- categories: [python]"
   ]
  },
  {
   "cell_type": "markdown",
   "id": "6a45ce35-e3ac-4e63-87b0-c7cb87f71cba",
   "metadata": {
    "tags": []
   },
   "source": [
    "## 2-1 표현식과 변수"
   ]
  },
  {
   "cell_type": "code",
   "execution_count": 34,
   "id": "11ff1dee-e9a9-4a81-95ca-19720d7c20a0",
   "metadata": {},
   "outputs": [
    {
     "data": {
      "text/plain": [
       "800000"
      ]
     },
     "execution_count": 34,
     "metadata": {},
     "output_type": "execute_result"
    }
   ],
   "source": [
    "hour_rate = 10000\n",
    "month_working_days = 20\n",
    "day_working_hours = 4\n",
    "month_pay = hour_rate * month_working_days * day_working_hours\n",
    "month_pay"
   ]
  },
  {
   "cell_type": "code",
   "execution_count": 35,
   "id": "ab1b27bf-0d40-44fc-911d-2899bb79352d",
   "metadata": {},
   "outputs": [
    {
     "data": {
      "text/plain": [
       "\"you can't come\""
      ]
     },
     "execution_count": 35,
     "metadata": {},
     "output_type": "execute_result"
    }
   ],
   "source": [
    "text_2 ='you can\\'t come' #역슬래시로 구분하기\n",
    "text_2"
   ]
  },
  {
   "cell_type": "code",
   "execution_count": 36,
   "id": "33ff6902-bdbb-479d-8f68-126aa75fb77d",
   "metadata": {},
   "outputs": [
    {
     "name": "stdout",
     "output_type": "stream",
     "text": [
      "첫 번째 줄 \n",
      "두 번째 줄\n"
     ]
    }
   ],
   "source": [
    "#\\n 이 나타나면 줄을 바꾸는 기능\n",
    "print(\"첫 번째 줄 \\n두 번째 줄\")"
   ]
  },
  {
   "cell_type": "code",
   "execution_count": 38,
   "id": "734cd1b6-a9a2-4d95-9e59-90a4623c9592",
   "metadata": {},
   "outputs": [
    {
     "name": "stdout",
     "output_type": "stream",
     "text": [
      "C:\\some\n",
      "ame\n"
     ]
    }
   ],
   "source": [
    "text_4 = 'C:\\some\\name'\n",
    "print(text_4)"
   ]
  },
  {
   "cell_type": "code",
   "execution_count": 37,
   "id": "84cce7b2-2001-4418-8067-9690d969df4e",
   "metadata": {},
   "outputs": [
    {
     "name": "stdout",
     "output_type": "stream",
     "text": [
      "C:\\some\\name\n"
     ]
    }
   ],
   "source": [
    "#앞에 r을 붙이면 줄바꿈 안 됨\n",
    "text_5 = r'C:\\some\\name'\n",
    "print(text_5)"
   ]
  },
  {
   "cell_type": "markdown",
   "id": "7054dc46-5d2d-43a4-9982-79c32a24cb46",
   "metadata": {
    "jp-MarkdownHeadingCollapsed": true,
    "tags": []
   },
   "source": [
    "- 라이브러리와 함수"
   ]
  },
  {
   "cell_type": "code",
   "execution_count": 45,
   "id": "6c936450-e82d-4426-b4f0-ac900684edf8",
   "metadata": {},
   "outputs": [],
   "source": [
    "import math"
   ]
  },
  {
   "cell_type": "code",
   "execution_count": 47,
   "id": "113d557f-0615-41c3-a5c8-bae43fe0edcd",
   "metadata": {},
   "outputs": [
    {
     "data": {
      "text/plain": [
       "0.9092974268256817"
      ]
     },
     "execution_count": 47,
     "metadata": {},
     "output_type": "execute_result"
    }
   ],
   "source": [
    "math.sin(2)"
   ]
  },
  {
   "cell_type": "code",
   "execution_count": 49,
   "id": "79633b49-8939-4101-b2fa-0a2793665ac9",
   "metadata": {},
   "outputs": [
    {
     "data": {
      "text/plain": [
       "4.605170185988092"
      ]
     },
     "execution_count": 49,
     "metadata": {},
     "output_type": "execute_result"
    }
   ],
   "source": [
    "math.log(100)"
   ]
  },
  {
   "cell_type": "markdown",
   "id": "c0a7c32b-59df-4d6b-b32b-6a5f143684df",
   "metadata": {},
   "source": [
    "- 리스트"
   ]
  },
  {
   "cell_type": "code",
   "execution_count": 51,
   "id": "89b54577-6277-4dd8-96ea-8eeea2ee534b",
   "metadata": {},
   "outputs": [
    {
     "data": {
      "text/plain": [
       "[1, 2, 0.5, 'chair']"
      ]
     },
     "execution_count": 51,
     "metadata": {},
     "output_type": "execute_result"
    }
   ],
   "source": [
    "list_1 = [1, 2, 0.5, 'chair']\n",
    "list_1"
   ]
  },
  {
   "cell_type": "code",
   "execution_count": 52,
   "id": "9f21f7ab-1b63-4e3c-8ca9-94b6c0fec5e1",
   "metadata": {},
   "outputs": [
    {
     "data": {
      "text/plain": [
       "[[1, 2, 0.5, 'chair'], 'A', [1, 2, 3]]"
      ]
     },
     "execution_count": 52,
     "metadata": {},
     "output_type": "execute_result"
    }
   ],
   "source": [
    "list_2 = [ list_1, \"A\", [1,2,3] ]\n",
    "list_2"
   ]
  },
  {
   "cell_type": "markdown",
   "id": "87c7ac48-8aa3-4a2d-8ffa-c95de5efe20a",
   "metadata": {},
   "source": [
    "**파이썬의 인덱스는 1이 아닌 0 부터 시작하므로 이를 언제나 유념해야 한다**"
   ]
  },
  {
   "cell_type": "code",
   "execution_count": 53,
   "id": "0ec35a27-e39a-4609-85b9-674672e30cf2",
   "metadata": {},
   "outputs": [],
   "source": [
    "squares = [1, 4, 9, 16, 25]"
   ]
  },
  {
   "cell_type": "code",
   "execution_count": 54,
   "id": "5fce6a9e-d652-41bc-803e-01dbe4c0036a",
   "metadata": {},
   "outputs": [
    {
     "data": {
      "text/plain": [
       "1"
      ]
     },
     "execution_count": 54,
     "metadata": {},
     "output_type": "execute_result"
    }
   ],
   "source": [
    "squares[0]"
   ]
  },
  {
   "cell_type": "code",
   "execution_count": 55,
   "id": "3a0c0a91-0103-4d7f-a819-e859bc5512d1",
   "metadata": {},
   "outputs": [
    {
     "data": {
      "text/plain": [
       "25"
      ]
     },
     "execution_count": 55,
     "metadata": {},
     "output_type": "execute_result"
    }
   ],
   "source": [
    "squares[4]"
   ]
  },
  {
   "cell_type": "code",
   "execution_count": 58,
   "id": "589faa0a-3be6-41e7-888d-382408c9450d",
   "metadata": {},
   "outputs": [
    {
     "data": {
      "text/plain": [
       "[1]"
      ]
     },
     "execution_count": 58,
     "metadata": {},
     "output_type": "execute_result"
    }
   ],
   "source": [
    "squares[:1]"
   ]
  },
  {
   "cell_type": "code",
   "execution_count": 59,
   "id": "9c2fe347-6d2a-41a8-a2a9-b596f20ce9ef",
   "metadata": {},
   "outputs": [
    {
     "data": {
      "text/plain": [
       "[1, 4, 9, 16]"
      ]
     },
     "execution_count": 59,
     "metadata": {},
     "output_type": "execute_result"
    }
   ],
   "source": [
    "squares[:-1]"
   ]
  },
  {
   "cell_type": "code",
   "execution_count": 68,
   "id": "135c05f4-1d1c-4734-a93d-d7ed9abc6839",
   "metadata": {},
   "outputs": [
    {
     "data": {
      "text/plain": [
       "[25]"
      ]
     },
     "execution_count": 68,
     "metadata": {},
     "output_type": "execute_result"
    }
   ],
   "source": [
    "squares[-1:]"
   ]
  },
  {
   "cell_type": "code",
   "execution_count": 72,
   "id": "d33064c3-2735-4a3a-a3b9-40e9cb66b733",
   "metadata": {},
   "outputs": [
    {
     "data": {
      "text/plain": [
       "True"
      ]
     },
     "execution_count": 72,
     "metadata": {},
     "output_type": "execute_result"
    }
   ],
   "source": [
    "#in 연산자\n",
    "1 in [1, 2, 3, 4]"
   ]
  },
  {
   "cell_type": "code",
   "execution_count": 73,
   "id": "9631dc7d-27db-491d-8198-5bda596db929",
   "metadata": {},
   "outputs": [
    {
     "data": {
      "text/plain": [
       "True"
      ]
     },
     "execution_count": 73,
     "metadata": {},
     "output_type": "execute_result"
    }
   ],
   "source": [
    "a = 5\n",
    "a in [1, 2, 3, 4, 5]"
   ]
  },
  {
   "cell_type": "markdown",
   "id": "26e11101-4c6d-4d2e-98bb-83acbe4f0d7b",
   "metadata": {
    "tags": []
   },
   "source": [
    "## 실습"
   ]
  },
  {
   "cell_type": "markdown",
   "id": "97525361-3ad1-4bf2-97e3-6f14fea5e0de",
   "metadata": {},
   "source": [
    "1. hstudent.csv'는 20명의 고등학생 성별, 학년, 키(cm), 몸무게(kg)를 조사한 자료이다.\n",
    "\n",
    "- 체질량지수는 몸무게(kg)를 키의 제곱(m)으로 나눈 값입니다.\n",
    "    - 5번 학생의 체질량지수는?\n",
    "    - 10번 학생의 체질량지수는?\n",
    "- 학생의 키와 몸무게를 각각 height와 weight에 저장하고, height와 weight를 사용하여 체질량지수 계산\n",
    "    - 5번 과 10번 학생 각각에 대하여 계산한 후 bmi5와 bmi10에 저장\n",
    "    - bmi5와 bmi10의 크기 비교 결과 print함수를 사용하여 보여주기\n",
    "- 1번부터 5번까지의 학생 키를 원소로 가지는 리스트 변수 height1_5생성\n",
    "    - 1번부터 3번까지 학생의 키 추출\n",
    "    \n",
    "2. 나는 전북대학교 학과 이름 입니다. (예, 나는 전북대학교 통계학과 최혜미입니다)\n",
    "    - 위 문자열을 값으로 가지는 변수 name_dept를 생성\n",
    "    - 변수 name_dept에서 전북대학교 추출"
   ]
  },
  {
   "cell_type": "code",
   "execution_count": 159,
   "id": "fb9e71fa-6c80-4e20-b7cd-fc36ea7a0896",
   "metadata": {},
   "outputs": [
    {
     "data": {
      "text/html": [
       "<div>\n",
       "<style scoped>\n",
       "    .dataframe tbody tr th:only-of-type {\n",
       "        vertical-align: middle;\n",
       "    }\n",
       "\n",
       "    .dataframe tbody tr th {\n",
       "        vertical-align: top;\n",
       "    }\n",
       "\n",
       "    .dataframe thead th {\n",
       "        text-align: right;\n",
       "    }\n",
       "</style>\n",
       "<table border=\"1\" class=\"dataframe\">\n",
       "  <thead>\n",
       "    <tr style=\"text-align: right;\">\n",
       "      <th></th>\n",
       "      <th>gender</th>\n",
       "      <th>grade</th>\n",
       "      <th>height</th>\n",
       "      <th>weight</th>\n",
       "    </tr>\n",
       "  </thead>\n",
       "  <tbody>\n",
       "    <tr>\n",
       "      <th>0</th>\n",
       "      <td>1</td>\n",
       "      <td>3</td>\n",
       "      <td>183</td>\n",
       "      <td>82</td>\n",
       "    </tr>\n",
       "    <tr>\n",
       "      <th>1</th>\n",
       "      <td>2</td>\n",
       "      <td>1</td>\n",
       "      <td>168</td>\n",
       "      <td>52</td>\n",
       "    </tr>\n",
       "    <tr>\n",
       "      <th>2</th>\n",
       "      <td>2</td>\n",
       "      <td>1</td>\n",
       "      <td>160</td>\n",
       "      <td>48</td>\n",
       "    </tr>\n",
       "    <tr>\n",
       "      <th>3</th>\n",
       "      <td>2</td>\n",
       "      <td>2</td>\n",
       "      <td>160</td>\n",
       "      <td>50</td>\n",
       "    </tr>\n",
       "    <tr>\n",
       "      <th>4</th>\n",
       "      <td>1</td>\n",
       "      <td>1</td>\n",
       "      <td>160</td>\n",
       "      <td>79</td>\n",
       "    </tr>\n",
       "    <tr>\n",
       "      <th>5</th>\n",
       "      <td>1</td>\n",
       "      <td>2</td>\n",
       "      <td>180</td>\n",
       "      <td>73</td>\n",
       "    </tr>\n",
       "    <tr>\n",
       "      <th>6</th>\n",
       "      <td>2</td>\n",
       "      <td>2</td>\n",
       "      <td>183</td>\n",
       "      <td>60</td>\n",
       "    </tr>\n",
       "    <tr>\n",
       "      <th>7</th>\n",
       "      <td>1</td>\n",
       "      <td>1</td>\n",
       "      <td>170</td>\n",
       "      <td>66</td>\n",
       "    </tr>\n",
       "    <tr>\n",
       "      <th>8</th>\n",
       "      <td>1</td>\n",
       "      <td>3</td>\n",
       "      <td>170</td>\n",
       "      <td>74</td>\n",
       "    </tr>\n",
       "    <tr>\n",
       "      <th>9</th>\n",
       "      <td>1</td>\n",
       "      <td>3</td>\n",
       "      <td>185</td>\n",
       "      <td>57</td>\n",
       "    </tr>\n",
       "    <tr>\n",
       "      <th>10</th>\n",
       "      <td>1</td>\n",
       "      <td>2</td>\n",
       "      <td>165</td>\n",
       "      <td>54</td>\n",
       "    </tr>\n",
       "    <tr>\n",
       "      <th>11</th>\n",
       "      <td>2</td>\n",
       "      <td>1</td>\n",
       "      <td>170</td>\n",
       "      <td>50</td>\n",
       "    </tr>\n",
       "    <tr>\n",
       "      <th>12</th>\n",
       "      <td>2</td>\n",
       "      <td>1</td>\n",
       "      <td>152</td>\n",
       "      <td>60</td>\n",
       "    </tr>\n",
       "    <tr>\n",
       "      <th>13</th>\n",
       "      <td>2</td>\n",
       "      <td>3</td>\n",
       "      <td>173</td>\n",
       "      <td>63</td>\n",
       "    </tr>\n",
       "    <tr>\n",
       "      <th>14</th>\n",
       "      <td>1</td>\n",
       "      <td>1</td>\n",
       "      <td>145</td>\n",
       "      <td>57</td>\n",
       "    </tr>\n",
       "    <tr>\n",
       "      <th>15</th>\n",
       "      <td>1</td>\n",
       "      <td>3</td>\n",
       "      <td>163</td>\n",
       "      <td>77</td>\n",
       "    </tr>\n",
       "    <tr>\n",
       "      <th>16</th>\n",
       "      <td>2</td>\n",
       "      <td>2</td>\n",
       "      <td>178</td>\n",
       "      <td>50</td>\n",
       "    </tr>\n",
       "    <tr>\n",
       "      <th>17</th>\n",
       "      <td>2</td>\n",
       "      <td>2</td>\n",
       "      <td>163</td>\n",
       "      <td>57</td>\n",
       "    </tr>\n",
       "    <tr>\n",
       "      <th>18</th>\n",
       "      <td>2</td>\n",
       "      <td>2</td>\n",
       "      <td>168</td>\n",
       "      <td>54</td>\n",
       "    </tr>\n",
       "    <tr>\n",
       "      <th>19</th>\n",
       "      <td>2</td>\n",
       "      <td>3</td>\n",
       "      <td>170</td>\n",
       "      <td>57</td>\n",
       "    </tr>\n",
       "  </tbody>\n",
       "</table>\n",
       "</div>"
      ],
      "text/plain": [
       "    gender  grade  height  weight\n",
       "0        1      3     183      82\n",
       "1        2      1     168      52\n",
       "2        2      1     160      48\n",
       "3        2      2     160      50\n",
       "4        1      1     160      79\n",
       "5        1      2     180      73\n",
       "6        2      2     183      60\n",
       "7        1      1     170      66\n",
       "8        1      3     170      74\n",
       "9        1      3     185      57\n",
       "10       1      2     165      54\n",
       "11       2      1     170      50\n",
       "12       2      1     152      60\n",
       "13       2      3     173      63\n",
       "14       1      1     145      57\n",
       "15       1      3     163      77\n",
       "16       2      2     178      50\n",
       "17       2      2     163      57\n",
       "18       2      2     168      54\n",
       "19       2      3     170      57"
      ]
     },
     "execution_count": 159,
     "metadata": {},
     "output_type": "execute_result"
    }
   ],
   "source": [
    "df = pd.read_csv(\"hstudent.csv\")\n",
    "df"
   ]
  },
  {
   "cell_type": "code",
   "execution_count": 163,
   "id": "f81390de-42e2-4e4e-a3bb-8e39125adc16",
   "metadata": {},
   "outputs": [],
   "source": [
    "height = df['height']\n",
    "weight = df['weight']"
   ]
  },
  {
   "cell_type": "code",
   "execution_count": 169,
   "id": "bffb8722-cb25-41b6-819b-c10a51ccc0f3",
   "metadata": {},
   "outputs": [
    {
     "name": "stdout",
     "output_type": "stream",
     "text": [
      "0.0030859375 0.0016654492330168006\n"
     ]
    }
   ],
   "source": [
    "bmi5 = weight[4]/height[4]**2\n",
    "bmi10 = weight[9]/height[9]**2\n",
    "print(bmi5, bmi10)"
   ]
  },
  {
   "cell_type": "code",
   "execution_count": 180,
   "id": "1af9d263-a5bd-4e9d-83e2-eeea8fcfa3d2",
   "metadata": {},
   "outputs": [
    {
     "data": {
      "text/plain": [
       "0    183\n",
       "1    168\n",
       "2    160\n",
       "Name: height, dtype: int64"
      ]
     },
     "execution_count": 180,
     "metadata": {},
     "output_type": "execute_result"
    }
   ],
   "source": [
    "height1_5 = height[0:5]\n",
    "height1_5[0:3]"
   ]
  },
  {
   "cell_type": "code",
   "execution_count": 185,
   "id": "c5ec9a3c-9ec0-4bf7-b583-716d09941215",
   "metadata": {},
   "outputs": [
    {
     "data": {
      "text/plain": [
       "[183, 168, 160]"
      ]
     },
     "execution_count": 185,
     "metadata": {},
     "output_type": "execute_result"
    }
   ],
   "source": [
    "height1_5 = list(height[0:5])\n",
    "height1_5[0:3]"
   ]
  },
  {
   "cell_type": "code",
   "execution_count": 156,
   "id": "012160d4-6e91-4ff4-9a12-53efae64561c",
   "metadata": {},
   "outputs": [],
   "source": [
    "# height = [183, 168, 160, 160, 160, 180, 183, 170, 170, 185, 165, 170, 152, 173, 145, 163, 178, 163, 168, 170]\n",
    "# weight = [82, 52, 48, 50, 79, 73, 60, 66, 74, 57, 54, 50, 60, 63, 57, 77, 50, 57, 54, 57]"
   ]
  },
  {
   "cell_type": "code",
   "execution_count": 225,
   "id": "83ddfbf4-9274-4019-9d70-9fe187579103",
   "metadata": {},
   "outputs": [
    {
     "data": {
      "text/plain": [
       "'전북대학교'"
      ]
     },
     "execution_count": 225,
     "metadata": {},
     "output_type": "execute_result"
    }
   ],
   "source": [
    "name_debt = \"나는 전북대학교 스페인중남미학과 김혜지입니다.\"\n",
    "name_debt[3:8]"
   ]
  },
  {
   "cell_type": "markdown",
   "id": "70b5facb-b79a-4044-981c-82c7b8e0efc1",
   "metadata": {
    "tags": []
   },
   "source": [
    "## 2-2 판다스 데이터 프레임 "
   ]
  },
  {
   "cell_type": "code",
   "execution_count": 2,
   "id": "e18fb7fc-db83-416a-8418-b8d3a97fbb67",
   "metadata": {},
   "outputs": [],
   "source": [
    "import pandas as pd"
   ]
  },
  {
   "cell_type": "code",
   "execution_count": 65,
   "id": "d37d3c58-a6a7-4c75-ac7e-46d78af94e77",
   "metadata": {},
   "outputs": [],
   "source": [
    "df = pd.DataFrame({\n",
    "'name' : ['이철수', '김영희', '홍길동', 'John Smith'], 'sex' : ['M', 'F', 'M', 'M'], 'age' : [23, 25, 21, 33]\n",
    "})"
   ]
  },
  {
   "cell_type": "code",
   "execution_count": 66,
   "id": "b0d3ab2f-d746-4db8-aa0f-acf035b78d14",
   "metadata": {},
   "outputs": [
    {
     "data": {
      "text/html": [
       "<div>\n",
       "<style scoped>\n",
       "    .dataframe tbody tr th:only-of-type {\n",
       "        vertical-align: middle;\n",
       "    }\n",
       "\n",
       "    .dataframe tbody tr th {\n",
       "        vertical-align: top;\n",
       "    }\n",
       "\n",
       "    .dataframe thead th {\n",
       "        text-align: right;\n",
       "    }\n",
       "</style>\n",
       "<table border=\"1\" class=\"dataframe\">\n",
       "  <thead>\n",
       "    <tr style=\"text-align: right;\">\n",
       "      <th></th>\n",
       "      <th>name</th>\n",
       "      <th>sex</th>\n",
       "      <th>age</th>\n",
       "    </tr>\n",
       "  </thead>\n",
       "  <tbody>\n",
       "    <tr>\n",
       "      <th>0</th>\n",
       "      <td>이철수</td>\n",
       "      <td>M</td>\n",
       "      <td>23</td>\n",
       "    </tr>\n",
       "    <tr>\n",
       "      <th>1</th>\n",
       "      <td>김영희</td>\n",
       "      <td>F</td>\n",
       "      <td>25</td>\n",
       "    </tr>\n",
       "    <tr>\n",
       "      <th>2</th>\n",
       "      <td>홍길동</td>\n",
       "      <td>M</td>\n",
       "      <td>21</td>\n",
       "    </tr>\n",
       "    <tr>\n",
       "      <th>3</th>\n",
       "      <td>John Smith</td>\n",
       "      <td>M</td>\n",
       "      <td>33</td>\n",
       "    </tr>\n",
       "  </tbody>\n",
       "</table>\n",
       "</div>"
      ],
      "text/plain": [
       "         name sex  age\n",
       "0         이철수   M   23\n",
       "1         김영희   F   25\n",
       "2         홍길동   M   21\n",
       "3  John Smith   M   33"
      ]
     },
     "execution_count": 66,
     "metadata": {},
     "output_type": "execute_result"
    }
   ],
   "source": [
    "df"
   ]
  },
  {
   "cell_type": "markdown",
   "id": "9c0ce07e-bfa8-44be-93ae-6f6e541d157c",
   "metadata": {},
   "source": [
    "- 슬라이싱"
   ]
  },
  {
   "cell_type": "code",
   "execution_count": 10,
   "id": "927edae3-1091-4136-aa7b-b7b3d9066b25",
   "metadata": {},
   "outputs": [
    {
     "data": {
      "text/html": [
       "<div>\n",
       "<style scoped>\n",
       "    .dataframe tbody tr th:only-of-type {\n",
       "        vertical-align: middle;\n",
       "    }\n",
       "\n",
       "    .dataframe tbody tr th {\n",
       "        vertical-align: top;\n",
       "    }\n",
       "\n",
       "    .dataframe thead th {\n",
       "        text-align: right;\n",
       "    }\n",
       "</style>\n",
       "<table border=\"1\" class=\"dataframe\">\n",
       "  <thead>\n",
       "    <tr style=\"text-align: right;\">\n",
       "      <th></th>\n",
       "      <th>name</th>\n",
       "      <th>age</th>\n",
       "    </tr>\n",
       "  </thead>\n",
       "  <tbody>\n",
       "    <tr>\n",
       "      <th>0</th>\n",
       "      <td>이철수</td>\n",
       "      <td>23</td>\n",
       "    </tr>\n",
       "    <tr>\n",
       "      <th>1</th>\n",
       "      <td>김영희</td>\n",
       "      <td>25</td>\n",
       "    </tr>\n",
       "    <tr>\n",
       "      <th>2</th>\n",
       "      <td>홍길동</td>\n",
       "      <td>21</td>\n",
       "    </tr>\n",
       "    <tr>\n",
       "      <th>3</th>\n",
       "      <td>John Smith</td>\n",
       "      <td>33</td>\n",
       "    </tr>\n",
       "  </tbody>\n",
       "</table>\n",
       "</div>"
      ],
      "text/plain": [
       "         name  age\n",
       "0         이철수   23\n",
       "1         김영희   25\n",
       "2         홍길동   21\n",
       "3  John Smith   33"
      ]
     },
     "execution_count": 10,
     "metadata": {},
     "output_type": "execute_result"
    }
   ],
   "source": [
    "df[['name', 'age']] #두 개 이상의 열을 슬라이싱 하기위해서는 리스트를 사용하기"
   ]
  },
  {
   "cell_type": "code",
   "execution_count": 9,
   "id": "071d25c2-21f5-4fac-893f-98beeee6b8e4",
   "metadata": {},
   "outputs": [
    {
     "data": {
      "text/plain": [
       "0    23\n",
       "1    25\n",
       "2    21\n",
       "3    33\n",
       "Name: age, dtype: int64"
      ]
     },
     "execution_count": 9,
     "metadata": {},
     "output_type": "execute_result"
    }
   ],
   "source": [
    "#데이터 프레임의 하나의 열 == 시리즈\n",
    "#데이터 프레임 열을 슬라이스 하는 경우는 마침표 사용해서 슬라이싱이 가능\n",
    "df.age"
   ]
  },
  {
   "cell_type": "code",
   "execution_count": 13,
   "id": "0bd021ae-dfc3-4b65-80b1-edd1ecccdb9d",
   "metadata": {},
   "outputs": [
    {
     "data": {
      "text/html": [
       "<div>\n",
       "<style scoped>\n",
       "    .dataframe tbody tr th:only-of-type {\n",
       "        vertical-align: middle;\n",
       "    }\n",
       "\n",
       "    .dataframe tbody tr th {\n",
       "        vertical-align: top;\n",
       "    }\n",
       "\n",
       "    .dataframe thead th {\n",
       "        text-align: right;\n",
       "    }\n",
       "</style>\n",
       "<table border=\"1\" class=\"dataframe\">\n",
       "  <thead>\n",
       "    <tr style=\"text-align: right;\">\n",
       "      <th></th>\n",
       "      <th>name</th>\n",
       "      <th>sex</th>\n",
       "      <th>age</th>\n",
       "    </tr>\n",
       "  </thead>\n",
       "  <tbody>\n",
       "    <tr>\n",
       "      <th>1</th>\n",
       "      <td>김영희</td>\n",
       "      <td>F</td>\n",
       "      <td>25</td>\n",
       "    </tr>\n",
       "    <tr>\n",
       "      <th>3</th>\n",
       "      <td>John Smith</td>\n",
       "      <td>M</td>\n",
       "      <td>33</td>\n",
       "    </tr>\n",
       "  </tbody>\n",
       "</table>\n",
       "</div>"
      ],
      "text/plain": [
       "         name sex  age\n",
       "1         김영희   F   25\n",
       "3  John Smith   M   33"
      ]
     },
     "execution_count": 13,
     "metadata": {},
     "output_type": "execute_result"
    }
   ],
   "source": [
    "df[df['age'] >= 25]\n",
    "#df['age'] >= 25는 참, 거짓으로 구성된 시리즈 -> 슬라이싱 하기 위해서는 df을 한 번 더 씌어주면 됨"
   ]
  },
  {
   "cell_type": "markdown",
   "id": "4efb2431-59aa-473f-966a-924551f218e0",
   "metadata": {},
   "source": [
    "- 데이터 프레임 메소드"
   ]
  },
  {
   "cell_type": "code",
   "execution_count": 14,
   "id": "ce70debd-af88-41e9-87c3-dbde05f8058e",
   "metadata": {},
   "outputs": [
    {
     "data": {
      "text/html": [
       "<div>\n",
       "<style scoped>\n",
       "    .dataframe tbody tr th:only-of-type {\n",
       "        vertical-align: middle;\n",
       "    }\n",
       "\n",
       "    .dataframe tbody tr th {\n",
       "        vertical-align: top;\n",
       "    }\n",
       "\n",
       "    .dataframe thead th {\n",
       "        text-align: right;\n",
       "    }\n",
       "</style>\n",
       "<table border=\"1\" class=\"dataframe\">\n",
       "  <thead>\n",
       "    <tr style=\"text-align: right;\">\n",
       "      <th></th>\n",
       "      <th>age</th>\n",
       "    </tr>\n",
       "  </thead>\n",
       "  <tbody>\n",
       "    <tr>\n",
       "      <th>count</th>\n",
       "      <td>4.000000</td>\n",
       "    </tr>\n",
       "    <tr>\n",
       "      <th>mean</th>\n",
       "      <td>25.500000</td>\n",
       "    </tr>\n",
       "    <tr>\n",
       "      <th>std</th>\n",
       "      <td>5.259911</td>\n",
       "    </tr>\n",
       "    <tr>\n",
       "      <th>min</th>\n",
       "      <td>21.000000</td>\n",
       "    </tr>\n",
       "    <tr>\n",
       "      <th>25%</th>\n",
       "      <td>22.500000</td>\n",
       "    </tr>\n",
       "    <tr>\n",
       "      <th>50%</th>\n",
       "      <td>24.000000</td>\n",
       "    </tr>\n",
       "    <tr>\n",
       "      <th>75%</th>\n",
       "      <td>27.000000</td>\n",
       "    </tr>\n",
       "    <tr>\n",
       "      <th>max</th>\n",
       "      <td>33.000000</td>\n",
       "    </tr>\n",
       "  </tbody>\n",
       "</table>\n",
       "</div>"
      ],
      "text/plain": [
       "             age\n",
       "count   4.000000\n",
       "mean   25.500000\n",
       "std     5.259911\n",
       "min    21.000000\n",
       "25%    22.500000\n",
       "50%    24.000000\n",
       "75%    27.000000\n",
       "max    33.000000"
      ]
     },
     "execution_count": 14,
     "metadata": {},
     "output_type": "execute_result"
    }
   ],
   "source": [
    "df.describe() #describe() : 숫자로 구성된 열의 기초 통계량을 구하는 표현식"
   ]
  },
  {
   "cell_type": "code",
   "execution_count": 67,
   "id": "4d042d8a-9bd0-4a68-ac0f-62210488aca2",
   "metadata": {},
   "outputs": [
    {
     "data": {
      "text/plain": [
       "name    홍길동\n",
       "sex       M\n",
       "age      33\n",
       "dtype: object"
      ]
     },
     "execution_count": 67,
     "metadata": {},
     "output_type": "execute_result"
    }
   ],
   "source": [
    "df.max() #각 열의 최대값을 구하는 작업을 수행 ?왜 맥스 값을 찍었는데 홍길동 이름이 나오지? \n",
    "#한글은 가나다순, 영어는 알파벳 순으로 max값이 뽑힌다."
   ]
  },
  {
   "cell_type": "code",
   "execution_count": 18,
   "id": "325b95d9-de02-42e8-8d65-fa7facaf246e",
   "metadata": {},
   "outputs": [
    {
     "data": {
      "text/plain": [
       "(4, 3)"
      ]
     },
     "execution_count": 18,
     "metadata": {},
     "output_type": "execute_result"
    }
   ],
   "source": [
    "df.shape"
   ]
  },
  {
   "cell_type": "code",
   "execution_count": 21,
   "id": "60a3af99-c33b-498c-b6b0-118c8f2c93c2",
   "metadata": {},
   "outputs": [
    {
     "data": {
      "text/plain": [
       "'김영희'"
      ]
     },
     "execution_count": 21,
     "metadata": {},
     "output_type": "execute_result"
    }
   ],
   "source": [
    "df.iloc[1,0]"
   ]
  },
  {
   "cell_type": "code",
   "execution_count": 33,
   "id": "2cba2583-532e-485c-b764-6afbfa5f4e2a",
   "metadata": {},
   "outputs": [
    {
     "data": {
      "text/plain": [
       "21"
      ]
     },
     "execution_count": 33,
     "metadata": {},
     "output_type": "execute_result"
    }
   ],
   "source": [
    "df.iloc[2,2]"
   ]
  },
  {
   "cell_type": "markdown",
   "id": "9898958a-3577-443a-90bb-89999b3d9306",
   "metadata": {
    "tags": []
   },
   "source": [
    "## 문제1"
   ]
  },
  {
   "cell_type": "markdown",
   "id": "31f42fba-15ce-4579-8557-15a2cac791c0",
   "metadata": {},
   "source": [
    "1. 사진과 같은 데이터 프레임 만들기\n",
    "2. 데이터 프레임의 shape를 출력 \n",
    "3. 평균 면적(area)을 계산하여라\n",
    "4. 인구수가 2000만명 이하인 주들을 골라내어라. 또한 해당하는 주의 평균 밀도를 구해보아라\n",
    "5. 첫 3개의 행과 첫 2개의 열로 이루어진 sub-dataframe을 추출하여라 \n",
    "6. New York의 인구(pop)를 추출하여라 "
   ]
  },
  {
   "cell_type": "code",
   "execution_count": 192,
   "id": "dece9d80-7a91-4882-b4b2-15dda3dc9355",
   "metadata": {},
   "outputs": [
    {
     "data": {
      "text/html": [
       "<div>\n",
       "<style scoped>\n",
       "    .dataframe tbody tr th:only-of-type {\n",
       "        vertical-align: middle;\n",
       "    }\n",
       "\n",
       "    .dataframe tbody tr th {\n",
       "        vertical-align: top;\n",
       "    }\n",
       "\n",
       "    .dataframe thead th {\n",
       "        text-align: right;\n",
       "    }\n",
       "</style>\n",
       "<table border=\"1\" class=\"dataframe\">\n",
       "  <thead>\n",
       "    <tr style=\"text-align: right;\">\n",
       "      <th></th>\n",
       "      <th>area</th>\n",
       "      <th>pop1</th>\n",
       "      <th>density</th>\n",
       "    </tr>\n",
       "  </thead>\n",
       "  <tbody>\n",
       "    <tr>\n",
       "      <th>Califonia</th>\n",
       "      <td>423967</td>\n",
       "      <td>38332521</td>\n",
       "      <td>90.000000</td>\n",
       "    </tr>\n",
       "    <tr>\n",
       "      <th>Texas</th>\n",
       "      <td>695662</td>\n",
       "      <td>26448193</td>\n",
       "      <td>38.018740</td>\n",
       "    </tr>\n",
       "    <tr>\n",
       "      <th>New York</th>\n",
       "      <td>141297</td>\n",
       "      <td>19651127</td>\n",
       "      <td>139.076746</td>\n",
       "    </tr>\n",
       "    <tr>\n",
       "      <th>Flprida</th>\n",
       "      <td>170312</td>\n",
       "      <td>19552860</td>\n",
       "      <td>114.806121</td>\n",
       "    </tr>\n",
       "    <tr>\n",
       "      <th>Illinois</th>\n",
       "      <td>149995</td>\n",
       "      <td>12882135</td>\n",
       "      <td>85.883763</td>\n",
       "    </tr>\n",
       "  </tbody>\n",
       "</table>\n",
       "</div>"
      ],
      "text/plain": [
       "             area      pop1     density\n",
       "Califonia  423967  38332521   90.000000\n",
       "Texas      695662  26448193   38.018740\n",
       "New York   141297  19651127  139.076746\n",
       "Flprida    170312  19552860  114.806121\n",
       "Illinois   149995  12882135   85.883763"
      ]
     },
     "execution_count": 192,
     "metadata": {},
     "output_type": "execute_result"
    }
   ],
   "source": [
    "df = pd.DataFrame({\"area\" : [423967, 695662, 141297, 170312, 149995],\n",
    "     \"pop1\" : [38332521, 26448193, 19651127, 19552860, 12882135],\n",
    "     \"density\" : [90.000000, 38.018740, 139.076746, 114.806121, 85.883763]\n",
    "    }, index = [\"Califonia\", \"Texas\", \"New York\", \"Flprida\", \"Illinois\"])\n",
    "df"
   ]
  },
  {
   "cell_type": "code",
   "execution_count": 193,
   "id": "24e54697-fddc-4151-99b1-8dda1518f9d6",
   "metadata": {},
   "outputs": [
    {
     "data": {
      "text/plain": [
       "(5, 3)"
      ]
     },
     "execution_count": 193,
     "metadata": {},
     "output_type": "execute_result"
    }
   ],
   "source": [
    "df.shape"
   ]
  },
  {
   "cell_type": "code",
   "execution_count": 209,
   "id": "b5fcf7ad-2d0d-4234-bc8d-fdfe065e302d",
   "metadata": {},
   "outputs": [
    {
     "data": {
      "text/plain": [
       "316246.6"
      ]
     },
     "execution_count": 209,
     "metadata": {},
     "output_type": "execute_result"
    }
   ],
   "source": [
    "df[\"area\"].mean() #mean다음에 괄호 잊지 말기 () 중요!!"
   ]
  },
  {
   "cell_type": "code",
   "execution_count": 213,
   "id": "5c24d1fd-c9bc-4166-aac5-1af887faa7f8",
   "metadata": {},
   "outputs": [
    {
     "data": {
      "text/plain": [
       "113.25554333333334"
      ]
     },
     "execution_count": 213,
     "metadata": {},
     "output_type": "execute_result"
    }
   ],
   "source": [
    "df[df[\"pop1\"] <= 20000000][\"density\"].mean() #mean() 다음에 괄호 필수, 데이터 프레임 옆에 붙여서 밀도의 평균 계산 가능"
   ]
  },
  {
   "cell_type": "code",
   "execution_count": 215,
   "id": "4f0ddd36-b513-49e3-9201-03f2ffae8bbe",
   "metadata": {},
   "outputs": [
    {
     "data": {
      "text/html": [
       "<div>\n",
       "<style scoped>\n",
       "    .dataframe tbody tr th:only-of-type {\n",
       "        vertical-align: middle;\n",
       "    }\n",
       "\n",
       "    .dataframe tbody tr th {\n",
       "        vertical-align: top;\n",
       "    }\n",
       "\n",
       "    .dataframe thead th {\n",
       "        text-align: right;\n",
       "    }\n",
       "</style>\n",
       "<table border=\"1\" class=\"dataframe\">\n",
       "  <thead>\n",
       "    <tr style=\"text-align: right;\">\n",
       "      <th></th>\n",
       "      <th>area</th>\n",
       "      <th>pop1</th>\n",
       "    </tr>\n",
       "  </thead>\n",
       "  <tbody>\n",
       "    <tr>\n",
       "      <th>Califonia</th>\n",
       "      <td>423967</td>\n",
       "      <td>38332521</td>\n",
       "    </tr>\n",
       "    <tr>\n",
       "      <th>Texas</th>\n",
       "      <td>695662</td>\n",
       "      <td>26448193</td>\n",
       "    </tr>\n",
       "    <tr>\n",
       "      <th>New York</th>\n",
       "      <td>141297</td>\n",
       "      <td>19651127</td>\n",
       "    </tr>\n",
       "  </tbody>\n",
       "</table>\n",
       "</div>"
      ],
      "text/plain": [
       "             area      pop1\n",
       "Califonia  423967  38332521\n",
       "Texas      695662  26448193\n",
       "New York   141297  19651127"
      ]
     },
     "execution_count": 215,
     "metadata": {},
     "output_type": "execute_result"
    }
   ],
   "source": [
    "df.iloc[:3,:2] # iloc 사용하기"
   ]
  },
  {
   "cell_type": "code",
   "execution_count": 218,
   "id": "b8988e0e-540b-48af-ba39-f8c7ee71d3f8",
   "metadata": {},
   "outputs": [
    {
     "data": {
      "text/plain": [
       "19651127"
      ]
     },
     "execution_count": 218,
     "metadata": {},
     "output_type": "execute_result"
    }
   ],
   "source": [
    "df.iloc[2,1]"
   ]
  },
  {
   "cell_type": "code",
   "execution_count": 224,
   "id": "d566d7ab-89a3-4b18-8045-76f00c6c2cb6",
   "metadata": {},
   "outputs": [
    {
     "data": {
      "text/plain": [
       "19651127"
      ]
     },
     "execution_count": 224,
     "metadata": {},
     "output_type": "execute_result"
    }
   ],
   "source": [
    "df[\"pop1\"][\"New York\"] # df를 뽑으려면 무조건 열 먼저 실행 후 행 선택하기(행 먼저하면 오류 발생)"
   ]
  },
  {
   "cell_type": "markdown",
   "id": "0bd54178-0a73-431a-8ab1-8f7503cc43c5",
   "metadata": {},
   "source": [
    "## 2-3 고속열차 여객 수송자료"
   ]
  },
  {
   "cell_type": "code",
   "execution_count": 2,
   "id": "8d3584e9-ed8d-41c4-b804-d0439f82928c",
   "metadata": {},
   "outputs": [],
   "source": [
    "import pandas as pd\n",
    "import matplotlib.pyplot as plt\n",
    "from matplotlib import rc\n",
    "%matplotlib inline\n",
    "rc('font', family='AppleGothic')\n",
    "plt.rcParams['axes.unicode_minus'] = False\n",
    "plt.rcParams[\"figure.figsize\"] = (10,5)"
   ]
  },
  {
   "cell_type": "code",
   "execution_count": 3,
   "id": "b627ad3d-7e51-4637-ab01-2038a2e2663b",
   "metadata": {},
   "outputs": [
    {
     "data": {
      "text/html": [
       "<div>\n",
       "<style scoped>\n",
       "    .dataframe tbody tr th:only-of-type {\n",
       "        vertical-align: middle;\n",
       "    }\n",
       "\n",
       "    .dataframe tbody tr th {\n",
       "        vertical-align: top;\n",
       "    }\n",
       "\n",
       "    .dataframe thead th {\n",
       "        text-align: right;\n",
       "    }\n",
       "</style>\n",
       "<table border=\"1\" class=\"dataframe\">\n",
       "  <thead>\n",
       "    <tr style=\"text-align: right;\">\n",
       "      <th></th>\n",
       "      <th>TRAIN_NO</th>\n",
       "      <th>DATE</th>\n",
       "      <th>STATION_DEPART</th>\n",
       "      <th>STATION_ARRV</th>\n",
       "      <th>NUM_PASSENGER</th>\n",
       "    </tr>\n",
       "  </thead>\n",
       "  <tbody>\n",
       "    <tr>\n",
       "      <th>0</th>\n",
       "      <td>2</td>\n",
       "      <td>20190701</td>\n",
       "      <td>서울</td>\n",
       "      <td>대전</td>\n",
       "      <td>106.0</td>\n",
       "    </tr>\n",
       "    <tr>\n",
       "      <th>1</th>\n",
       "      <td>2</td>\n",
       "      <td>20190702</td>\n",
       "      <td>서울</td>\n",
       "      <td>대전</td>\n",
       "      <td>113.0</td>\n",
       "    </tr>\n",
       "    <tr>\n",
       "      <th>2</th>\n",
       "      <td>2</td>\n",
       "      <td>20190703</td>\n",
       "      <td>서울</td>\n",
       "      <td>대전</td>\n",
       "      <td>146.0</td>\n",
       "    </tr>\n",
       "    <tr>\n",
       "      <th>3</th>\n",
       "      <td>2</td>\n",
       "      <td>20190704</td>\n",
       "      <td>서울</td>\n",
       "      <td>대전</td>\n",
       "      <td>84.0</td>\n",
       "    </tr>\n",
       "    <tr>\n",
       "      <th>4</th>\n",
       "      <td>2</td>\n",
       "      <td>20190705</td>\n",
       "      <td>서울</td>\n",
       "      <td>대전</td>\n",
       "      <td>105.0</td>\n",
       "    </tr>\n",
       "    <tr>\n",
       "      <th>...</th>\n",
       "      <td>...</td>\n",
       "      <td>...</td>\n",
       "      <td>...</td>\n",
       "      <td>...</td>\n",
       "      <td>...</td>\n",
       "    </tr>\n",
       "    <tr>\n",
       "      <th>1764</th>\n",
       "      <td>6</td>\n",
       "      <td>20190726</td>\n",
       "      <td>울산</td>\n",
       "      <td>부산</td>\n",
       "      <td>10.0</td>\n",
       "    </tr>\n",
       "    <tr>\n",
       "      <th>1765</th>\n",
       "      <td>6</td>\n",
       "      <td>20190727</td>\n",
       "      <td>울산</td>\n",
       "      <td>부산</td>\n",
       "      <td>6.0</td>\n",
       "    </tr>\n",
       "    <tr>\n",
       "      <th>1766</th>\n",
       "      <td>6</td>\n",
       "      <td>20190728</td>\n",
       "      <td>울산</td>\n",
       "      <td>부산</td>\n",
       "      <td>21.0</td>\n",
       "    </tr>\n",
       "    <tr>\n",
       "      <th>1767</th>\n",
       "      <td>6</td>\n",
       "      <td>20190729</td>\n",
       "      <td>울산</td>\n",
       "      <td>부산</td>\n",
       "      <td>12.0</td>\n",
       "    </tr>\n",
       "    <tr>\n",
       "      <th>1768</th>\n",
       "      <td>6</td>\n",
       "      <td>20190730</td>\n",
       "      <td>울산</td>\n",
       "      <td>부산</td>\n",
       "      <td>11.0</td>\n",
       "    </tr>\n",
       "  </tbody>\n",
       "</table>\n",
       "<p>1769 rows × 5 columns</p>\n",
       "</div>"
      ],
      "text/plain": [
       "      TRAIN_NO      DATE STATION_DEPART STATION_ARRV  NUM_PASSENGER\n",
       "0            2  20190701             서울           대전          106.0\n",
       "1            2  20190702             서울           대전          113.0\n",
       "2            2  20190703             서울           대전          146.0\n",
       "3            2  20190704             서울           대전           84.0\n",
       "4            2  20190705             서울           대전          105.0\n",
       "...        ...       ...            ...          ...            ...\n",
       "1764         6  20190726             울산           부산           10.0\n",
       "1765         6  20190727             울산           부산            6.0\n",
       "1766         6  20190728             울산           부산           21.0\n",
       "1767         6  20190729             울산           부산           12.0\n",
       "1768         6  20190730             울산           부산           11.0\n",
       "\n",
       "[1769 rows x 5 columns]"
      ]
     },
     "execution_count": 3,
     "metadata": {},
     "output_type": "execute_result"
    }
   ],
   "source": [
    "url =\"https://ilovedata.github.io/teaching/bigdata2/data/train-data-01.csv\"\n",
    "train_raw_data = pd.read_csv(url)\n",
    "train_raw_data"
   ]
  },
  {
   "cell_type": "code",
   "execution_count": 4,
   "id": "c4940720-1d07-4f55-a8b1-6cc9df2ff3f3",
   "metadata": {},
   "outputs": [
    {
     "data": {
      "text/plain": [
       "array([2, 5, 6])"
      ]
     },
     "execution_count": 4,
     "metadata": {},
     "output_type": "execute_result"
    }
   ],
   "source": [
    "#unique() : 중복을 없애서 출력해 줌\n",
    "num_train = train_raw_data[\"TRAIN_NO\"].unique()\n",
    "num_train"
   ]
  },
  {
   "cell_type": "markdown",
   "id": "0c8032ed-2aab-497f-a684-be4cd225bcab",
   "metadata": {},
   "source": [
    "다음 3개의 조건을 모두 만족하는 행들을 추출\n",
    "\n",
    "열차번호가 2번이다.\n",
    "\n",
    "출발역은 서울역이다.\n",
    "\n",
    "도착역은 부산역이다.\n"
   ]
  },
  {
   "cell_type": "code",
   "execution_count": 5,
   "id": "d477fada-963f-4064-a81b-1d7a6c660370",
   "metadata": {},
   "outputs": [
    {
     "data": {
      "text/plain": [
       "0       False\n",
       "1       False\n",
       "2       False\n",
       "3       False\n",
       "4       False\n",
       "        ...  \n",
       "1764    False\n",
       "1765    False\n",
       "1766    False\n",
       "1767    False\n",
       "1768    False\n",
       "Length: 1769, dtype: bool"
      ]
     },
     "execution_count": 5,
     "metadata": {},
     "output_type": "execute_result"
    }
   ],
   "source": [
    "a = train_raw_data[\"TRAIN_NO\"] == 2\n",
    "b = train_raw_data[\"STATION_DEPART\"] == \"서울\"\n",
    "c = train_raw_data[\"STATION_ARRV\"] == \"부산\"\n",
    "d = a & b & c\n",
    "d"
   ]
  },
  {
   "cell_type": "code",
   "execution_count": 6,
   "id": "d59ff677-c726-4459-a40c-d83b147de7e1",
   "metadata": {},
   "outputs": [],
   "source": [
    "train2 = train_raw_data[d] #습관처럼 df에 넣지 말자 정의된 데이터 프레임에 넣어야 한다. df[a] 이렇게 표현할 수 있는 이유는 df가 정의되어 있는 데이터 프레임이기 때문이다. "
   ]
  },
  {
   "cell_type": "code",
   "execution_count": 7,
   "id": "b1a210fd-52c0-4795-8765-ecb703ce6db1",
   "metadata": {},
   "outputs": [
    {
     "data": {
      "text/html": [
       "<div>\n",
       "<style scoped>\n",
       "    .dataframe tbody tr th:only-of-type {\n",
       "        vertical-align: middle;\n",
       "    }\n",
       "\n",
       "    .dataframe tbody tr th {\n",
       "        vertical-align: top;\n",
       "    }\n",
       "\n",
       "    .dataframe thead th {\n",
       "        text-align: right;\n",
       "    }\n",
       "</style>\n",
       "<table border=\"1\" class=\"dataframe\">\n",
       "  <thead>\n",
       "    <tr style=\"text-align: right;\">\n",
       "      <th></th>\n",
       "      <th>TRAIN_NO</th>\n",
       "      <th>DATE</th>\n",
       "      <th>STATION_DEPART</th>\n",
       "      <th>STATION_ARRV</th>\n",
       "      <th>NUM_PASSENGER</th>\n",
       "    </tr>\n",
       "  </thead>\n",
       "  <tbody>\n",
       "    <tr>\n",
       "      <th>60</th>\n",
       "      <td>2</td>\n",
       "      <td>20190701</td>\n",
       "      <td>서울</td>\n",
       "      <td>부산</td>\n",
       "      <td>613.0</td>\n",
       "    </tr>\n",
       "    <tr>\n",
       "      <th>61</th>\n",
       "      <td>2</td>\n",
       "      <td>20190702</td>\n",
       "      <td>서울</td>\n",
       "      <td>부산</td>\n",
       "      <td>546.0</td>\n",
       "    </tr>\n",
       "    <tr>\n",
       "      <th>62</th>\n",
       "      <td>2</td>\n",
       "      <td>20190703</td>\n",
       "      <td>서울</td>\n",
       "      <td>부산</td>\n",
       "      <td>492.0</td>\n",
       "    </tr>\n",
       "    <tr>\n",
       "      <th>63</th>\n",
       "      <td>2</td>\n",
       "      <td>20190704</td>\n",
       "      <td>서울</td>\n",
       "      <td>부산</td>\n",
       "      <td>615.0</td>\n",
       "    </tr>\n",
       "    <tr>\n",
       "      <th>64</th>\n",
       "      <td>2</td>\n",
       "      <td>20190705</td>\n",
       "      <td>서울</td>\n",
       "      <td>부산</td>\n",
       "      <td>572.0</td>\n",
       "    </tr>\n",
       "    <tr>\n",
       "      <th>65</th>\n",
       "      <td>2</td>\n",
       "      <td>20190706</td>\n",
       "      <td>서울</td>\n",
       "      <td>부산</td>\n",
       "      <td>598.0</td>\n",
       "    </tr>\n",
       "    <tr>\n",
       "      <th>66</th>\n",
       "      <td>2</td>\n",
       "      <td>20190707</td>\n",
       "      <td>서울</td>\n",
       "      <td>부산</td>\n",
       "      <td>326.0</td>\n",
       "    </tr>\n",
       "    <tr>\n",
       "      <th>67</th>\n",
       "      <td>2</td>\n",
       "      <td>20190708</td>\n",
       "      <td>서울</td>\n",
       "      <td>부산</td>\n",
       "      <td>552.0</td>\n",
       "    </tr>\n",
       "    <tr>\n",
       "      <th>68</th>\n",
       "      <td>2</td>\n",
       "      <td>20190709</td>\n",
       "      <td>서울</td>\n",
       "      <td>부산</td>\n",
       "      <td>540.0</td>\n",
       "    </tr>\n",
       "    <tr>\n",
       "      <th>69</th>\n",
       "      <td>2</td>\n",
       "      <td>20190710</td>\n",
       "      <td>서울</td>\n",
       "      <td>부산</td>\n",
       "      <td>499.0</td>\n",
       "    </tr>\n",
       "    <tr>\n",
       "      <th>70</th>\n",
       "      <td>2</td>\n",
       "      <td>20190711</td>\n",
       "      <td>서울</td>\n",
       "      <td>부산</td>\n",
       "      <td>562.0</td>\n",
       "    </tr>\n",
       "    <tr>\n",
       "      <th>71</th>\n",
       "      <td>2</td>\n",
       "      <td>20190712</td>\n",
       "      <td>서울</td>\n",
       "      <td>부산</td>\n",
       "      <td>601.0</td>\n",
       "    </tr>\n",
       "    <tr>\n",
       "      <th>72</th>\n",
       "      <td>2</td>\n",
       "      <td>20190713</td>\n",
       "      <td>서울</td>\n",
       "      <td>부산</td>\n",
       "      <td>655.0</td>\n",
       "    </tr>\n",
       "    <tr>\n",
       "      <th>73</th>\n",
       "      <td>2</td>\n",
       "      <td>20190714</td>\n",
       "      <td>서울</td>\n",
       "      <td>부산</td>\n",
       "      <td>371.0</td>\n",
       "    </tr>\n",
       "    <tr>\n",
       "      <th>74</th>\n",
       "      <td>2</td>\n",
       "      <td>20190715</td>\n",
       "      <td>서울</td>\n",
       "      <td>부산</td>\n",
       "      <td>557.0</td>\n",
       "    </tr>\n",
       "    <tr>\n",
       "      <th>75</th>\n",
       "      <td>2</td>\n",
       "      <td>20190716</td>\n",
       "      <td>서울</td>\n",
       "      <td>부산</td>\n",
       "      <td>525.0</td>\n",
       "    </tr>\n",
       "    <tr>\n",
       "      <th>76</th>\n",
       "      <td>2</td>\n",
       "      <td>20190717</td>\n",
       "      <td>서울</td>\n",
       "      <td>부산</td>\n",
       "      <td>557.0</td>\n",
       "    </tr>\n",
       "    <tr>\n",
       "      <th>77</th>\n",
       "      <td>2</td>\n",
       "      <td>20190718</td>\n",
       "      <td>서울</td>\n",
       "      <td>부산</td>\n",
       "      <td>585.0</td>\n",
       "    </tr>\n",
       "    <tr>\n",
       "      <th>78</th>\n",
       "      <td>2</td>\n",
       "      <td>20190719</td>\n",
       "      <td>서울</td>\n",
       "      <td>부산</td>\n",
       "      <td>593.0</td>\n",
       "    </tr>\n",
       "    <tr>\n",
       "      <th>79</th>\n",
       "      <td>2</td>\n",
       "      <td>20190720</td>\n",
       "      <td>서울</td>\n",
       "      <td>부산</td>\n",
       "      <td>620.0</td>\n",
       "    </tr>\n",
       "    <tr>\n",
       "      <th>80</th>\n",
       "      <td>2</td>\n",
       "      <td>20190721</td>\n",
       "      <td>서울</td>\n",
       "      <td>부산</td>\n",
       "      <td>355.0</td>\n",
       "    </tr>\n",
       "    <tr>\n",
       "      <th>81</th>\n",
       "      <td>2</td>\n",
       "      <td>20190722</td>\n",
       "      <td>서울</td>\n",
       "      <td>부산</td>\n",
       "      <td>548.0</td>\n",
       "    </tr>\n",
       "    <tr>\n",
       "      <th>82</th>\n",
       "      <td>2</td>\n",
       "      <td>20190723</td>\n",
       "      <td>서울</td>\n",
       "      <td>부산</td>\n",
       "      <td>557.0</td>\n",
       "    </tr>\n",
       "    <tr>\n",
       "      <th>83</th>\n",
       "      <td>2</td>\n",
       "      <td>20190724</td>\n",
       "      <td>서울</td>\n",
       "      <td>부산</td>\n",
       "      <td>550.0</td>\n",
       "    </tr>\n",
       "    <tr>\n",
       "      <th>84</th>\n",
       "      <td>2</td>\n",
       "      <td>20190725</td>\n",
       "      <td>서울</td>\n",
       "      <td>부산</td>\n",
       "      <td>593.0</td>\n",
       "    </tr>\n",
       "    <tr>\n",
       "      <th>85</th>\n",
       "      <td>2</td>\n",
       "      <td>20190726</td>\n",
       "      <td>서울</td>\n",
       "      <td>부산</td>\n",
       "      <td>551.0</td>\n",
       "    </tr>\n",
       "    <tr>\n",
       "      <th>86</th>\n",
       "      <td>2</td>\n",
       "      <td>20190727</td>\n",
       "      <td>서울</td>\n",
       "      <td>부산</td>\n",
       "      <td>615.0</td>\n",
       "    </tr>\n",
       "    <tr>\n",
       "      <th>87</th>\n",
       "      <td>2</td>\n",
       "      <td>20190728</td>\n",
       "      <td>서울</td>\n",
       "      <td>부산</td>\n",
       "      <td>530.0</td>\n",
       "    </tr>\n",
       "    <tr>\n",
       "      <th>88</th>\n",
       "      <td>2</td>\n",
       "      <td>20190729</td>\n",
       "      <td>서울</td>\n",
       "      <td>부산</td>\n",
       "      <td>589.0</td>\n",
       "    </tr>\n",
       "    <tr>\n",
       "      <th>89</th>\n",
       "      <td>2</td>\n",
       "      <td>20190730</td>\n",
       "      <td>서울</td>\n",
       "      <td>부산</td>\n",
       "      <td>503.0</td>\n",
       "    </tr>\n",
       "  </tbody>\n",
       "</table>\n",
       "</div>"
      ],
      "text/plain": [
       "    TRAIN_NO      DATE STATION_DEPART STATION_ARRV  NUM_PASSENGER\n",
       "60         2  20190701             서울           부산          613.0\n",
       "61         2  20190702             서울           부산          546.0\n",
       "62         2  20190703             서울           부산          492.0\n",
       "63         2  20190704             서울           부산          615.0\n",
       "64         2  20190705             서울           부산          572.0\n",
       "65         2  20190706             서울           부산          598.0\n",
       "66         2  20190707             서울           부산          326.0\n",
       "67         2  20190708             서울           부산          552.0\n",
       "68         2  20190709             서울           부산          540.0\n",
       "69         2  20190710             서울           부산          499.0\n",
       "70         2  20190711             서울           부산          562.0\n",
       "71         2  20190712             서울           부산          601.0\n",
       "72         2  20190713             서울           부산          655.0\n",
       "73         2  20190714             서울           부산          371.0\n",
       "74         2  20190715             서울           부산          557.0\n",
       "75         2  20190716             서울           부산          525.0\n",
       "76         2  20190717             서울           부산          557.0\n",
       "77         2  20190718             서울           부산          585.0\n",
       "78         2  20190719             서울           부산          593.0\n",
       "79         2  20190720             서울           부산          620.0\n",
       "80         2  20190721             서울           부산          355.0\n",
       "81         2  20190722             서울           부산          548.0\n",
       "82         2  20190723             서울           부산          557.0\n",
       "83         2  20190724             서울           부산          550.0\n",
       "84         2  20190725             서울           부산          593.0\n",
       "85         2  20190726             서울           부산          551.0\n",
       "86         2  20190727             서울           부산          615.0\n",
       "87         2  20190728             서울           부산          530.0\n",
       "88         2  20190729             서울           부산          589.0\n",
       "89         2  20190730             서울           부산          503.0"
      ]
     },
     "execution_count": 7,
     "metadata": {},
     "output_type": "execute_result"
    }
   ],
   "source": [
    "train2"
   ]
  },
  {
   "cell_type": "code",
   "execution_count": 8,
   "id": "576940e5-fc16-4242-bcd6-0532a5e97b9a",
   "metadata": {},
   "outputs": [
    {
     "data": {
      "text/plain": [
       "<AxesSubplot:xlabel='DATE'>"
      ]
     },
     "execution_count": 8,
     "metadata": {},
     "output_type": "execute_result"
    },
    {
     "data": {
      "image/png": "[encoded data removed]",
      "text/plain": [
       "<Figure size 720x360 with 1 Axes>"
      ]
     },
     "metadata": {
      "needs_background": "light"
     },
     "output_type": "display_data"
    }
   ],
   "source": [
    "train2.plot(x='DATE', y=\"NUM_PASSENGER\") #날짜별 승객데이터 확인 가능"
   ]
  },
  {
   "cell_type": "markdown",
   "id": "6506ebb9-2445-4757-b9aa-cbbc84e50338",
   "metadata": {},
   "source": [
    "to_datetime() :날짜 형식 변환 ex)format='%Y%m%d'"
   ]
  },
  {
   "cell_type": "code",
   "execution_count": 9,
   "id": "1905998c-d956-4f4b-a5ec-b296ac830305",
   "metadata": {},
   "outputs": [
    {
     "name": "stderr",
     "output_type": "stream",
     "text": [
      "/var/folders/xh/xtwkcbrj0_l1srsb4r5pc3l00000gn/T/ipykernel_31932/279216404.py:1: SettingWithCopyWarning: \n",
      "A value is trying to be set on a copy of a slice from a DataFrame.\n",
      "Try using .loc[row_indexer,col_indexer] = value instead\n",
      "\n",
      "See the caveats in the documentation: https://pandas.pydata.org/pandas-docs/stable/user_guide/indexing.html#returning-a-view-versus-a-copy\n",
      "  train2['DATE2'] = pd.to_datetime(train2['DATE'], format='%Y%m%d')\n"
     ]
    },
    {
     "data": {
      "text/html": [
       "<div>\n",
       "<style scoped>\n",
       "    .dataframe tbody tr th:only-of-type {\n",
       "        vertical-align: middle;\n",
       "    }\n",
       "\n",
       "    .dataframe tbody tr th {\n",
       "        vertical-align: top;\n",
       "    }\n",
       "\n",
       "    .dataframe thead th {\n",
       "        text-align: right;\n",
       "    }\n",
       "</style>\n",
       "<table border=\"1\" class=\"dataframe\">\n",
       "  <thead>\n",
       "    <tr style=\"text-align: right;\">\n",
       "      <th></th>\n",
       "      <th>TRAIN_NO</th>\n",
       "      <th>DATE</th>\n",
       "      <th>STATION_DEPART</th>\n",
       "      <th>STATION_ARRV</th>\n",
       "      <th>NUM_PASSENGER</th>\n",
       "      <th>DATE2</th>\n",
       "    </tr>\n",
       "  </thead>\n",
       "  <tbody>\n",
       "    <tr>\n",
       "      <th>60</th>\n",
       "      <td>2</td>\n",
       "      <td>20190701</td>\n",
       "      <td>서울</td>\n",
       "      <td>부산</td>\n",
       "      <td>613.0</td>\n",
       "      <td>2019-07-01</td>\n",
       "    </tr>\n",
       "    <tr>\n",
       "      <th>61</th>\n",
       "      <td>2</td>\n",
       "      <td>20190702</td>\n",
       "      <td>서울</td>\n",
       "      <td>부산</td>\n",
       "      <td>546.0</td>\n",
       "      <td>2019-07-02</td>\n",
       "    </tr>\n",
       "    <tr>\n",
       "      <th>62</th>\n",
       "      <td>2</td>\n",
       "      <td>20190703</td>\n",
       "      <td>서울</td>\n",
       "      <td>부산</td>\n",
       "      <td>492.0</td>\n",
       "      <td>2019-07-03</td>\n",
       "    </tr>\n",
       "    <tr>\n",
       "      <th>63</th>\n",
       "      <td>2</td>\n",
       "      <td>20190704</td>\n",
       "      <td>서울</td>\n",
       "      <td>부산</td>\n",
       "      <td>615.0</td>\n",
       "      <td>2019-07-04</td>\n",
       "    </tr>\n",
       "    <tr>\n",
       "      <th>64</th>\n",
       "      <td>2</td>\n",
       "      <td>20190705</td>\n",
       "      <td>서울</td>\n",
       "      <td>부산</td>\n",
       "      <td>572.0</td>\n",
       "      <td>2019-07-05</td>\n",
       "    </tr>\n",
       "    <tr>\n",
       "      <th>65</th>\n",
       "      <td>2</td>\n",
       "      <td>20190706</td>\n",
       "      <td>서울</td>\n",
       "      <td>부산</td>\n",
       "      <td>598.0</td>\n",
       "      <td>2019-07-06</td>\n",
       "    </tr>\n",
       "    <tr>\n",
       "      <th>66</th>\n",
       "      <td>2</td>\n",
       "      <td>20190707</td>\n",
       "      <td>서울</td>\n",
       "      <td>부산</td>\n",
       "      <td>326.0</td>\n",
       "      <td>2019-07-07</td>\n",
       "    </tr>\n",
       "    <tr>\n",
       "      <th>67</th>\n",
       "      <td>2</td>\n",
       "      <td>20190708</td>\n",
       "      <td>서울</td>\n",
       "      <td>부산</td>\n",
       "      <td>552.0</td>\n",
       "      <td>2019-07-08</td>\n",
       "    </tr>\n",
       "    <tr>\n",
       "      <th>68</th>\n",
       "      <td>2</td>\n",
       "      <td>20190709</td>\n",
       "      <td>서울</td>\n",
       "      <td>부산</td>\n",
       "      <td>540.0</td>\n",
       "      <td>2019-07-09</td>\n",
       "    </tr>\n",
       "    <tr>\n",
       "      <th>69</th>\n",
       "      <td>2</td>\n",
       "      <td>20190710</td>\n",
       "      <td>서울</td>\n",
       "      <td>부산</td>\n",
       "      <td>499.0</td>\n",
       "      <td>2019-07-10</td>\n",
       "    </tr>\n",
       "    <tr>\n",
       "      <th>70</th>\n",
       "      <td>2</td>\n",
       "      <td>20190711</td>\n",
       "      <td>서울</td>\n",
       "      <td>부산</td>\n",
       "      <td>562.0</td>\n",
       "      <td>2019-07-11</td>\n",
       "    </tr>\n",
       "    <tr>\n",
       "      <th>71</th>\n",
       "      <td>2</td>\n",
       "      <td>20190712</td>\n",
       "      <td>서울</td>\n",
       "      <td>부산</td>\n",
       "      <td>601.0</td>\n",
       "      <td>2019-07-12</td>\n",
       "    </tr>\n",
       "    <tr>\n",
       "      <th>72</th>\n",
       "      <td>2</td>\n",
       "      <td>20190713</td>\n",
       "      <td>서울</td>\n",
       "      <td>부산</td>\n",
       "      <td>655.0</td>\n",
       "      <td>2019-07-13</td>\n",
       "    </tr>\n",
       "    <tr>\n",
       "      <th>73</th>\n",
       "      <td>2</td>\n",
       "      <td>20190714</td>\n",
       "      <td>서울</td>\n",
       "      <td>부산</td>\n",
       "      <td>371.0</td>\n",
       "      <td>2019-07-14</td>\n",
       "    </tr>\n",
       "    <tr>\n",
       "      <th>74</th>\n",
       "      <td>2</td>\n",
       "      <td>20190715</td>\n",
       "      <td>서울</td>\n",
       "      <td>부산</td>\n",
       "      <td>557.0</td>\n",
       "      <td>2019-07-15</td>\n",
       "    </tr>\n",
       "    <tr>\n",
       "      <th>75</th>\n",
       "      <td>2</td>\n",
       "      <td>20190716</td>\n",
       "      <td>서울</td>\n",
       "      <td>부산</td>\n",
       "      <td>525.0</td>\n",
       "      <td>2019-07-16</td>\n",
       "    </tr>\n",
       "    <tr>\n",
       "      <th>76</th>\n",
       "      <td>2</td>\n",
       "      <td>20190717</td>\n",
       "      <td>서울</td>\n",
       "      <td>부산</td>\n",
       "      <td>557.0</td>\n",
       "      <td>2019-07-17</td>\n",
       "    </tr>\n",
       "    <tr>\n",
       "      <th>77</th>\n",
       "      <td>2</td>\n",
       "      <td>20190718</td>\n",
       "      <td>서울</td>\n",
       "      <td>부산</td>\n",
       "      <td>585.0</td>\n",
       "      <td>2019-07-18</td>\n",
       "    </tr>\n",
       "    <tr>\n",
       "      <th>78</th>\n",
       "      <td>2</td>\n",
       "      <td>20190719</td>\n",
       "      <td>서울</td>\n",
       "      <td>부산</td>\n",
       "      <td>593.0</td>\n",
       "      <td>2019-07-19</td>\n",
       "    </tr>\n",
       "    <tr>\n",
       "      <th>79</th>\n",
       "      <td>2</td>\n",
       "      <td>20190720</td>\n",
       "      <td>서울</td>\n",
       "      <td>부산</td>\n",
       "      <td>620.0</td>\n",
       "      <td>2019-07-20</td>\n",
       "    </tr>\n",
       "    <tr>\n",
       "      <th>80</th>\n",
       "      <td>2</td>\n",
       "      <td>20190721</td>\n",
       "      <td>서울</td>\n",
       "      <td>부산</td>\n",
       "      <td>355.0</td>\n",
       "      <td>2019-07-21</td>\n",
       "    </tr>\n",
       "    <tr>\n",
       "      <th>81</th>\n",
       "      <td>2</td>\n",
       "      <td>20190722</td>\n",
       "      <td>서울</td>\n",
       "      <td>부산</td>\n",
       "      <td>548.0</td>\n",
       "      <td>2019-07-22</td>\n",
       "    </tr>\n",
       "    <tr>\n",
       "      <th>82</th>\n",
       "      <td>2</td>\n",
       "      <td>20190723</td>\n",
       "      <td>서울</td>\n",
       "      <td>부산</td>\n",
       "      <td>557.0</td>\n",
       "      <td>2019-07-23</td>\n",
       "    </tr>\n",
       "    <tr>\n",
       "      <th>83</th>\n",
       "      <td>2</td>\n",
       "      <td>20190724</td>\n",
       "      <td>서울</td>\n",
       "      <td>부산</td>\n",
       "      <td>550.0</td>\n",
       "      <td>2019-07-24</td>\n",
       "    </tr>\n",
       "    <tr>\n",
       "      <th>84</th>\n",
       "      <td>2</td>\n",
       "      <td>20190725</td>\n",
       "      <td>서울</td>\n",
       "      <td>부산</td>\n",
       "      <td>593.0</td>\n",
       "      <td>2019-07-25</td>\n",
       "    </tr>\n",
       "    <tr>\n",
       "      <th>85</th>\n",
       "      <td>2</td>\n",
       "      <td>20190726</td>\n",
       "      <td>서울</td>\n",
       "      <td>부산</td>\n",
       "      <td>551.0</td>\n",
       "      <td>2019-07-26</td>\n",
       "    </tr>\n",
       "    <tr>\n",
       "      <th>86</th>\n",
       "      <td>2</td>\n",
       "      <td>20190727</td>\n",
       "      <td>서울</td>\n",
       "      <td>부산</td>\n",
       "      <td>615.0</td>\n",
       "      <td>2019-07-27</td>\n",
       "    </tr>\n",
       "    <tr>\n",
       "      <th>87</th>\n",
       "      <td>2</td>\n",
       "      <td>20190728</td>\n",
       "      <td>서울</td>\n",
       "      <td>부산</td>\n",
       "      <td>530.0</td>\n",
       "      <td>2019-07-28</td>\n",
       "    </tr>\n",
       "    <tr>\n",
       "      <th>88</th>\n",
       "      <td>2</td>\n",
       "      <td>20190729</td>\n",
       "      <td>서울</td>\n",
       "      <td>부산</td>\n",
       "      <td>589.0</td>\n",
       "      <td>2019-07-29</td>\n",
       "    </tr>\n",
       "    <tr>\n",
       "      <th>89</th>\n",
       "      <td>2</td>\n",
       "      <td>20190730</td>\n",
       "      <td>서울</td>\n",
       "      <td>부산</td>\n",
       "      <td>503.0</td>\n",
       "      <td>2019-07-30</td>\n",
       "    </tr>\n",
       "  </tbody>\n",
       "</table>\n",
       "</div>"
      ],
      "text/plain": [
       "    TRAIN_NO      DATE STATION_DEPART STATION_ARRV  NUM_PASSENGER      DATE2\n",
       "60         2  20190701             서울           부산          613.0 2019-07-01\n",
       "61         2  20190702             서울           부산          546.0 2019-07-02\n",
       "62         2  20190703             서울           부산          492.0 2019-07-03\n",
       "63         2  20190704             서울           부산          615.0 2019-07-04\n",
       "64         2  20190705             서울           부산          572.0 2019-07-05\n",
       "65         2  20190706             서울           부산          598.0 2019-07-06\n",
       "66         2  20190707             서울           부산          326.0 2019-07-07\n",
       "67         2  20190708             서울           부산          552.0 2019-07-08\n",
       "68         2  20190709             서울           부산          540.0 2019-07-09\n",
       "69         2  20190710             서울           부산          499.0 2019-07-10\n",
       "70         2  20190711             서울           부산          562.0 2019-07-11\n",
       "71         2  20190712             서울           부산          601.0 2019-07-12\n",
       "72         2  20190713             서울           부산          655.0 2019-07-13\n",
       "73         2  20190714             서울           부산          371.0 2019-07-14\n",
       "74         2  20190715             서울           부산          557.0 2019-07-15\n",
       "75         2  20190716             서울           부산          525.0 2019-07-16\n",
       "76         2  20190717             서울           부산          557.0 2019-07-17\n",
       "77         2  20190718             서울           부산          585.0 2019-07-18\n",
       "78         2  20190719             서울           부산          593.0 2019-07-19\n",
       "79         2  20190720             서울           부산          620.0 2019-07-20\n",
       "80         2  20190721             서울           부산          355.0 2019-07-21\n",
       "81         2  20190722             서울           부산          548.0 2019-07-22\n",
       "82         2  20190723             서울           부산          557.0 2019-07-23\n",
       "83         2  20190724             서울           부산          550.0 2019-07-24\n",
       "84         2  20190725             서울           부산          593.0 2019-07-25\n",
       "85         2  20190726             서울           부산          551.0 2019-07-26\n",
       "86         2  20190727             서울           부산          615.0 2019-07-27\n",
       "87         2  20190728             서울           부산          530.0 2019-07-28\n",
       "88         2  20190729             서울           부산          589.0 2019-07-29\n",
       "89         2  20190730             서울           부산          503.0 2019-07-30"
      ]
     },
     "execution_count": 9,
     "metadata": {},
     "output_type": "execute_result"
    }
   ],
   "source": [
    "train2['DATE2'] = pd.to_datetime(train2['DATE'], format='%Y%m%d')\n",
    "train2"
   ]
  },
  {
   "cell_type": "code",
   "execution_count": 10,
   "id": "d6122fc3-7a00-419e-9b68-9876c6e8a7c5",
   "metadata": {},
   "outputs": [
    {
     "data": {
      "image/png": "[encoded data removed]",
      "text/plain": [
       "<Figure size 720x360 with 1 Axes>"
      ]
     },
     "metadata": {
      "needs_background": "light"
     },
     "output_type": "display_data"
    }
   ],
   "source": [
    "train2.plot(x='DATE2', y=\"NUM_PASSENGER\");"
   ]
  },
  {
   "cell_type": "markdown",
   "id": "9890893b-51d2-418f-895a-a54e740e86be",
   "metadata": {
    "tags": []
   },
   "source": [
    "## 그룹별 분석"
   ]
  },
  {
   "cell_type": "code",
   "execution_count": 11,
   "id": "0a1404b5-e2ef-4093-9ba0-cefa2253cf92",
   "metadata": {},
   "outputs": [],
   "source": [
    "#요일별, 구간별로 평균 탑승객 수를 구하여 비교하기"
   ]
  },
  {
   "cell_type": "code",
   "execution_count": 12,
   "id": "ced3f53e-ab0e-4ed5-af84-dcfa58b48fdc",
   "metadata": {},
   "outputs": [
    {
     "data": {
      "text/html": [
       "<div>\n",
       "<style scoped>\n",
       "    .dataframe tbody tr th:only-of-type {\n",
       "        vertical-align: middle;\n",
       "    }\n",
       "\n",
       "    .dataframe tbody tr th {\n",
       "        vertical-align: top;\n",
       "    }\n",
       "\n",
       "    .dataframe thead th {\n",
       "        text-align: right;\n",
       "    }\n",
       "</style>\n",
       "<table border=\"1\" class=\"dataframe\">\n",
       "  <thead>\n",
       "    <tr style=\"text-align: right;\">\n",
       "      <th></th>\n",
       "      <th>TRAIN_NO</th>\n",
       "      <th>DATE</th>\n",
       "      <th>STATION_DEPART</th>\n",
       "      <th>STATION_ARRV</th>\n",
       "      <th>NUM_PASSENGER</th>\n",
       "      <th>DATE2</th>\n",
       "    </tr>\n",
       "  </thead>\n",
       "  <tbody>\n",
       "    <tr>\n",
       "      <th>0</th>\n",
       "      <td>2</td>\n",
       "      <td>20190701</td>\n",
       "      <td>서울</td>\n",
       "      <td>대전</td>\n",
       "      <td>106.0</td>\n",
       "      <td>2019-07-01</td>\n",
       "    </tr>\n",
       "    <tr>\n",
       "      <th>1</th>\n",
       "      <td>2</td>\n",
       "      <td>20190702</td>\n",
       "      <td>서울</td>\n",
       "      <td>대전</td>\n",
       "      <td>113.0</td>\n",
       "      <td>2019-07-02</td>\n",
       "    </tr>\n",
       "    <tr>\n",
       "      <th>2</th>\n",
       "      <td>2</td>\n",
       "      <td>20190703</td>\n",
       "      <td>서울</td>\n",
       "      <td>대전</td>\n",
       "      <td>146.0</td>\n",
       "      <td>2019-07-03</td>\n",
       "    </tr>\n",
       "    <tr>\n",
       "      <th>3</th>\n",
       "      <td>2</td>\n",
       "      <td>20190704</td>\n",
       "      <td>서울</td>\n",
       "      <td>대전</td>\n",
       "      <td>84.0</td>\n",
       "      <td>2019-07-04</td>\n",
       "    </tr>\n",
       "    <tr>\n",
       "      <th>4</th>\n",
       "      <td>2</td>\n",
       "      <td>20190705</td>\n",
       "      <td>서울</td>\n",
       "      <td>대전</td>\n",
       "      <td>105.0</td>\n",
       "      <td>2019-07-05</td>\n",
       "    </tr>\n",
       "    <tr>\n",
       "      <th>...</th>\n",
       "      <td>...</td>\n",
       "      <td>...</td>\n",
       "      <td>...</td>\n",
       "      <td>...</td>\n",
       "      <td>...</td>\n",
       "      <td>...</td>\n",
       "    </tr>\n",
       "    <tr>\n",
       "      <th>1764</th>\n",
       "      <td>6</td>\n",
       "      <td>20190726</td>\n",
       "      <td>울산</td>\n",
       "      <td>부산</td>\n",
       "      <td>10.0</td>\n",
       "      <td>2019-07-26</td>\n",
       "    </tr>\n",
       "    <tr>\n",
       "      <th>1765</th>\n",
       "      <td>6</td>\n",
       "      <td>20190727</td>\n",
       "      <td>울산</td>\n",
       "      <td>부산</td>\n",
       "      <td>6.0</td>\n",
       "      <td>2019-07-27</td>\n",
       "    </tr>\n",
       "    <tr>\n",
       "      <th>1766</th>\n",
       "      <td>6</td>\n",
       "      <td>20190728</td>\n",
       "      <td>울산</td>\n",
       "      <td>부산</td>\n",
       "      <td>21.0</td>\n",
       "      <td>2019-07-28</td>\n",
       "    </tr>\n",
       "    <tr>\n",
       "      <th>1767</th>\n",
       "      <td>6</td>\n",
       "      <td>20190729</td>\n",
       "      <td>울산</td>\n",
       "      <td>부산</td>\n",
       "      <td>12.0</td>\n",
       "      <td>2019-07-29</td>\n",
       "    </tr>\n",
       "    <tr>\n",
       "      <th>1768</th>\n",
       "      <td>6</td>\n",
       "      <td>20190730</td>\n",
       "      <td>울산</td>\n",
       "      <td>부산</td>\n",
       "      <td>11.0</td>\n",
       "      <td>2019-07-30</td>\n",
       "    </tr>\n",
       "  </tbody>\n",
       "</table>\n",
       "<p>1769 rows × 6 columns</p>\n",
       "</div>"
      ],
      "text/plain": [
       "      TRAIN_NO      DATE STATION_DEPART STATION_ARRV  NUM_PASSENGER      DATE2\n",
       "0            2  20190701             서울           대전          106.0 2019-07-01\n",
       "1            2  20190702             서울           대전          113.0 2019-07-02\n",
       "2            2  20190703             서울           대전          146.0 2019-07-03\n",
       "3            2  20190704             서울           대전           84.0 2019-07-04\n",
       "4            2  20190705             서울           대전          105.0 2019-07-05\n",
       "...        ...       ...            ...          ...            ...        ...\n",
       "1764         6  20190726             울산           부산           10.0 2019-07-26\n",
       "1765         6  20190727             울산           부산            6.0 2019-07-27\n",
       "1766         6  20190728             울산           부산           21.0 2019-07-28\n",
       "1767         6  20190729             울산           부산           12.0 2019-07-29\n",
       "1768         6  20190730             울산           부산           11.0 2019-07-30\n",
       "\n",
       "[1769 rows x 6 columns]"
      ]
     },
     "execution_count": 12,
     "metadata": {},
     "output_type": "execute_result"
    }
   ],
   "source": [
    "train_raw_data['DATE2'] = pd.to_datetime(train_raw_data['DATE'], format='%Y%m%d')\n",
    "train_raw_data"
   ]
  },
  {
   "cell_type": "markdown",
   "id": "e6689144-79b8-42a4-95ab-6d227ba802d6",
   "metadata": {},
   "source": [
    "이제 날짜의 형식을 가진 변수 DATE2 를 아용하여 요일을 나타내는 새로운 변수 DAYOFWEEK 를 만들어 보자.\n",
    ".dt.dayofweek 를 적용하면 각 날짜에 대응하는 요일을 구해준다."
   ]
  },
  {
   "cell_type": "code",
   "execution_count": 14,
   "id": "bf363db4-1669-4090-a1b4-5bb384d56a54",
   "metadata": {},
   "outputs": [],
   "source": [
    "train_raw_data[\"DAYOFWEEK\"] = train_raw_data['DATE2'].dt.dayofweek"
   ]
  },
  {
   "cell_type": "markdown",
   "id": "9eef6014-d3c4-433c-938a-ada09d8b9bc8",
   "metadata": {},
   "source": [
    " 요일별, 구간별로 탑승객 수의 평균을 구하기 위하여 필요한 변수를 가진 데이터프레임을 먼저 만든다.\n",
    "\n",
    "요일별, 구간별 분석을 하려면 다음과 같은 3개의 변수(요일, 출발역, 도착역)로 자료를 그룹화(grouping)해야한다."
   ]
  },
  {
   "cell_type": "code",
   "execution_count": 16,
   "id": "6164f5dc-9928-4450-81c2-cd2f04053332",
   "metadata": {},
   "outputs": [],
   "source": [
    "train_groub_data = train_raw_data[['STATION_DEPART', 'STATION_ARRV','DAYOFWEEK','NUM_PASSENGER']]"
   ]
  },
  {
   "cell_type": "code",
   "execution_count": 18,
   "id": "892b7244-e6e6-4bac-8712-11c12e40239a",
   "metadata": {},
   "outputs": [
    {
     "data": {
      "text/html": [
       "<div>\n",
       "<style scoped>\n",
       "    .dataframe tbody tr th:only-of-type {\n",
       "        vertical-align: middle;\n",
       "    }\n",
       "\n",
       "    .dataframe tbody tr th {\n",
       "        vertical-align: top;\n",
       "    }\n",
       "\n",
       "    .dataframe thead th {\n",
       "        text-align: right;\n",
       "    }\n",
       "</style>\n",
       "<table border=\"1\" class=\"dataframe\">\n",
       "  <thead>\n",
       "    <tr style=\"text-align: right;\">\n",
       "      <th></th>\n",
       "      <th></th>\n",
       "      <th></th>\n",
       "      <th>TRAIN_NO</th>\n",
       "      <th>DATE</th>\n",
       "      <th>NUM_PASSENGER</th>\n",
       "    </tr>\n",
       "    <tr>\n",
       "      <th>STATION_DEPART</th>\n",
       "      <th>STATION_ARRV</th>\n",
       "      <th>DAYOFWEEK</th>\n",
       "      <th></th>\n",
       "      <th></th>\n",
       "      <th></th>\n",
       "    </tr>\n",
       "  </thead>\n",
       "  <tbody>\n",
       "    <tr>\n",
       "      <th rowspan=\"5\" valign=\"top\">광명</th>\n",
       "      <th rowspan=\"5\" valign=\"top\">대전</th>\n",
       "      <th>0</th>\n",
       "      <td>5.5</td>\n",
       "      <td>20190715.0</td>\n",
       "      <td>16.300</td>\n",
       "    </tr>\n",
       "    <tr>\n",
       "      <th>1</th>\n",
       "      <td>5.5</td>\n",
       "      <td>20190716.0</td>\n",
       "      <td>15.200</td>\n",
       "    </tr>\n",
       "    <tr>\n",
       "      <th>2</th>\n",
       "      <td>5.5</td>\n",
       "      <td>20190713.5</td>\n",
       "      <td>20.750</td>\n",
       "    </tr>\n",
       "    <tr>\n",
       "      <th>3</th>\n",
       "      <td>5.5</td>\n",
       "      <td>20190714.5</td>\n",
       "      <td>21.125</td>\n",
       "    </tr>\n",
       "    <tr>\n",
       "      <th>4</th>\n",
       "      <td>5.5</td>\n",
       "      <td>20190715.5</td>\n",
       "      <td>18.125</td>\n",
       "    </tr>\n",
       "    <tr>\n",
       "      <th>...</th>\n",
       "      <th>...</th>\n",
       "      <th>...</th>\n",
       "      <td>...</td>\n",
       "      <td>...</td>\n",
       "      <td>...</td>\n",
       "    </tr>\n",
       "    <tr>\n",
       "      <th rowspan=\"5\" valign=\"top\">행신</th>\n",
       "      <th rowspan=\"5\" valign=\"top\">서울</th>\n",
       "      <th>2</th>\n",
       "      <td>2.0</td>\n",
       "      <td>20190713.5</td>\n",
       "      <td>12.750</td>\n",
       "    </tr>\n",
       "    <tr>\n",
       "      <th>3</th>\n",
       "      <td>2.0</td>\n",
       "      <td>20190714.5</td>\n",
       "      <td>10.000</td>\n",
       "    </tr>\n",
       "    <tr>\n",
       "      <th>4</th>\n",
       "      <td>2.0</td>\n",
       "      <td>20190715.5</td>\n",
       "      <td>8.250</td>\n",
       "    </tr>\n",
       "    <tr>\n",
       "      <th>5</th>\n",
       "      <td>2.0</td>\n",
       "      <td>20190716.5</td>\n",
       "      <td>7.500</td>\n",
       "    </tr>\n",
       "    <tr>\n",
       "      <th>6</th>\n",
       "      <td>2.0</td>\n",
       "      <td>20190717.5</td>\n",
       "      <td>5.000</td>\n",
       "    </tr>\n",
       "  </tbody>\n",
       "</table>\n",
       "<p>224 rows × 3 columns</p>\n",
       "</div>"
      ],
      "text/plain": [
       "                                       TRAIN_NO        DATE  NUM_PASSENGER\n",
       "STATION_DEPART STATION_ARRV DAYOFWEEK                                     \n",
       "광명             대전           0               5.5  20190715.0         16.300\n",
       "                            1               5.5  20190716.0         15.200\n",
       "                            2               5.5  20190713.5         20.750\n",
       "                            3               5.5  20190714.5         21.125\n",
       "                            4               5.5  20190715.5         18.125\n",
       "...                                         ...         ...            ...\n",
       "행신             서울           2               2.0  20190713.5         12.750\n",
       "                            3               2.0  20190714.5         10.000\n",
       "                            4               2.0  20190715.5          8.250\n",
       "                            5               2.0  20190716.5          7.500\n",
       "                            6               2.0  20190717.5          5.000\n",
       "\n",
       "[224 rows x 3 columns]"
      ]
     },
     "execution_count": 18,
     "metadata": {},
     "output_type": "execute_result"
    }
   ],
   "source": [
    "summary_data = train_raw_data.groupby(['STATION_DEPART','STATION_ARRV','DAYOFWEEK']).mean()\n",
    "summary_data "
   ]
  },
  {
   "cell_type": "markdown",
   "id": "5e0d5b09-52c3-46e3-9adc-ae5b23481a74",
   "metadata": {},
   "source": [
    "위의 그룹화 결과 자료는 다루기가 까다로와서 각 그룹에 대한 값을 열로 다시 만들어 주는 것이 좋다.\n",
    "\n",
    "reset_index()사용, inplace=True 은 실제로 데이터프레임에 적용하라는 의미"
   ]
  },
  {
   "cell_type": "code",
   "execution_count": 19,
   "id": "500750cd-b03f-4560-8098-29011f02bdf2",
   "metadata": {},
   "outputs": [
    {
     "data": {
      "text/html": [
       "<div>\n",
       "<style scoped>\n",
       "    .dataframe tbody tr th:only-of-type {\n",
       "        vertical-align: middle;\n",
       "    }\n",
       "\n",
       "    .dataframe tbody tr th {\n",
       "        vertical-align: top;\n",
       "    }\n",
       "\n",
       "    .dataframe thead th {\n",
       "        text-align: right;\n",
       "    }\n",
       "</style>\n",
       "<table border=\"1\" class=\"dataframe\">\n",
       "  <thead>\n",
       "    <tr style=\"text-align: right;\">\n",
       "      <th></th>\n",
       "      <th>STATION_DEPART</th>\n",
       "      <th>STATION_ARRV</th>\n",
       "      <th>DAYOFWEEK</th>\n",
       "      <th>TRAIN_NO</th>\n",
       "      <th>DATE</th>\n",
       "      <th>NUM_PASSENGER</th>\n",
       "    </tr>\n",
       "  </thead>\n",
       "  <tbody>\n",
       "    <tr>\n",
       "      <th>0</th>\n",
       "      <td>광명</td>\n",
       "      <td>대전</td>\n",
       "      <td>0</td>\n",
       "      <td>5.5</td>\n",
       "      <td>20190715.0</td>\n",
       "      <td>16.300</td>\n",
       "    </tr>\n",
       "    <tr>\n",
       "      <th>1</th>\n",
       "      <td>광명</td>\n",
       "      <td>대전</td>\n",
       "      <td>1</td>\n",
       "      <td>5.5</td>\n",
       "      <td>20190716.0</td>\n",
       "      <td>15.200</td>\n",
       "    </tr>\n",
       "    <tr>\n",
       "      <th>2</th>\n",
       "      <td>광명</td>\n",
       "      <td>대전</td>\n",
       "      <td>2</td>\n",
       "      <td>5.5</td>\n",
       "      <td>20190713.5</td>\n",
       "      <td>20.750</td>\n",
       "    </tr>\n",
       "    <tr>\n",
       "      <th>3</th>\n",
       "      <td>광명</td>\n",
       "      <td>대전</td>\n",
       "      <td>3</td>\n",
       "      <td>5.5</td>\n",
       "      <td>20190714.5</td>\n",
       "      <td>21.125</td>\n",
       "    </tr>\n",
       "    <tr>\n",
       "      <th>4</th>\n",
       "      <td>광명</td>\n",
       "      <td>대전</td>\n",
       "      <td>4</td>\n",
       "      <td>5.5</td>\n",
       "      <td>20190715.5</td>\n",
       "      <td>18.125</td>\n",
       "    </tr>\n",
       "    <tr>\n",
       "      <th>...</th>\n",
       "      <td>...</td>\n",
       "      <td>...</td>\n",
       "      <td>...</td>\n",
       "      <td>...</td>\n",
       "      <td>...</td>\n",
       "      <td>...</td>\n",
       "    </tr>\n",
       "    <tr>\n",
       "      <th>219</th>\n",
       "      <td>행신</td>\n",
       "      <td>서울</td>\n",
       "      <td>2</td>\n",
       "      <td>2.0</td>\n",
       "      <td>20190713.5</td>\n",
       "      <td>12.750</td>\n",
       "    </tr>\n",
       "    <tr>\n",
       "      <th>220</th>\n",
       "      <td>행신</td>\n",
       "      <td>서울</td>\n",
       "      <td>3</td>\n",
       "      <td>2.0</td>\n",
       "      <td>20190714.5</td>\n",
       "      <td>10.000</td>\n",
       "    </tr>\n",
       "    <tr>\n",
       "      <th>221</th>\n",
       "      <td>행신</td>\n",
       "      <td>서울</td>\n",
       "      <td>4</td>\n",
       "      <td>2.0</td>\n",
       "      <td>20190715.5</td>\n",
       "      <td>8.250</td>\n",
       "    </tr>\n",
       "    <tr>\n",
       "      <th>222</th>\n",
       "      <td>행신</td>\n",
       "      <td>서울</td>\n",
       "      <td>5</td>\n",
       "      <td>2.0</td>\n",
       "      <td>20190716.5</td>\n",
       "      <td>7.500</td>\n",
       "    </tr>\n",
       "    <tr>\n",
       "      <th>223</th>\n",
       "      <td>행신</td>\n",
       "      <td>서울</td>\n",
       "      <td>6</td>\n",
       "      <td>2.0</td>\n",
       "      <td>20190717.5</td>\n",
       "      <td>5.000</td>\n",
       "    </tr>\n",
       "  </tbody>\n",
       "</table>\n",
       "<p>224 rows × 6 columns</p>\n",
       "</div>"
      ],
      "text/plain": [
       "    STATION_DEPART STATION_ARRV  DAYOFWEEK  TRAIN_NO        DATE  \\\n",
       "0               광명           대전          0       5.5  20190715.0   \n",
       "1               광명           대전          1       5.5  20190716.0   \n",
       "2               광명           대전          2       5.5  20190713.5   \n",
       "3               광명           대전          3       5.5  20190714.5   \n",
       "4               광명           대전          4       5.5  20190715.5   \n",
       "..             ...          ...        ...       ...         ...   \n",
       "219             행신           서울          2       2.0  20190713.5   \n",
       "220             행신           서울          3       2.0  20190714.5   \n",
       "221             행신           서울          4       2.0  20190715.5   \n",
       "222             행신           서울          5       2.0  20190716.5   \n",
       "223             행신           서울          6       2.0  20190717.5   \n",
       "\n",
       "     NUM_PASSENGER  \n",
       "0           16.300  \n",
       "1           15.200  \n",
       "2           20.750  \n",
       "3           21.125  \n",
       "4           18.125  \n",
       "..             ...  \n",
       "219         12.750  \n",
       "220         10.000  \n",
       "221          8.250  \n",
       "222          7.500  \n",
       "223          5.000  \n",
       "\n",
       "[224 rows x 6 columns]"
      ]
     },
     "execution_count": 19,
     "metadata": {},
     "output_type": "execute_result"
    }
   ],
   "source": [
    "summary_data.reset_index(inplace=True)\n",
    "summary_data"
   ]
  },
  {
   "cell_type": "markdown",
   "id": "9410cce6-f43b-4f22-bef6-8ed598074f6b",
   "metadata": {},
   "source": [
    "이제 원하는 출발역과 도착역을 선택하여 요일별 평균 탑승객 수를 살펴보자."
   ]
  },
  {
   "cell_type": "code",
   "execution_count": 20,
   "id": "f5f767f3-633f-4687-8aa9-886217cb01de",
   "metadata": {},
   "outputs": [
    {
     "data": {
      "text/html": [
       "<div>\n",
       "<style scoped>\n",
       "    .dataframe tbody tr th:only-of-type {\n",
       "        vertical-align: middle;\n",
       "    }\n",
       "\n",
       "    .dataframe tbody tr th {\n",
       "        vertical-align: top;\n",
       "    }\n",
       "\n",
       "    .dataframe thead th {\n",
       "        text-align: right;\n",
       "    }\n",
       "</style>\n",
       "<table border=\"1\" class=\"dataframe\">\n",
       "  <thead>\n",
       "    <tr style=\"text-align: right;\">\n",
       "      <th></th>\n",
       "      <th>STATION_DEPART</th>\n",
       "      <th>STATION_ARRV</th>\n",
       "      <th>DAYOFWEEK</th>\n",
       "      <th>TRAIN_NO</th>\n",
       "      <th>DATE</th>\n",
       "      <th>NUM_PASSENGER</th>\n",
       "    </tr>\n",
       "  </thead>\n",
       "  <tbody>\n",
       "    <tr>\n",
       "      <th>98</th>\n",
       "      <td>서울</td>\n",
       "      <td>부산</td>\n",
       "      <td>0</td>\n",
       "      <td>4.333333</td>\n",
       "      <td>20190715.0</td>\n",
       "      <td>284.800000</td>\n",
       "    </tr>\n",
       "    <tr>\n",
       "      <th>99</th>\n",
       "      <td>서울</td>\n",
       "      <td>부산</td>\n",
       "      <td>1</td>\n",
       "      <td>4.333333</td>\n",
       "      <td>20190716.0</td>\n",
       "      <td>284.266667</td>\n",
       "    </tr>\n",
       "    <tr>\n",
       "      <th>100</th>\n",
       "      <td>서울</td>\n",
       "      <td>부산</td>\n",
       "      <td>2</td>\n",
       "      <td>4.333333</td>\n",
       "      <td>20190713.5</td>\n",
       "      <td>287.833333</td>\n",
       "    </tr>\n",
       "    <tr>\n",
       "      <th>101</th>\n",
       "      <td>서울</td>\n",
       "      <td>부산</td>\n",
       "      <td>3</td>\n",
       "      <td>4.333333</td>\n",
       "      <td>20190714.5</td>\n",
       "      <td>319.500000</td>\n",
       "    </tr>\n",
       "    <tr>\n",
       "      <th>102</th>\n",
       "      <td>서울</td>\n",
       "      <td>부산</td>\n",
       "      <td>4</td>\n",
       "      <td>4.333333</td>\n",
       "      <td>20190715.5</td>\n",
       "      <td>353.833333</td>\n",
       "    </tr>\n",
       "    <tr>\n",
       "      <th>103</th>\n",
       "      <td>서울</td>\n",
       "      <td>부산</td>\n",
       "      <td>5</td>\n",
       "      <td>4.333333</td>\n",
       "      <td>20190716.5</td>\n",
       "      <td>311.166667</td>\n",
       "    </tr>\n",
       "    <tr>\n",
       "      <th>104</th>\n",
       "      <td>서울</td>\n",
       "      <td>부산</td>\n",
       "      <td>6</td>\n",
       "      <td>4.333333</td>\n",
       "      <td>20190717.5</td>\n",
       "      <td>265.083333</td>\n",
       "    </tr>\n",
       "  </tbody>\n",
       "</table>\n",
       "</div>"
      ],
      "text/plain": [
       "    STATION_DEPART STATION_ARRV  DAYOFWEEK  TRAIN_NO        DATE  \\\n",
       "98              서울           부산          0  4.333333  20190715.0   \n",
       "99              서울           부산          1  4.333333  20190716.0   \n",
       "100             서울           부산          2  4.333333  20190713.5   \n",
       "101             서울           부산          3  4.333333  20190714.5   \n",
       "102             서울           부산          4  4.333333  20190715.5   \n",
       "103             서울           부산          5  4.333333  20190716.5   \n",
       "104             서울           부산          6  4.333333  20190717.5   \n",
       "\n",
       "     NUM_PASSENGER  \n",
       "98      284.800000  \n",
       "99      284.266667  \n",
       "100     287.833333  \n",
       "101     319.500000  \n",
       "102     353.833333  \n",
       "103     311.166667  \n",
       "104     265.083333  "
      ]
     },
     "execution_count": 20,
     "metadata": {},
     "output_type": "execute_result"
    }
   ],
   "source": [
    "od_average = summary_data[ ( summary_data['STATION_DEPART'] == '서울' ) & ( summary_data['STATION_ARRV'] == '부산' )]\n",
    "od_average"
   ]
  },
  {
   "cell_type": "code",
   "execution_count": 24,
   "id": "9550c4b1-5c13-40f6-8253-e0c576e6133e",
   "metadata": {},
   "outputs": [
    {
     "data": {
      "image/png": "[encoded data removed]",
      "text/plain": [
       "<Figure size 720x360 with 1 Axes>"
      ]
     },
     "metadata": {
      "needs_background": "light"
     },
     "output_type": "display_data"
    }
   ],
   "source": [
    "od_average.plot(x = \"DAYOFWEEK\", y = \"NUM_PASSENGER\");"
   ]
  },
  {
   "cell_type": "markdown",
   "id": "4368f3b2-be9e-4e15-94cb-0c592fd0eced",
   "metadata": {},
   "source": [
    "# 2-4 어린왕자"
   ]
  },
  {
   "cell_type": "code",
   "execution_count": 7,
   "id": "22102410-ceb2-4a61-946e-a73a228f7c30",
   "metadata": {},
   "outputs": [],
   "source": [
    "import matplotlib.pyplot as plt\n",
    "from matplotlib import rc\n",
    "plt.rcParams['axes.unicode_minus'] = False\n",
    "plt.rcParams[\"figure.figsize\"] = (10,5)\n",
    "import numpy as np\n",
    "import pandas as pd"
   ]
  },
  {
   "cell_type": "code",
   "execution_count": 8,
   "id": "f394dcc8-108b-4c82-8f90-21275eb2bdd4",
   "metadata": {},
   "outputs": [],
   "source": [
    "import base64\n",
    "import requests\n",
    "url_data =\"https://ilovedata.github.io/teaching/bigdata2/data/little-prince.txt\"\n",
    "little_prince = requests.get(url_data)\n",
    "little_prince = little_prince.text"
   ]
  },
  {
   "cell_type": "code",
   "execution_count": 9,
   "id": "a1110615-2738-4b54-8f01-3d5e04730af1",
   "metadata": {},
   "outputs": [
    {
     "data": {
      "text/plain": [
       "'   \\r\\n   어린 왕자\\r\\n   영어동화 (우리말 해석)\\r\\n   생텍쥐페리\\r\\n   \\r\\n   \\r\\n   헌사(받치는 글)\\r\\n   레옹 베르트에게\\r\\n   \\r\\n   먼저 이 글을 어린이들이 아닌 어른들에게 바치는 것에 대해 사과할까 한다. 심심한 사과의 말을 전한다. 하지만 이들 어른들은 세상에서 가장 좋은 친구다. 물론 이 발언에 대해서도 심심한 사과의 말을 전하는 바이다. 이들 어른들은 모든 걸 이해할 수 있다, 심지어 어린이들의 책까지. 이런 세 번째로 사과의 말을 전하는 바이다. 이들 어른들은 프랑스에만 해도 굶 주림과 추위에 살고 있다. 그에겐 아늑함이 필요한 것도 사실이다. 내 사과들이 충분하든 아니든, 난 이 책을 어른이 된 어린이들에게 바치는 바이다. 모든 어른도 출발은 아이들이었다. 하지만 그들 몇몇만 그걸 기억해낼 뿐이다. 그래 내 헌사(받 치는 글)를 다음과 같이 수정할까 한다.\\r\\n   어린이였을 때의\\r\\n   레옹 베르트에게\\r\\n   \\r\\n   ※ 지금부터는 『어린 왕자』(생텍쥐페리의 동화)를 해석해보겠습니다.\\r\\n   \\r\\n   이 동화는 아래 링크의 동화를 우리말로 옮긴 것입니다.\\r\\n   (번역과정에서 구글 번역기를 이용해 1차로 영어원문으로 만든 다음, 그걸 우리말로 읽을 수 있게 좀 수정하고 다듬은 후, 2차로 우리말로 해석했습니다. 따라서 프랑스어 원문과 다를 수 있습니다. 하지만 성실히 번역했기에 큰 줄거리는 맞다고 생각됩니다. 완전한 해석은 아니라는 점 감안해주시고 읽어주세용~♥ 어린 왕자가 좋아서 해석해본 거예요, 제가 읽으려고요. 그러니 많이 읽어주세요~)\\r\\n   \\r\\n   『어린 왕자』(호주의 애들레이드대학교의 인터넷도서관 사이트)(프랑스 원문) ▶ https://ebooks.adelaide.edu.au/s/saint- exupery/antoine_de/le-petit-prince/ (검색 일자 : 2017-12-9)\\r\\n   \\r\\n   \\r\\n   \\r\\n   Le Petit Prince\\r\\n   Le Petit Prince / Antoine de '"
      ]
     },
     "execution_count": 9,
     "metadata": {},
     "output_type": "execute_result"
    }
   ],
   "source": [
    "little_prince[:1000]"
   ]
  },
  {
   "cell_type": "code",
   "execution_count": 10,
   "id": "34ba9f1c-d23d-48eb-90eb-3f7d7c218c97",
   "metadata": {},
   "outputs": [
    {
     "data": {
      "text/plain": [
       "str"
      ]
     },
     "execution_count": 10,
     "metadata": {},
     "output_type": "execute_result"
    }
   ],
   "source": [
    "type(little_prince)"
   ]
  },
  {
   "cell_type": "markdown",
   "id": "e79dbd64-1613-4839-81a8-aa6cd058eaa5",
   "metadata": {},
   "source": [
    "np.char.count(자료, 찾고자 하는 문자열) : 문자열 변수안에 지정된 문자열이 몇 번 나타나는지 세어주는 함수"
   ]
  },
  {
   "cell_type": "code",
   "execution_count": 11,
   "id": "d457720c-9eea-4a54-b5ab-4f205de2f772",
   "metadata": {},
   "outputs": [
    {
     "data": {
      "text/plain": [
       "array(159)"
      ]
     },
     "execution_count": 11,
     "metadata": {},
     "output_type": "execute_result"
    }
   ],
   "source": [
    "np.char.count(little_prince, \"별\")"
   ]
  },
  {
   "cell_type": "markdown",
   "id": "0efc05ad-a9b3-400f-9451-ebbdea0681a7",
   "metadata": {},
   "source": [
    "## 텍스트 나누기"
   ]
  },
  {
   "cell_type": "code",
   "execution_count": 13,
   "id": "fe24599d-1f63-402b-93c8-ff9354b3150d",
   "metadata": {},
   "outputs": [
    {
     "data": {
      "text/plain": [
       "'폭넓은 교양과 심오한 학문적 이론 및 창의적 전문기술을 지닌 지성인을 기른다. 성실한 근면을 바탕으로 책임과 의무를 다하는 건전한 인격을 갖춘 민주 시민을 기른다.'"
      ]
     },
     "execution_count": 13,
     "metadata": {},
     "output_type": "execute_result"
    }
   ],
   "source": [
    "mychar = \"폭넓은 교양과 심오한 학문적 이론 및 창의적 전문기술을 지닌 지성인을 기른다. 성실한 근면을 바탕으로 책임과 의무를 다하는 건전한 인격을 갖춘 민주 시민을 기른다.\"\n",
    "mychar"
   ]
  },
  {
   "cell_type": "code",
   "execution_count": 14,
   "id": "af553e19-5ac9-4834-82a0-52cb9af0e7b4",
   "metadata": {},
   "outputs": [
    {
     "data": {
      "text/plain": [
       "['폭넓은 교양과 심오한 학문적 이론 및 창의적 전문기술',\n",
       " ' 지닌 지성인',\n",
       " ' 기른다. 성실한 근면',\n",
       " ' 바탕으로 책임과 의무를 다하는 건전한 인격',\n",
       " ' 갖춘 민주 시민',\n",
       " ' 기른다.']"
      ]
     },
     "execution_count": 14,
     "metadata": {},
     "output_type": "execute_result"
    }
   ],
   "source": [
    "mychar.split(\"을\")"
   ]
  },
  {
   "cell_type": "code",
   "execution_count": 19,
   "id": "f6842649-b762-4dec-9dcd-f9bd453abe1e",
   "metadata": {},
   "outputs": [],
   "source": [
    "little_prince_chapters = little_prince.split('어린 왕자\\r\\n')"
   ]
  },
  {
   "cell_type": "code",
   "execution_count": null,
   "id": "8b43ccc5-09b6-476d-a633-8c6f451f269a",
   "metadata": {},
   "outputs": [],
   "source": [
    "little_prince_chapters"
   ]
  },
  {
   "cell_type": "code",
   "execution_count": 27,
   "id": "6b3e502a-6b48-4519-a4cd-04795a065829",
   "metadata": {},
   "outputs": [
    {
     "data": {
      "text/html": [
       "<div>\n",
       "<style scoped>\n",
       "    .dataframe tbody tr th:only-of-type {\n",
       "        vertical-align: middle;\n",
       "    }\n",
       "\n",
       "    .dataframe tbody tr th {\n",
       "        vertical-align: top;\n",
       "    }\n",
       "\n",
       "    .dataframe thead th {\n",
       "        text-align: right;\n",
       "    }\n",
       "</style>\n",
       "<table border=\"1\" class=\"dataframe\">\n",
       "  <thead>\n",
       "    <tr style=\"text-align: right;\">\n",
       "      <th></th>\n",
       "      <th>chapters</th>\n",
       "    </tr>\n",
       "  </thead>\n",
       "  <tbody>\n",
       "    <tr>\n",
       "      <th>0</th>\n",
       "      <td>\\r\\n</td>\n",
       "    </tr>\n",
       "    <tr>\n",
       "      <th>1</th>\n",
       "      <td>영어동화 (우리말 해석)\\r\\n   생텍쥐페리\\r\\n   \\r\\n   \\r\\n...</td>\n",
       "    </tr>\n",
       "    <tr>\n",
       "      <th>2</th>\n",
       "      <td>\\r\\n   물론 내 그림은 실제 모습보단 덜해. 그렇다고 내 실수는 아니라고...</td>\n",
       "    </tr>\n",
       "    <tr>\n",
       "      <th>3</th>\n",
       "      <td>4장\\r\\n   \\r\\n   난 곧 아주 중요한 두 번째 사실도 알게 됐는데,...</td>\n",
       "    </tr>\n",
       "    <tr>\n",
       "      <th>4</th>\n",
       "      <td>5장\\r\\n   \\r\\n   난 매일 그 별과 떠나온 이유와 여행에 대해 알게...</td>\n",
       "    </tr>\n",
       "    <tr>\n",
       "      <th>5</th>\n",
       "      <td>6장\\r\\n   \\r\\n   아! 어린 왕자여, 난 이제야 알겠어, 조금씩, ...</td>\n",
       "    </tr>\n",
       "    <tr>\n",
       "      <th>6</th>\n",
       "      <td>7장\\r\\n   \\r\\n   다섯 째 날에도, 항상 양 덕분에, 어린 왕자의 ...</td>\n",
       "    </tr>\n",
       "    <tr>\n",
       "      <th>7</th>\n",
       "      <td>8장\\r\\n   \\r\\n   나는 곧 이 꽃에 대해 알게 되었다. 어린 왕자의...</td>\n",
       "    </tr>\n",
       "    <tr>\n",
       "      <th>8</th>\n",
       "      <td>9장\\r\\n   내 생각에, 어린 왕자는, 철새들이 이동할 때 함께 그 별 을...</td>\n",
       "    </tr>\n",
       "    <tr>\n",
       "      <th>9</th>\n",
       "      <td>10장\\r\\n   어린 왕자의 별 가까이에 소행성 325호, 326호, 327...</td>\n",
       "    </tr>\n",
       "    <tr>\n",
       "      <th>10</th>\n",
       "      <td>11장\\r\\n   \\r\\n   두 번째 별엔 허영심쟁이가 살고 있었어요.\\r\\...</td>\n",
       "    </tr>\n",
       "    <tr>\n",
       "      <th>11</th>\n",
       "      <td>12장\\r\\n   \\r\\n   술꾼\\r\\n   다음으로 간 별엔 술꾼이 살고 ...</td>\n",
       "    </tr>\n",
       "    <tr>\n",
       "      <th>12</th>\n",
       "      <td>13장\\r\\n   \\r\\n   네 번째 별엔 장사꾼이 살고 있었다. 어린 왕자...</td>\n",
       "    </tr>\n",
       "    <tr>\n",
       "      <th>13</th>\n",
       "      <td>14장\\r\\n   \\r\\n   다섯 번째 별은 좀 이상했다. 가장 작았기 때문...</td>\n",
       "    </tr>\n",
       "    <tr>\n",
       "      <th>14</th>\n",
       "      <td>15장\\r\\n   \\r\\n   여섯 번째 별은 열 배는 큰 별이었다. 거기엔 ...</td>\n",
       "    </tr>\n",
       "    <tr>\n",
       "      <th>15</th>\n",
       "      <td>16장\\r\\n   \\r\\n   그리하여 일곱 번째로 들른 별은 지구였다.\\r\\...</td>\n",
       "    </tr>\n",
       "    <tr>\n",
       "      <th>16</th>\n",
       "      <td>17장\\r\\n   \\r\\n   뭔 말을 거창하게 하려다 보면, 허풍이 좀 들어...</td>\n",
       "    </tr>\n",
       "    <tr>\n",
       "      <th>17</th>\n",
       "      <td>18장\\r\\n   \\r\\n   어린 왕자는 사막을 거닐어보았지만 마주친 거라 ...</td>\n",
       "    </tr>\n",
       "    <tr>\n",
       "      <th>18</th>\n",
       "      <td>19장\\r\\n   \\r\\n   어린 왕자는 높은 산에 올랐다. 어린 왕자의 별...</td>\n",
       "    </tr>\n",
       "    <tr>\n",
       "      <th>19</th>\n",
       "      <td>20장\\r\\n   \\r\\n   하지만 어린 왕자는 모랫길과 바위와 눈 뿐인 곳을 한...</td>\n",
       "    </tr>\n",
       "    <tr>\n",
       "      <th>20</th>\n",
       "      <td>21장\\r\\n   \\r\\n   그런데 그때 여우가 나타났다.\\r\\n   \"안녕...</td>\n",
       "    </tr>\n",
       "    <tr>\n",
       "      <th>21</th>\n",
       "      <td>\"넌 누구니?\"라며 어린 왕자가 말했다. \"근데 넌 참 귀엽구나...\" \\r\\...</td>\n",
       "    </tr>\n",
       "    <tr>\n",
       "      <th>22</th>\n",
       "      <td>22장\\r\\n   \\r\\n   \"안녕하세요.\"라며 어린 왕자가 말했다. \"안녕...</td>\n",
       "    </tr>\n",
       "    <tr>\n",
       "      <th>23</th>\n",
       "      <td>23장\\r\\n   \\r\\n   \"안녕하세요.\"라며 어린 왕자가 말했다. \"안녕...</td>\n",
       "    </tr>\n",
       "    <tr>\n",
       "      <th>24</th>\n",
       "      <td>24장\\r\\n   \\r\\n   비행기 고장으로 사막에 떨어진지도 이제 여덟째 ...</td>\n",
       "    </tr>\n",
       "    <tr>\n",
       "      <th>25</th>\n",
       "      <td>25장\\r\\n   \\r\\n   \"사람들은,\"라며 어린 왕자가 말했다. \"서둘러...</td>\n",
       "    </tr>\n",
       "    <tr>\n",
       "      <th>26</th>\n",
       "      <td>26장\\r\\n   \\r\\n   그 우물 가 옆엔 무너진 돌담 하나가 있었다. ...</td>\n",
       "    </tr>\n",
       "    <tr>\n",
       "      <th>27</th>\n",
       "      <td>27장\\r\\n   \\r\\n   물론 지금은 6년이 지난 얘기다... 난 아직 ...</td>\n",
       "    </tr>\n",
       "  </tbody>\n",
       "</table>\n",
       "</div>"
      ],
      "text/plain": [
       "                                             chapters\n",
       "0                                             \\r\\n   \n",
       "1      영어동화 (우리말 해석)\\r\\n   생텍쥐페리\\r\\n   \\r\\n   \\r\\n...\n",
       "2      \\r\\n   물론 내 그림은 실제 모습보단 덜해. 그렇다고 내 실수는 아니라고...\n",
       "3      4장\\r\\n   \\r\\n   난 곧 아주 중요한 두 번째 사실도 알게 됐는데,...\n",
       "4      5장\\r\\n   \\r\\n   난 매일 그 별과 떠나온 이유와 여행에 대해 알게...\n",
       "5      6장\\r\\n   \\r\\n   아! 어린 왕자여, 난 이제야 알겠어, 조금씩, ...\n",
       "6      7장\\r\\n   \\r\\n   다섯 째 날에도, 항상 양 덕분에, 어린 왕자의 ...\n",
       "7      8장\\r\\n   \\r\\n   나는 곧 이 꽃에 대해 알게 되었다. 어린 왕자의...\n",
       "8      9장\\r\\n   내 생각에, 어린 왕자는, 철새들이 이동할 때 함께 그 별 을...\n",
       "9      10장\\r\\n   어린 왕자의 별 가까이에 소행성 325호, 326호, 327...\n",
       "10     11장\\r\\n   \\r\\n   두 번째 별엔 허영심쟁이가 살고 있었어요.\\r\\...\n",
       "11     12장\\r\\n   \\r\\n   술꾼\\r\\n   다음으로 간 별엔 술꾼이 살고 ...\n",
       "12     13장\\r\\n   \\r\\n   네 번째 별엔 장사꾼이 살고 있었다. 어린 왕자...\n",
       "13     14장\\r\\n   \\r\\n   다섯 번째 별은 좀 이상했다. 가장 작았기 때문...\n",
       "14     15장\\r\\n   \\r\\n   여섯 번째 별은 열 배는 큰 별이었다. 거기엔 ...\n",
       "15     16장\\r\\n   \\r\\n   그리하여 일곱 번째로 들른 별은 지구였다.\\r\\...\n",
       "16     17장\\r\\n   \\r\\n   뭔 말을 거창하게 하려다 보면, 허풍이 좀 들어...\n",
       "17     18장\\r\\n   \\r\\n   어린 왕자는 사막을 거닐어보았지만 마주친 거라 ...\n",
       "18     19장\\r\\n   \\r\\n   어린 왕자는 높은 산에 올랐다. 어린 왕자의 별...\n",
       "19  20장\\r\\n   \\r\\n   하지만 어린 왕자는 모랫길과 바위와 눈 뿐인 곳을 한...\n",
       "20     21장\\r\\n   \\r\\n   그런데 그때 여우가 나타났다.\\r\\n   \"안녕...\n",
       "21     \"넌 누구니?\"라며 어린 왕자가 말했다. \"근데 넌 참 귀엽구나...\" \\r\\...\n",
       "22     22장\\r\\n   \\r\\n   \"안녕하세요.\"라며 어린 왕자가 말했다. \"안녕...\n",
       "23     23장\\r\\n   \\r\\n   \"안녕하세요.\"라며 어린 왕자가 말했다. \"안녕...\n",
       "24     24장\\r\\n   \\r\\n   비행기 고장으로 사막에 떨어진지도 이제 여덟째 ...\n",
       "25     25장\\r\\n   \\r\\n   \"사람들은,\"라며 어린 왕자가 말했다. \"서둘러...\n",
       "26     26장\\r\\n   \\r\\n   그 우물 가 옆엔 무너진 돌담 하나가 있었다. ...\n",
       "27     27장\\r\\n   \\r\\n   물론 지금은 6년이 지난 얘기다... 난 아직 ..."
      ]
     },
     "execution_count": 27,
     "metadata": {},
     "output_type": "execute_result"
    }
   ],
   "source": [
    "final = pd.DataFrame({\"chapters\" : little_prince_chapters})\n",
    "final"
   ]
  },
  {
   "cell_type": "markdown",
   "id": "e6be9f82-9229-4f19-a0e9-7a63d6b9cd70",
   "metadata": {},
   "source": [
    "## 문자열 빈도 계산 "
   ]
  },
  {
   "cell_type": "code",
   "execution_count": 30,
   "id": "8b18577e-7e88-4316-8492-8c05dabb2df4",
   "metadata": {},
   "outputs": [
    {
     "data": {
      "text/html": [
       "<div>\n",
       "<style scoped>\n",
       "    .dataframe tbody tr th:only-of-type {\n",
       "        vertical-align: middle;\n",
       "    }\n",
       "\n",
       "    .dataframe tbody tr th {\n",
       "        vertical-align: top;\n",
       "    }\n",
       "\n",
       "    .dataframe thead th {\n",
       "        text-align: right;\n",
       "    }\n",
       "</style>\n",
       "<table border=\"1\" class=\"dataframe\">\n",
       "  <thead>\n",
       "    <tr style=\"text-align: right;\">\n",
       "      <th></th>\n",
       "      <th>chapters</th>\n",
       "    </tr>\n",
       "  </thead>\n",
       "  <tbody>\n",
       "    <tr>\n",
       "      <th>0</th>\n",
       "      <td>0</td>\n",
       "    </tr>\n",
       "    <tr>\n",
       "      <th>1</th>\n",
       "      <td>5</td>\n",
       "    </tr>\n",
       "    <tr>\n",
       "      <th>2</th>\n",
       "      <td>6</td>\n",
       "    </tr>\n",
       "    <tr>\n",
       "      <th>3</th>\n",
       "      <td>7</td>\n",
       "    </tr>\n",
       "    <tr>\n",
       "      <th>4</th>\n",
       "      <td>10</td>\n",
       "    </tr>\n",
       "    <tr>\n",
       "      <th>5</th>\n",
       "      <td>2</td>\n",
       "    </tr>\n",
       "    <tr>\n",
       "      <th>6</th>\n",
       "      <td>5</td>\n",
       "    </tr>\n",
       "    <tr>\n",
       "      <th>7</th>\n",
       "      <td>14</td>\n",
       "    </tr>\n",
       "    <tr>\n",
       "      <th>8</th>\n",
       "      <td>8</td>\n",
       "    </tr>\n",
       "    <tr>\n",
       "      <th>9</th>\n",
       "      <td>24</td>\n",
       "    </tr>\n",
       "    <tr>\n",
       "      <th>10</th>\n",
       "      <td>10</td>\n",
       "    </tr>\n",
       "    <tr>\n",
       "      <th>11</th>\n",
       "      <td>6</td>\n",
       "    </tr>\n",
       "    <tr>\n",
       "      <th>12</th>\n",
       "      <td>11</td>\n",
       "    </tr>\n",
       "    <tr>\n",
       "      <th>13</th>\n",
       "      <td>12</td>\n",
       "    </tr>\n",
       "    <tr>\n",
       "      <th>14</th>\n",
       "      <td>14</td>\n",
       "    </tr>\n",
       "    <tr>\n",
       "      <th>15</th>\n",
       "      <td>0</td>\n",
       "    </tr>\n",
       "    <tr>\n",
       "      <th>16</th>\n",
       "      <td>13</td>\n",
       "    </tr>\n",
       "    <tr>\n",
       "      <th>17</th>\n",
       "      <td>4</td>\n",
       "    </tr>\n",
       "    <tr>\n",
       "      <th>18</th>\n",
       "      <td>7</td>\n",
       "    </tr>\n",
       "    <tr>\n",
       "      <th>19</th>\n",
       "      <td>8</td>\n",
       "    </tr>\n",
       "    <tr>\n",
       "      <th>20</th>\n",
       "      <td>1</td>\n",
       "    </tr>\n",
       "    <tr>\n",
       "      <th>21</th>\n",
       "      <td>23</td>\n",
       "    </tr>\n",
       "    <tr>\n",
       "      <th>22</th>\n",
       "      <td>6</td>\n",
       "    </tr>\n",
       "    <tr>\n",
       "      <th>23</th>\n",
       "      <td>3</td>\n",
       "    </tr>\n",
       "    <tr>\n",
       "      <th>24</th>\n",
       "      <td>12</td>\n",
       "    </tr>\n",
       "    <tr>\n",
       "      <th>25</th>\n",
       "      <td>15</td>\n",
       "    </tr>\n",
       "    <tr>\n",
       "      <th>26</th>\n",
       "      <td>20</td>\n",
       "    </tr>\n",
       "    <tr>\n",
       "      <th>27</th>\n",
       "      <td>12</td>\n",
       "    </tr>\n",
       "  </tbody>\n",
       "</table>\n",
       "</div>"
      ],
      "text/plain": [
       "    chapters\n",
       "0          0\n",
       "1          5\n",
       "2          6\n",
       "3          7\n",
       "4         10\n",
       "5          2\n",
       "6          5\n",
       "7         14\n",
       "8          8\n",
       "9         24\n",
       "10        10\n",
       "11         6\n",
       "12        11\n",
       "13        12\n",
       "14        14\n",
       "15         0\n",
       "16        13\n",
       "17         4\n",
       "18         7\n",
       "19         8\n",
       "20         1\n",
       "21        23\n",
       "22         6\n",
       "23         3\n",
       "24        12\n",
       "25        15\n",
       "26        20\n",
       "27        12"
      ]
     },
     "execution_count": 30,
     "metadata": {},
     "output_type": "execute_result"
    }
   ],
   "source": [
    "counts = final.applymap(lambda x: np.char.count(x, \"어린 왕자\"))\n",
    "counts"
   ]
  },
  {
   "cell_type": "code",
   "execution_count": 32,
   "id": "b0075a5c-3652-4705-b35c-8e29ed8987b8",
   "metadata": {},
   "outputs": [
    {
     "data": {
      "image/png": "[encoded data removed]",
      "text/plain": [
       "<Figure size 720x360 with 1 Axes>"
      ]
     },
     "metadata": {
      "needs_background": "light"
     },
     "output_type": "display_data"
    }
   ],
   "source": [
    "counts.plot();"
   ]
  },
  {
   "cell_type": "markdown",
   "id": "b650cfcd-1f0d-42ec-9f93-738e93cafdae",
   "metadata": {},
   "source": [
    "## 실습 1. 챕터별로 여우, ?, !의 빈도를 계산하고 그림으로 나타내어라."
   ]
  },
  {
   "cell_type": "code",
   "execution_count": 36,
   "id": "8524e56c-48a4-46a0-b2a0-a4145de39f39",
   "metadata": {},
   "outputs": [
    {
     "data": {
      "text/html": [
       "<div>\n",
       "<style scoped>\n",
       "    .dataframe tbody tr th:only-of-type {\n",
       "        vertical-align: middle;\n",
       "    }\n",
       "\n",
       "    .dataframe tbody tr th {\n",
       "        vertical-align: top;\n",
       "    }\n",
       "\n",
       "    .dataframe thead th {\n",
       "        text-align: right;\n",
       "    }\n",
       "</style>\n",
       "<table border=\"1\" class=\"dataframe\">\n",
       "  <thead>\n",
       "    <tr style=\"text-align: right;\">\n",
       "      <th></th>\n",
       "      <th>chapters</th>\n",
       "    </tr>\n",
       "  </thead>\n",
       "  <tbody>\n",
       "    <tr>\n",
       "      <th>0</th>\n",
       "      <td>0</td>\n",
       "    </tr>\n",
       "    <tr>\n",
       "      <th>1</th>\n",
       "      <td>0</td>\n",
       "    </tr>\n",
       "    <tr>\n",
       "      <th>2</th>\n",
       "      <td>0</td>\n",
       "    </tr>\n",
       "    <tr>\n",
       "      <th>3</th>\n",
       "      <td>0</td>\n",
       "    </tr>\n",
       "    <tr>\n",
       "      <th>4</th>\n",
       "      <td>0</td>\n",
       "    </tr>\n",
       "    <tr>\n",
       "      <th>5</th>\n",
       "      <td>0</td>\n",
       "    </tr>\n",
       "    <tr>\n",
       "      <th>6</th>\n",
       "      <td>0</td>\n",
       "    </tr>\n",
       "    <tr>\n",
       "      <th>7</th>\n",
       "      <td>0</td>\n",
       "    </tr>\n",
       "    <tr>\n",
       "      <th>8</th>\n",
       "      <td>0</td>\n",
       "    </tr>\n",
       "    <tr>\n",
       "      <th>9</th>\n",
       "      <td>0</td>\n",
       "    </tr>\n",
       "    <tr>\n",
       "      <th>10</th>\n",
       "      <td>0</td>\n",
       "    </tr>\n",
       "    <tr>\n",
       "      <th>11</th>\n",
       "      <td>0</td>\n",
       "    </tr>\n",
       "    <tr>\n",
       "      <th>12</th>\n",
       "      <td>0</td>\n",
       "    </tr>\n",
       "    <tr>\n",
       "      <th>13</th>\n",
       "      <td>0</td>\n",
       "    </tr>\n",
       "    <tr>\n",
       "      <th>14</th>\n",
       "      <td>0</td>\n",
       "    </tr>\n",
       "    <tr>\n",
       "      <th>15</th>\n",
       "      <td>0</td>\n",
       "    </tr>\n",
       "    <tr>\n",
       "      <th>16</th>\n",
       "      <td>0</td>\n",
       "    </tr>\n",
       "    <tr>\n",
       "      <th>17</th>\n",
       "      <td>0</td>\n",
       "    </tr>\n",
       "    <tr>\n",
       "      <th>18</th>\n",
       "      <td>0</td>\n",
       "    </tr>\n",
       "    <tr>\n",
       "      <th>19</th>\n",
       "      <td>0</td>\n",
       "    </tr>\n",
       "    <tr>\n",
       "      <th>20</th>\n",
       "      <td>3</td>\n",
       "    </tr>\n",
       "    <tr>\n",
       "      <th>21</th>\n",
       "      <td>30</td>\n",
       "    </tr>\n",
       "    <tr>\n",
       "      <th>22</th>\n",
       "      <td>0</td>\n",
       "    </tr>\n",
       "    <tr>\n",
       "      <th>23</th>\n",
       "      <td>0</td>\n",
       "    </tr>\n",
       "    <tr>\n",
       "      <th>24</th>\n",
       "      <td>4</td>\n",
       "    </tr>\n",
       "    <tr>\n",
       "      <th>25</th>\n",
       "      <td>2</td>\n",
       "    </tr>\n",
       "    <tr>\n",
       "      <th>26</th>\n",
       "      <td>0</td>\n",
       "    </tr>\n",
       "    <tr>\n",
       "      <th>27</th>\n",
       "      <td>0</td>\n",
       "    </tr>\n",
       "  </tbody>\n",
       "</table>\n",
       "</div>"
      ],
      "text/plain": [
       "    chapters\n",
       "0          0\n",
       "1          0\n",
       "2          0\n",
       "3          0\n",
       "4          0\n",
       "5          0\n",
       "6          0\n",
       "7          0\n",
       "8          0\n",
       "9          0\n",
       "10         0\n",
       "11         0\n",
       "12         0\n",
       "13         0\n",
       "14         0\n",
       "15         0\n",
       "16         0\n",
       "17         0\n",
       "18         0\n",
       "19         0\n",
       "20         3\n",
       "21        30\n",
       "22         0\n",
       "23         0\n",
       "24         4\n",
       "25         2\n",
       "26         0\n",
       "27         0"
      ]
     },
     "execution_count": 36,
     "metadata": {},
     "output_type": "execute_result"
    }
   ],
   "source": [
    "counts_fox = final.applymap(lambda x : np.char.count(x, \"여우\"))\n",
    "counts_fox"
   ]
  },
  {
   "cell_type": "code",
   "execution_count": 37,
   "id": "97ccace3-31ea-4b18-9765-35010adc5a41",
   "metadata": {},
   "outputs": [
    {
     "data": {
      "text/plain": [
       "<AxesSubplot:>"
      ]
     },
     "execution_count": 37,
     "metadata": {},
     "output_type": "execute_result"
    },
    {
     "data": {
      "image/png": "[encoded data removed]",
      "text/plain": [
       "<Figure size 720x360 with 1 Axes>"
      ]
     },
     "metadata": {
      "needs_background": "light"
     },
     "output_type": "display_data"
    }
   ],
   "source": [
    "counts_fox.plot()"
   ]
  },
  {
   "cell_type": "code",
   "execution_count": 38,
   "id": "76d0ab60-6c4a-48c3-ba86-c727434b2396",
   "metadata": {},
   "outputs": [
    {
     "data": {
      "text/html": [
       "<div>\n",
       "<style scoped>\n",
       "    .dataframe tbody tr th:only-of-type {\n",
       "        vertical-align: middle;\n",
       "    }\n",
       "\n",
       "    .dataframe tbody tr th {\n",
       "        vertical-align: top;\n",
       "    }\n",
       "\n",
       "    .dataframe thead th {\n",
       "        text-align: right;\n",
       "    }\n",
       "</style>\n",
       "<table border=\"1\" class=\"dataframe\">\n",
       "  <thead>\n",
       "    <tr style=\"text-align: right;\">\n",
       "      <th></th>\n",
       "      <th>chapters</th>\n",
       "    </tr>\n",
       "  </thead>\n",
       "  <tbody>\n",
       "    <tr>\n",
       "      <th>0</th>\n",
       "      <td>0</td>\n",
       "    </tr>\n",
       "    <tr>\n",
       "      <th>1</th>\n",
       "      <td>2</td>\n",
       "    </tr>\n",
       "    <tr>\n",
       "      <th>2</th>\n",
       "      <td>11</td>\n",
       "    </tr>\n",
       "    <tr>\n",
       "      <th>3</th>\n",
       "      <td>4</td>\n",
       "    </tr>\n",
       "    <tr>\n",
       "      <th>4</th>\n",
       "      <td>7</td>\n",
       "    </tr>\n",
       "    <tr>\n",
       "      <th>5</th>\n",
       "      <td>3</td>\n",
       "    </tr>\n",
       "    <tr>\n",
       "      <th>6</th>\n",
       "      <td>19</td>\n",
       "    </tr>\n",
       "    <tr>\n",
       "      <th>7</th>\n",
       "      <td>9</td>\n",
       "    </tr>\n",
       "    <tr>\n",
       "      <th>8</th>\n",
       "      <td>1</td>\n",
       "    </tr>\n",
       "    <tr>\n",
       "      <th>9</th>\n",
       "      <td>18</td>\n",
       "    </tr>\n",
       "    <tr>\n",
       "      <th>10</th>\n",
       "      <td>5</td>\n",
       "    </tr>\n",
       "    <tr>\n",
       "      <th>11</th>\n",
       "      <td>1</td>\n",
       "    </tr>\n",
       "    <tr>\n",
       "      <th>12</th>\n",
       "      <td>9</td>\n",
       "    </tr>\n",
       "    <tr>\n",
       "      <th>13</th>\n",
       "      <td>6</td>\n",
       "    </tr>\n",
       "    <tr>\n",
       "      <th>14</th>\n",
       "      <td>14</td>\n",
       "    </tr>\n",
       "    <tr>\n",
       "      <th>15</th>\n",
       "      <td>1</td>\n",
       "    </tr>\n",
       "    <tr>\n",
       "      <th>16</th>\n",
       "      <td>4</td>\n",
       "    </tr>\n",
       "    <tr>\n",
       "      <th>17</th>\n",
       "      <td>0</td>\n",
       "    </tr>\n",
       "    <tr>\n",
       "      <th>18</th>\n",
       "      <td>1</td>\n",
       "    </tr>\n",
       "    <tr>\n",
       "      <th>19</th>\n",
       "      <td>2</td>\n",
       "    </tr>\n",
       "    <tr>\n",
       "      <th>20</th>\n",
       "      <td>0</td>\n",
       "    </tr>\n",
       "    <tr>\n",
       "      <th>21</th>\n",
       "      <td>16</td>\n",
       "    </tr>\n",
       "    <tr>\n",
       "      <th>22</th>\n",
       "      <td>0</td>\n",
       "    </tr>\n",
       "    <tr>\n",
       "      <th>23</th>\n",
       "      <td>0</td>\n",
       "    </tr>\n",
       "    <tr>\n",
       "      <th>24</th>\n",
       "      <td>3</td>\n",
       "    </tr>\n",
       "    <tr>\n",
       "      <th>25</th>\n",
       "      <td>8</td>\n",
       "    </tr>\n",
       "    <tr>\n",
       "      <th>26</th>\n",
       "      <td>17</td>\n",
       "    </tr>\n",
       "    <tr>\n",
       "      <th>27</th>\n",
       "      <td>8</td>\n",
       "    </tr>\n",
       "  </tbody>\n",
       "</table>\n",
       "</div>"
      ],
      "text/plain": [
       "    chapters\n",
       "0          0\n",
       "1          2\n",
       "2         11\n",
       "3          4\n",
       "4          7\n",
       "5          3\n",
       "6         19\n",
       "7          9\n",
       "8          1\n",
       "9         18\n",
       "10         5\n",
       "11         1\n",
       "12         9\n",
       "13         6\n",
       "14        14\n",
       "15         1\n",
       "16         4\n",
       "17         0\n",
       "18         1\n",
       "19         2\n",
       "20         0\n",
       "21        16\n",
       "22         0\n",
       "23         0\n",
       "24         3\n",
       "25         8\n",
       "26        17\n",
       "27         8"
      ]
     },
     "execution_count": 38,
     "metadata": {},
     "output_type": "execute_result"
    }
   ],
   "source": [
    "counts_n = final.applymap(lambda x: np.char.count(x, \"!\"))\n",
    "counts_n"
   ]
  },
  {
   "cell_type": "code",
   "execution_count": 39,
   "id": "ef866302-b56d-4f86-a23c-8de311337fcf",
   "metadata": {},
   "outputs": [
    {
     "data": {
      "text/plain": [
       "<AxesSubplot:>"
      ]
     },
     "execution_count": 39,
     "metadata": {},
     "output_type": "execute_result"
    },
    {
     "data": {
      "image/png": "[encoded data removed]",
      "text/plain": [
       "<Figure size 720x360 with 1 Axes>"
      ]
     },
     "metadata": {
      "needs_background": "light"
     },
     "output_type": "display_data"
    }
   ],
   "source": [
    "counts_n.plot()"
   ]
  },
  {
   "cell_type": "code",
   "execution_count": 41,
   "id": "81beb7ef-1ce9-4bb3-a229-f08f6e36848c",
   "metadata": {},
   "outputs": [
    {
     "data": {
      "text/html": [
       "<div>\n",
       "<style scoped>\n",
       "    .dataframe tbody tr th:only-of-type {\n",
       "        vertical-align: middle;\n",
       "    }\n",
       "\n",
       "    .dataframe tbody tr th {\n",
       "        vertical-align: top;\n",
       "    }\n",
       "\n",
       "    .dataframe thead th {\n",
       "        text-align: right;\n",
       "    }\n",
       "</style>\n",
       "<table border=\"1\" class=\"dataframe\">\n",
       "  <thead>\n",
       "    <tr style=\"text-align: right;\">\n",
       "      <th></th>\n",
       "      <th>chapters</th>\n",
       "    </tr>\n",
       "  </thead>\n",
       "  <tbody>\n",
       "    <tr>\n",
       "      <th>0</th>\n",
       "      <td>0</td>\n",
       "    </tr>\n",
       "    <tr>\n",
       "      <th>1</th>\n",
       "      <td>2</td>\n",
       "    </tr>\n",
       "    <tr>\n",
       "      <th>2</th>\n",
       "      <td>10</td>\n",
       "    </tr>\n",
       "    <tr>\n",
       "      <th>3</th>\n",
       "      <td>7</td>\n",
       "    </tr>\n",
       "    <tr>\n",
       "      <th>4</th>\n",
       "      <td>4</td>\n",
       "    </tr>\n",
       "    <tr>\n",
       "      <th>5</th>\n",
       "      <td>2</td>\n",
       "    </tr>\n",
       "    <tr>\n",
       "      <th>6</th>\n",
       "      <td>7</td>\n",
       "    </tr>\n",
       "    <tr>\n",
       "      <th>7</th>\n",
       "      <td>3</td>\n",
       "    </tr>\n",
       "    <tr>\n",
       "      <th>8</th>\n",
       "      <td>1</td>\n",
       "    </tr>\n",
       "    <tr>\n",
       "      <th>9</th>\n",
       "      <td>11</td>\n",
       "    </tr>\n",
       "    <tr>\n",
       "      <th>10</th>\n",
       "      <td>5</td>\n",
       "    </tr>\n",
       "    <tr>\n",
       "      <th>11</th>\n",
       "      <td>4</td>\n",
       "    </tr>\n",
       "    <tr>\n",
       "      <th>12</th>\n",
       "      <td>20</td>\n",
       "    </tr>\n",
       "    <tr>\n",
       "      <th>13</th>\n",
       "      <td>6</td>\n",
       "    </tr>\n",
       "    <tr>\n",
       "      <th>14</th>\n",
       "      <td>16</td>\n",
       "    </tr>\n",
       "    <tr>\n",
       "      <th>15</th>\n",
       "      <td>0</td>\n",
       "    </tr>\n",
       "    <tr>\n",
       "      <th>16</th>\n",
       "      <td>5</td>\n",
       "    </tr>\n",
       "    <tr>\n",
       "      <th>17</th>\n",
       "      <td>2</td>\n",
       "    </tr>\n",
       "    <tr>\n",
       "      <th>18</th>\n",
       "      <td>5</td>\n",
       "    </tr>\n",
       "    <tr>\n",
       "      <th>19</th>\n",
       "      <td>1</td>\n",
       "    </tr>\n",
       "    <tr>\n",
       "      <th>20</th>\n",
       "      <td>0</td>\n",
       "    </tr>\n",
       "    <tr>\n",
       "      <th>21</th>\n",
       "      <td>13</td>\n",
       "    </tr>\n",
       "    <tr>\n",
       "      <th>22</th>\n",
       "      <td>5</td>\n",
       "    </tr>\n",
       "    <tr>\n",
       "      <th>23</th>\n",
       "      <td>2</td>\n",
       "    </tr>\n",
       "    <tr>\n",
       "      <th>24</th>\n",
       "      <td>2</td>\n",
       "    </tr>\n",
       "    <tr>\n",
       "      <th>25</th>\n",
       "      <td>5</td>\n",
       "    </tr>\n",
       "    <tr>\n",
       "      <th>26</th>\n",
       "      <td>7</td>\n",
       "    </tr>\n",
       "    <tr>\n",
       "      <th>27</th>\n",
       "      <td>2</td>\n",
       "    </tr>\n",
       "  </tbody>\n",
       "</table>\n",
       "</div>"
      ],
      "text/plain": [
       "    chapters\n",
       "0          0\n",
       "1          2\n",
       "2         10\n",
       "3          7\n",
       "4          4\n",
       "5          2\n",
       "6          7\n",
       "7          3\n",
       "8          1\n",
       "9         11\n",
       "10         5\n",
       "11         4\n",
       "12        20\n",
       "13         6\n",
       "14        16\n",
       "15         0\n",
       "16         5\n",
       "17         2\n",
       "18         5\n",
       "19         1\n",
       "20         0\n",
       "21        13\n",
       "22         5\n",
       "23         2\n",
       "24         2\n",
       "25         5\n",
       "26         7\n",
       "27         2"
      ]
     },
     "execution_count": 41,
     "metadata": {},
     "output_type": "execute_result"
    }
   ],
   "source": [
    "counts_m = final.applymap(lambda x: np.char.count(x, \"?\"))\n",
    "counts_m"
   ]
  },
  {
   "cell_type": "code",
   "execution_count": 43,
   "id": "52151cc9-d464-409d-8b47-75a6a3b2e1dd",
   "metadata": {},
   "outputs": [
    {
     "data": {
      "text/plain": [
       "<AxesSubplot:>"
      ]
     },
     "execution_count": 43,
     "metadata": {},
     "output_type": "execute_result"
    },
    {
     "data": {
      "image/png": "[encoded data removed]",
      "text/plain": [
       "<Figure size 720x360 with 1 Axes>"
      ]
     },
     "metadata": {
      "needs_background": "light"
     },
     "output_type": "display_data"
    }
   ],
   "source": [
    "counts_m.plot()"
   ]
  },
  {
   "cell_type": "code",
   "execution_count": null,
   "id": "c5db9f73-95c7-4e6a-9845-934af47633a6",
   "metadata": {},
   "outputs": [],
   "source": []
  },
  {
   "cell_type": "code",
   "execution_count": null,
   "id": "25a9a28e-87a7-4e59-bc6c-ff77218f0f3d",
   "metadata": {},
   "outputs": [],
   "source": []
  },
  {
   "cell_type": "code",
   "execution_count": null,
   "id": "2ec39156-6ae7-4411-bd8c-c853529dc807",
   "metadata": {},
   "outputs": [],
   "source": []
  },
  {
   "cell_type": "code",
   "execution_count": null,
   "id": "30bc8edc-9962-4de7-8098-2d7238822c23",
   "metadata": {},
   "outputs": [],
   "source": []
  },
  {
   "cell_type": "code",
   "execution_count": null,
   "id": "9cbb3737-8e84-415f-b25f-92be40e344e9",
   "metadata": {},
   "outputs": [],
   "source": []
  },
  {
   "cell_type": "code",
   "execution_count": null,
   "id": "4a9a5b46-5691-482e-b3c3-48c1fb989d39",
   "metadata": {},
   "outputs": [],
   "source": []
  },
  {
   "cell_type": "code",
   "execution_count": null,
   "id": "af0aa970-073f-4d36-a342-7dc5f56f6dab",
   "metadata": {},
   "outputs": [],
   "source": []
  }
 ],
 "metadata": {
  "kernelspec": {
   "display_name": "Python 3 (ipykernel)",
   "language": "python",
   "name": "python3"
  },
  "language_info": {
   "codemirror_mode": {
    "name": "ipython",
    "version": 3
   },
   "file_extension": ".py",
   "mimetype": "text/x-python",
   "name": "python",
   "nbconvert_exporter": "python",
   "pygments_lexer": "ipython3",
   "version": "3.9.12"
  }
 },
 "nbformat": 4,
 "nbformat_minor": 5
}
